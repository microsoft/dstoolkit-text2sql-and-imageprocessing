{
  "cells": [
    {
      "cell_type": "markdown",
      "metadata": {},
      "source": [
        "Copyright (c) Microsoft Corporation.\n",
        "\n",
        "Licensed under the MIT License."
      ]
    },
    {
      "cell_type": "markdown",
      "metadata": {},
      "source": [
        "# Text2SQL with Semantic Kernel & Azure OpenAI\n",
        "\n",
        "This notebook demonstrates how the SQL plugin can be integrated with Semantic Kernel and Azure OpenAI to answer questions from the database based on the schemas provided. \n",
        "\n",
        "A multi-shot approach is used for SQL generation for more reliable results and reduced token usage. More details can be found in the README.md."
      ]
    },
    {
      "cell_type": "code",
      "execution_count": 1,
      "metadata": {
        "gather": {
          "logged": 1718623217703
        },
        "jupyter": {
          "outputs_hidden": false,
          "source_hidden": false
        },
        "nteract": {
          "transient": {
            "deleting": false
          }
        }
      },
      "outputs": [],
      "source": [
        "import logging\n",
        "import os\n",
        "import yaml\n",
        "import dotenv\n",
        "import json\n",
        "from semantic_kernel.connectors.ai.open_ai import (\n",
        "    AzureChatCompletion,\n",
        ")\n",
        "from semantic_kernel.contents.chat_history import ChatHistory\n",
        "from semantic_kernel.kernel import Kernel\n",
        "from plugins.vector_based_sql_plugin.vector_based_sql_plugin import VectorBasedSQLPlugin\n",
        "from semantic_kernel.functions.kernel_arguments import KernelArguments\n",
        "from semantic_kernel.prompt_template.prompt_template_config import PromptTemplateConfig\n",
        "from IPython.display import display, Markdown\n",
        "from utils.sql import fetch_queries_from_cache, add_queries_to_cache\n",
        "import time\n",
        "logging.basicConfig(level=logging.INFO)"
      ]
    },
    {
      "cell_type": "markdown",
      "metadata": {},
      "source": [
        "## Kernel Setup"
      ]
    },
    {
      "cell_type": "code",
      "execution_count": 2,
      "metadata": {},
      "outputs": [],
      "source": [
        "dotenv.load_dotenv()\n",
        "kernel = Kernel()"
      ]
    },
    {
      "cell_type": "markdown",
      "metadata": {},
      "source": [
        "## Set up GPT connections"
      ]
    },
    {
      "cell_type": "code",
      "execution_count": 3,
      "metadata": {
        "gather": {
          "logged": 1718623218006
        },
        "jupyter": {
          "outputs_hidden": false,
          "source_hidden": false
        },
        "nteract": {
          "transient": {
            "deleting": false
          }
        }
      },
      "outputs": [],
      "source": [
        "service_id = \"chat\""
      ]
    },
    {
      "cell_type": "code",
      "execution_count": 4,
      "metadata": {
        "gather": {
          "logged": 1718623218267
        },
        "jupyter": {
          "outputs_hidden": false,
          "source_hidden": false
        },
        "nteract": {
          "transient": {
            "deleting": false
          }
        }
      },
      "outputs": [],
      "source": [
        "chat_service = AzureChatCompletion(\n",
        "    service_id=service_id,\n",
        "    deployment_name=os.environ[\"OpenAI__CompletionDeployment\"],\n",
        "    endpoint=os.environ[\"OpenAI__Endpoint\"],\n",
        "    api_key=os.environ[\"OpenAI__ApiKey\"],\n",
        ")\n",
        "kernel.add_service(chat_service)"
      ]
    },
    {
      "cell_type": "code",
      "execution_count": 5,
      "metadata": {
        "gather": {
          "logged": 1718623218614
        },
        "jupyter": {
          "outputs_hidden": false,
          "source_hidden": false
        },
        "nteract": {
          "transient": {
            "deleting": false
          }
        }
      },
      "outputs": [
        {
          "data": {
            "text/plain": [
              "KernelPlugin(name='SQL', description=None, functions={'GetEntitySchema': KernelFunctionFromMethod(metadata=KernelFunctionMetadata(name='GetEntitySchema', plugin_name='SQL', description='Gets the schema of a view or table in the SQL Database by selecting the most relevant entity based on the search term. Extract key terms from the user question and use these as the search term. Several entities may be returned.', parameters=[KernelParameterMetadata(name='text', description='The text to run a semantic search against. Relevant entities will be returned.', default_value=None, type_='str', is_required=True, type_object=<class 'str'>, schema_data={'type': 'string', 'description': 'The text to run a semantic search against. Relevant entities will be returned.'}, function_schema_include=True)], is_prompt=False, is_asynchronous=True, return_parameter=KernelParameterMetadata(name='return', description='', default_value=None, type_='str', is_required=True, type_object=<class 'str'>, schema_data={'type': 'string'}, function_schema_include=True), additional_properties={}), invocation_duration_histogram=<opentelemetry.metrics._internal.instrument._ProxyHistogram object at 0x7faf4d3bc8c0>, streaming_duration_histogram=<opentelemetry.metrics._internal.instrument._ProxyHistogram object at 0x7faf4d6ea030>, method=<bound method VectorBasedSQLPlugin.get_entity_schemas of <plugins.vector_based_sql_plugin.vector_based_sql_plugin.VectorBasedSQLPlugin object at 0x7faf221d44a0>>, stream_method=None), 'RunSQLQuery': KernelFunctionFromMethod(metadata=KernelFunctionMetadata(name='RunSQLQuery', plugin_name='SQL', description='Runs an SQL query against the SQL Database to extract information.', parameters=[KernelParameterMetadata(name='sql_query', description='The SQL query to run against the DB', default_value=None, type_='str', is_required=True, type_object=<class 'str'>, schema_data={'type': 'string', 'description': 'The SQL query to run against the DB'}, function_schema_include=True)], is_prompt=False, is_asynchronous=True, return_parameter=KernelParameterMetadata(name='return', description='', default_value=None, type_='str', is_required=True, type_object=<class 'str'>, schema_data={'type': 'string'}, function_schema_include=True), additional_properties={}), invocation_duration_histogram=<opentelemetry.metrics._internal.instrument._ProxyHistogram object at 0x7faf4d3bc8c0>, streaming_duration_histogram=<opentelemetry.metrics._internal.instrument._ProxyHistogram object at 0x7faf4d6ea030>, method=<bound method VectorBasedSQLPlugin.run_sql_query of <plugins.vector_based_sql_plugin.vector_based_sql_plugin.VectorBasedSQLPlugin object at 0x7faf221d44a0>>, stream_method=None)})"
            ]
          },
          "execution_count": 5,
          "metadata": {},
          "output_type": "execute_result"
        }
      ],
      "source": [
        "# Register the SQL Plugin with the Database name to use.\n",
        "sql_plugin = VectorBasedSQLPlugin(database=os.environ[\"Text2Sql__DatabaseName\"])\n",
        "kernel.add_plugin(sql_plugin, \"SQL\")"
      ]
    },
    {
      "cell_type": "markdown",
      "metadata": {
        "nteract": {
          "transient": {
            "deleting": false
          }
        }
      },
      "source": [
        "## Prompt Setup"
      ]
    },
    {
      "cell_type": "code",
      "execution_count": 6,
      "metadata": {},
      "outputs": [],
      "source": [
        "# Load prompt and execution settings from the file\n",
        "with open(\"./query_cache_based_prompt.yaml\", \"r\") as file:\n",
        "    data = yaml.safe_load(file.read())\n",
        "    prompt_template_config = PromptTemplateConfig(**data)"
      ]
    },
    {
      "cell_type": "code",
      "execution_count": 7,
      "metadata": {},
      "outputs": [],
      "source": [
        "chat_function = kernel.add_function(\n",
        "    prompt_template_config=prompt_template_config,\n",
        "    plugin_name=\"ChatBot\",\n",
        "    function_name=\"Chat\",\n",
        ")"
      ]
    },
    {
      "cell_type": "markdown",
      "metadata": {},
      "source": [
        "## ChatBot setup"
      ]
    },
    {
      "cell_type": "code",
      "execution_count": 8,
      "metadata": {},
      "outputs": [],
      "source": [
        "history = ChatHistory()"
      ]
    },
    {
      "cell_type": "code",
      "execution_count": 9,
      "metadata": {},
      "outputs": [],
      "source": [
        "async def ask_question(question: str, chat_history: ChatHistory) -> str:\n",
        "    \"\"\"Asks a question to the chatbot and returns the answer.\n",
        "    \n",
        "    Args:\n",
        "        question (str): The question to ask the chatbot.\n",
        "        chat_history (ChatHistory): The chat history object.\n",
        "        \n",
        "    Returns:\n",
        "        str: The answer from the chatbot.\n",
        "    \"\"\"\n",
        "\n",
        "    start_time = time.time()\n",
        "    formatted_sql_cache_string = await fetch_queries_from_cache(question)\n",
        "\n",
        "    # Create important information prompt that contains the SQL database information.\n",
        "    engine_specific_rules = \"Use TOP X to limit the number of rows returned instead of LIMIT X. NEVER USE LIMIT X as it produces a syntax error.\"\n",
        "    important_information_prompt = f\"\"\"\n",
        "    [SQL DATABASE INFORMATION]\n",
        "    {sql_plugin.system_prompt(engine_specific_rules=engine_specific_rules)}\n",
        "    [END SQL DATABASE INFORMATION]\n",
        "    \"\"\"\n",
        "\n",
        "    question_string = f\"{question}\\n{formatted_sql_cache_string}\"\n",
        "\n",
        "    arguments = KernelArguments()\n",
        "    arguments[\"chat_history\"] = chat_history\n",
        "    arguments[\"important_information\"] = important_information_prompt\n",
        "    arguments[\"user_input\"] = question_string\n",
        "\n",
        "    logging.info(\"Question: %s\", question)\n",
        "\n",
        "    answer = await kernel.invoke(\n",
        "        function_name=\"Chat\",\n",
        "        plugin_name=\"ChatBot\",\n",
        "        arguments=arguments,\n",
        "        chat_history=chat_history,\n",
        "    )\n",
        "\n",
        "    logging.info(\"Answer: %s\", answer)\n",
        "\n",
        "    end_time = time.time()\n",
        "    logging.info(\"Time taken: %s\", end_time - start_time)\n",
        "\n",
        "    # Log the question and answer to the chat history.\n",
        "    chat_history.add_user_message(question)\n",
        "    chat_history.add_message({\"role\": \"assistant\", \"message\": answer})\n",
        "\n",
        "    json_answer = json.loads(str(answer))\n",
        "\n",
        "    display(Markdown(json_answer[\"answer\"]))\n",
        "\n",
        "    await add_queries_to_cache(question, json_answer)"
      ]
    },
    {
      "cell_type": "code",
      "execution_count": 10,
      "metadata": {},
      "outputs": [
        {
          "name": "stderr",
          "output_type": "stream",
          "text": [
            "INFO:httpx:HTTP Request: POST https://open-ai-gpt-001.openai.azure.com/openai/deployments/text-embedding-ada-002/embeddings?api-version=2023-03-15-preview \"HTTP/1.1 200 OK\"\n",
            "INFO:azure.core.pipeline.policies.http_logging_policy:Request URL: 'https://open-ai-vector-db.search.windows.net/indexes('text-2-sql-query-cache-index')/docs/search.post.search?api-version=REDACTED'\n",
            "Request method: 'POST'\n",
            "Request headers:\n",
            "    'Content-Type': 'application/json'\n",
            "    'Content-Length': '34853'\n",
            "    'api-key': 'REDACTED'\n",
            "    'Accept': 'application/json;odata.metadata=none'\n",
            "    'x-ms-client-request-id': 'e6747646-769e-11ef-b139-0242ac110002'\n",
            "    'User-Agent': 'azsdk-python-search-documents/11.6.0b4 Python/3.12.6 (Linux-5.15.153.1-microsoft-standard-WSL2-x86_64-with-glibc2.36)'\n",
            "A body is sent with the request\n",
            "INFO:azure.core.pipeline.policies.http_logging_policy:Response status: 200\n",
            "Response headers:\n",
            "    'Transfer-Encoding': 'chunked'\n",
            "    'Content-Type': 'application/json; odata.metadata=none; odata.streaming=true; charset=utf-8'\n",
            "    'Content-Encoding': 'REDACTED'\n",
            "    'Vary': 'REDACTED'\n",
            "    'Server': 'Microsoft-IIS/10.0'\n",
            "    'Strict-Transport-Security': 'REDACTED'\n",
            "    'Preference-Applied': 'REDACTED'\n",
            "    'OData-Version': 'REDACTED'\n",
            "    'request-id': 'e6747646-769e-11ef-b139-0242ac110002'\n",
            "    'elapsed-time': 'REDACTED'\n",
            "    'Strict-Transport-Security': 'REDACTED'\n",
            "    'Date': 'Thu, 19 Sep 2024 15:50:33 GMT'\n",
            "INFO:root:Item: {'Schemas': [{'Entity': 'vGetAllCategories', 'Columns': [{'Name': 'ProductCategoryID', 'Definition': 'A unique identifier for each product category. This ID is used to reference specific categories.', 'Type': 'INT', 'AllowedValues': None, 'SampleValues': None}, {'Name': 'ParentProductCategoryName', 'Definition': 'The name of the parent product category. This represents the top-level category under which subcategories are grouped.', 'Type': 'NVARCHAR(50)', 'AllowedValues': None, 'SampleValues': None}, {'Name': 'ProductCategoryName', 'Definition': 'The name of the product category. This can refer to either a top-level category or a subcategory, depending on the context.', 'Type': 'NVARCHAR(50)', 'AllowedValues': None, 'SampleValues': None}]}], 'Question': 'What are the different product categories we have?', 'Query': 'SELECT DISTINCT ProductCategoryName FROM SalesLT.vGetAllCategories;', '@search.score': 0.03333333507180214, '@search.reranker_score': 3.0755207538604736, '@search.highlights': None, '@search.captions': None}\n",
            "INFO:root:Item: {'Schemas': [{'Entity': 'vGetAllCategories', 'Columns': [{'Name': 'ProductCategoryID', 'Definition': 'A unique identifier for each product category. This ID is used to reference specific categories.', 'Type': 'INT', 'AllowedValues': None, 'SampleValues': None}, {'Name': 'ParentProductCategoryName', 'Definition': 'The name of the parent product category. This represents the top-level category under which subcategories are grouped.', 'Type': 'NVARCHAR(50)', 'AllowedValues': None, 'SampleValues': None}, {'Name': 'ProductCategoryName', 'Definition': 'The name of the product category. This can refer to either a top-level category or a subcategory, depending on the context.', 'Type': 'NVARCHAR(50)', 'AllowedValues': None, 'SampleValues': None}]}], 'Question': 'How many different product categories do we have?', 'Query': 'SELECT COUNT(DISTINCT ProductCategoryName) AS NumberOfCategories FROM SalesLT.vGetAllCategories;', '@search.score': 0.032786883413791656, '@search.reranker_score': 2.420649528503418, '@search.highlights': None, '@search.captions': None}\n",
            "INFO:root:Results: [{'Schemas': [{'Entity': 'vGetAllCategories', 'Columns': [{'Name': 'ProductCategoryID', 'Definition': 'A unique identifier for each product category. This ID is used to reference specific categories.', 'Type': 'INT', 'AllowedValues': None, 'SampleValues': None}, {'Name': 'ParentProductCategoryName', 'Definition': 'The name of the parent product category. This represents the top-level category under which subcategories are grouped.', 'Type': 'NVARCHAR(50)', 'AllowedValues': None, 'SampleValues': None}, {'Name': 'ProductCategoryName', 'Definition': 'The name of the product category. This can refer to either a top-level category or a subcategory, depending on the context.', 'Type': 'NVARCHAR(50)', 'AllowedValues': None, 'SampleValues': None}]}], 'Question': 'What are the different product categories we have?', 'Query': 'SELECT DISTINCT ProductCategoryName FROM SalesLT.vGetAllCategories;', '@search.score': 0.03333333507180214, '@search.reranker_score': 3.0755207538604736, '@search.highlights': None, '@search.captions': None}, {'Schemas': [{'Entity': 'vGetAllCategories', 'Columns': [{'Name': 'ProductCategoryID', 'Definition': 'A unique identifier for each product category. This ID is used to reference specific categories.', 'Type': 'INT', 'AllowedValues': None, 'SampleValues': None}, {'Name': 'ParentProductCategoryName', 'Definition': 'The name of the parent product category. This represents the top-level category under which subcategories are grouped.', 'Type': 'NVARCHAR(50)', 'AllowedValues': None, 'SampleValues': None}, {'Name': 'ProductCategoryName', 'Definition': 'The name of the product category. This can refer to either a top-level category or a subcategory, depending on the context.', 'Type': 'NVARCHAR(50)', 'AllowedValues': None, 'SampleValues': None}]}], 'Question': 'How many different product categories do we have?', 'Query': 'SELECT COUNT(DISTINCT ProductCategoryName) AS NumberOfCategories FROM SalesLT.vGetAllCategories;', '@search.score': 0.032786883413791656, '@search.reranker_score': 2.420649528503418, '@search.highlights': None, '@search.captions': None}]\n",
            "INFO:root:Cached schemas: [{'Schemas': [{'Entity': 'vGetAllCategories', 'Columns': [{'Name': 'ProductCategoryID', 'Definition': 'A unique identifier for each product category. This ID is used to reference specific categories.', 'Type': 'INT', 'AllowedValues': None, 'SampleValues': None}, {'Name': 'ParentProductCategoryName', 'Definition': 'The name of the parent product category. This represents the top-level category under which subcategories are grouped.', 'Type': 'NVARCHAR(50)', 'AllowedValues': None, 'SampleValues': None}, {'Name': 'ProductCategoryName', 'Definition': 'The name of the product category. This can refer to either a top-level category or a subcategory, depending on the context.', 'Type': 'NVARCHAR(50)', 'AllowedValues': None, 'SampleValues': None}]}], 'Question': 'What are the different product categories we have?', 'Query': 'SELECT DISTINCT ProductCategoryName FROM SalesLT.vGetAllCategories;', '@search.score': 0.03333333507180214, '@search.reranker_score': 3.0755207538604736, '@search.highlights': None, '@search.captions': None}, {'Schemas': [{'Entity': 'vGetAllCategories', 'Columns': [{'Name': 'ProductCategoryID', 'Definition': 'A unique identifier for each product category. This ID is used to reference specific categories.', 'Type': 'INT', 'AllowedValues': None, 'SampleValues': None}, {'Name': 'ParentProductCategoryName', 'Definition': 'The name of the parent product category. This represents the top-level category under which subcategories are grouped.', 'Type': 'NVARCHAR(50)', 'AllowedValues': None, 'SampleValues': None}, {'Name': 'ProductCategoryName', 'Definition': 'The name of the product category. This can refer to either a top-level category or a subcategory, depending on the context.', 'Type': 'NVARCHAR(50)', 'AllowedValues': None, 'SampleValues': None}]}], 'Question': 'How many different product categories do we have?', 'Query': 'SELECT COUNT(DISTINCT ProductCategoryName) AS NumberOfCategories FROM SalesLT.vGetAllCategories;', '@search.score': 0.032786883413791656, '@search.reranker_score': 2.420649528503418, '@search.highlights': None, '@search.captions': None}]\n",
            "INFO:root:Score is greater than 3\n",
            "INFO:root:SQL Query: SELECT DISTINCT ProductCategoryName FROM SalesLT.vGetAllCategories;\n"
          ]
        },
        {
          "ename": "InterfaceError",
          "evalue": "('IM002', '[IM002] [unixODBC][Driver Manager]Data source name not found and no default driver specified (0) (SQLDriverConnect)')",
          "output_type": "error",
          "traceback": [
            "\u001b[0;31m---------------------------------------------------------------------------\u001b[0m",
            "\u001b[0;31mInterfaceError\u001b[0m                            Traceback (most recent call last)",
            "Cell \u001b[0;32mIn[10], line 1\u001b[0m\n\u001b[0;32m----> 1\u001b[0m \u001b[38;5;28;01mawait\u001b[39;00m ask_question(\u001b[38;5;124m\"\u001b[39m\u001b[38;5;124mWhat are the different product categories we have?\u001b[39m\u001b[38;5;124m\"\u001b[39m, history)\n",
            "Cell \u001b[0;32mIn[9], line 13\u001b[0m, in \u001b[0;36mask_question\u001b[0;34m(question, chat_history)\u001b[0m\n\u001b[1;32m      2\u001b[0m \u001b[38;5;250m\u001b[39m\u001b[38;5;124;03m\"\"\"Asks a question to the chatbot and returns the answer.\u001b[39;00m\n\u001b[1;32m      3\u001b[0m \u001b[38;5;124;03m\u001b[39;00m\n\u001b[1;32m      4\u001b[0m \u001b[38;5;124;03mArgs:\u001b[39;00m\n\u001b[0;32m   (...)\u001b[0m\n\u001b[1;32m      9\u001b[0m \u001b[38;5;124;03m    str: The answer from the chatbot.\u001b[39;00m\n\u001b[1;32m     10\u001b[0m \u001b[38;5;124;03m\"\"\"\u001b[39;00m\n\u001b[1;32m     12\u001b[0m start_time \u001b[38;5;241m=\u001b[39m time\u001b[38;5;241m.\u001b[39mtime()\n\u001b[0;32m---> 13\u001b[0m formatted_sql_cache_string \u001b[38;5;241m=\u001b[39m \u001b[38;5;28;01mawait\u001b[39;00m fetch_queries_from_cache(question)\n\u001b[1;32m     15\u001b[0m \u001b[38;5;66;03m# Create important information prompt that contains the SQL database information.\u001b[39;00m\n\u001b[1;32m     16\u001b[0m engine_specific_rules \u001b[38;5;241m=\u001b[39m \u001b[38;5;124m\"\u001b[39m\u001b[38;5;124mUse TOP X to limit the number of rows returned instead of LIMIT X. NEVER USE LIMIT X as it produces a syntax error.\u001b[39m\u001b[38;5;124m\"\u001b[39m\n",
            "File \u001b[0;32m/workspaces/dstoolkit-text2sql-and-imageprocessing/text_2_sql/utils/sql.py:91\u001b[0m, in \u001b[0;36mfetch_queries_from_cache\u001b[0;34m(question)\u001b[0m\n\u001b[1;32m     88\u001b[0m logging\u001b[38;5;241m.\u001b[39minfo(\u001b[38;5;124m\"\u001b[39m\u001b[38;5;124mSQL Query: \u001b[39m\u001b[38;5;132;01m%s\u001b[39;00m\u001b[38;5;124m\"\u001b[39m, sql_query)\n\u001b[1;32m     90\u001b[0m \u001b[38;5;66;03m# Run the SQL query\u001b[39;00m\n\u001b[0;32m---> 91\u001b[0m sql_result \u001b[38;5;241m=\u001b[39m \u001b[38;5;28;01mawait\u001b[39;00m run_sql_query(sql_query)\n\u001b[1;32m     92\u001b[0m logging\u001b[38;5;241m.\u001b[39minfo(\u001b[38;5;124m\"\u001b[39m\u001b[38;5;124mSQL Query Result: \u001b[39m\u001b[38;5;132;01m%s\u001b[39;00m\u001b[38;5;124m\"\u001b[39m, sql_result)\n\u001b[1;32m     94\u001b[0m pre_computed_match \u001b[38;5;241m=\u001b[39m \u001b[38;5;124mf\u001b[39m\u001b[38;5;124m\"\u001b[39m\u001b[38;5;124mPre-run SQL result from the cache using query \u001b[39m\u001b[38;5;124m'\u001b[39m\u001b[38;5;132;01m{\u001b[39;00m\n\u001b[1;32m     95\u001b[0m \u001b[38;5;250m    \u001b[39mcached_schemas[\u001b[38;5;241m0\u001b[39m][\u001b[38;5;124m\"\u001b[39m\u001b[38;5;124mQuery\u001b[39m\u001b[38;5;124m\"\u001b[39m]\u001b[38;5;132;01m}\u001b[39;00m\u001b[38;5;124m'\u001b[39m\u001b[38;5;124m:\u001b[39m\u001b[38;5;130;01m\\n\u001b[39;00m\u001b[38;5;132;01m{\u001b[39;00mjson\u001b[38;5;241m.\u001b[39mdumps(sql_result,\u001b[38;5;250m \u001b[39mdefault\u001b[38;5;241m=\u001b[39m\u001b[38;5;28mstr\u001b[39m)\u001b[38;5;132;01m}\u001b[39;00m\u001b[38;5;130;01m\\n\u001b[39;00m\u001b[38;5;124m\"\u001b[39m\n",
            "File \u001b[0;32m/workspaces/dstoolkit-text2sql-and-imageprocessing/text_2_sql/utils/sql.py:22\u001b[0m, in \u001b[0;36mrun_sql_query\u001b[0;34m(sql_query)\u001b[0m\n\u001b[1;32m     11\u001b[0m \u001b[38;5;250m\u001b[39m\u001b[38;5;124;03m\"\"\"Run the SQL query against the database.\u001b[39;00m\n\u001b[1;32m     12\u001b[0m \n\u001b[1;32m     13\u001b[0m \u001b[38;5;124;03mArgs:\u001b[39;00m\n\u001b[0;32m   (...)\u001b[0m\n\u001b[1;32m     19\u001b[0m \u001b[38;5;124;03m    list[dict]: The results of the SQL query.\u001b[39;00m\n\u001b[1;32m     20\u001b[0m \u001b[38;5;124;03m\"\"\"\u001b[39;00m\n\u001b[1;32m     21\u001b[0m connection_string \u001b[38;5;241m=\u001b[39m os\u001b[38;5;241m.\u001b[39menviron[\u001b[38;5;124m\"\u001b[39m\u001b[38;5;124mText2Sql__DatabaseConnectionString\u001b[39m\u001b[38;5;124m\"\u001b[39m]\n\u001b[0;32m---> 22\u001b[0m \u001b[38;5;28;01masync\u001b[39;00m \u001b[38;5;28;01mwith\u001b[39;00m \u001b[38;5;28;01mawait\u001b[39;00m aioodbc\u001b[38;5;241m.\u001b[39mconnect(dsn\u001b[38;5;241m=\u001b[39mconnection_string) \u001b[38;5;28;01mas\u001b[39;00m sql_db_client:\n\u001b[1;32m     23\u001b[0m     \u001b[38;5;28;01masync\u001b[39;00m \u001b[38;5;28;01mwith\u001b[39;00m sql_db_client\u001b[38;5;241m.\u001b[39mcursor() \u001b[38;5;28;01mas\u001b[39;00m cursor:\n\u001b[1;32m     24\u001b[0m         \u001b[38;5;28;01mawait\u001b[39;00m cursor\u001b[38;5;241m.\u001b[39mexecute(sql_query)\n",
            "File \u001b[0;32m~/.local/lib/python3.12/site-packages/aioodbc/connection.py:277\u001b[0m, in \u001b[0;36m_connect\u001b[0;34m(dsn, autocommit, ansi, timeout, executor, echo, after_created, **kwargs)\u001b[0m\n\u001b[1;32m    255\u001b[0m \u001b[38;5;28;01masync\u001b[39;00m \u001b[38;5;28;01mdef\u001b[39;00m \u001b[38;5;21m_connect\u001b[39m(\n\u001b[1;32m    256\u001b[0m     \u001b[38;5;241m*\u001b[39m,\n\u001b[1;32m    257\u001b[0m     dsn,\n\u001b[0;32m   (...)\u001b[0m\n\u001b[1;32m    264\u001b[0m     \u001b[38;5;241m*\u001b[39m\u001b[38;5;241m*\u001b[39mkwargs,\n\u001b[1;32m    265\u001b[0m ):\n\u001b[1;32m    266\u001b[0m     conn \u001b[38;5;241m=\u001b[39m Connection(\n\u001b[1;32m    267\u001b[0m         dsn\u001b[38;5;241m=\u001b[39mdsn,\n\u001b[1;32m    268\u001b[0m         autocommit\u001b[38;5;241m=\u001b[39mautocommit,\n\u001b[0;32m   (...)\u001b[0m\n\u001b[1;32m    275\u001b[0m         \u001b[38;5;241m*\u001b[39m\u001b[38;5;241m*\u001b[39mkwargs,\n\u001b[1;32m    276\u001b[0m     )\n\u001b[0;32m--> 277\u001b[0m     \u001b[38;5;28;01mawait\u001b[39;00m conn\u001b[38;5;241m.\u001b[39m_connect()\n\u001b[1;32m    278\u001b[0m     \u001b[38;5;28;01mreturn\u001b[39;00m conn\n",
            "File \u001b[0;32m~/.local/lib/python3.12/site-packages/aioodbc/connection.py:81\u001b[0m, in \u001b[0;36mConnection._connect\u001b[0;34m(self)\u001b[0m\n\u001b[1;32m     71\u001b[0m \u001b[38;5;28;01masync\u001b[39;00m \u001b[38;5;28;01mdef\u001b[39;00m \u001b[38;5;21m_connect\u001b[39m(\u001b[38;5;28mself\u001b[39m) \u001b[38;5;241m-\u001b[39m\u001b[38;5;241m>\u001b[39m \u001b[38;5;28;01mNone\u001b[39;00m:\n\u001b[1;32m     72\u001b[0m     \u001b[38;5;66;03m# create pyodbc connection\u001b[39;00m\n\u001b[1;32m     73\u001b[0m     f \u001b[38;5;241m=\u001b[39m \u001b[38;5;28mself\u001b[39m\u001b[38;5;241m.\u001b[39m_execute(\n\u001b[1;32m     74\u001b[0m         pyodbc\u001b[38;5;241m.\u001b[39mconnect,\n\u001b[1;32m     75\u001b[0m         \u001b[38;5;28mself\u001b[39m\u001b[38;5;241m.\u001b[39m_dsn,\n\u001b[0;32m   (...)\u001b[0m\n\u001b[1;32m     79\u001b[0m         \u001b[38;5;241m*\u001b[39m\u001b[38;5;241m*\u001b[39m\u001b[38;5;28mself\u001b[39m\u001b[38;5;241m.\u001b[39m_kwargs,\n\u001b[1;32m     80\u001b[0m     )\n\u001b[0;32m---> 81\u001b[0m     \u001b[38;5;28mself\u001b[39m\u001b[38;5;241m.\u001b[39m_conn \u001b[38;5;241m=\u001b[39m \u001b[38;5;28;01mawait\u001b[39;00m f\n\u001b[1;32m     82\u001b[0m     \u001b[38;5;28;01mif\u001b[39;00m \u001b[38;5;28mself\u001b[39m\u001b[38;5;241m.\u001b[39m_posthook \u001b[38;5;129;01mis\u001b[39;00m \u001b[38;5;129;01mnot\u001b[39;00m \u001b[38;5;28;01mNone\u001b[39;00m:\n\u001b[1;32m     83\u001b[0m         \u001b[38;5;28;01mawait\u001b[39;00m \u001b[38;5;28mself\u001b[39m\u001b[38;5;241m.\u001b[39m_posthook(\u001b[38;5;28mself\u001b[39m\u001b[38;5;241m.\u001b[39m_conn)\n",
            "File \u001b[0;32m/usr/local/lib/python3.12/concurrent/futures/thread.py:58\u001b[0m, in \u001b[0;36m_WorkItem.run\u001b[0;34m(self)\u001b[0m\n\u001b[1;32m     55\u001b[0m     \u001b[38;5;28;01mreturn\u001b[39;00m\n\u001b[1;32m     57\u001b[0m \u001b[38;5;28;01mtry\u001b[39;00m:\n\u001b[0;32m---> 58\u001b[0m     result \u001b[38;5;241m=\u001b[39m \u001b[38;5;28;43mself\u001b[39;49m\u001b[38;5;241;43m.\u001b[39;49m\u001b[43mfn\u001b[49m\u001b[43m(\u001b[49m\u001b[38;5;241;43m*\u001b[39;49m\u001b[38;5;28;43mself\u001b[39;49m\u001b[38;5;241;43m.\u001b[39;49m\u001b[43margs\u001b[49m\u001b[43m,\u001b[49m\u001b[43m \u001b[49m\u001b[38;5;241;43m*\u001b[39;49m\u001b[38;5;241;43m*\u001b[39;49m\u001b[38;5;28;43mself\u001b[39;49m\u001b[38;5;241;43m.\u001b[39;49m\u001b[43mkwargs\u001b[49m\u001b[43m)\u001b[49m\n\u001b[1;32m     59\u001b[0m \u001b[38;5;28;01mexcept\u001b[39;00m \u001b[38;5;167;01mBaseException\u001b[39;00m \u001b[38;5;28;01mas\u001b[39;00m exc:\n\u001b[1;32m     60\u001b[0m     \u001b[38;5;28mself\u001b[39m\u001b[38;5;241m.\u001b[39mfuture\u001b[38;5;241m.\u001b[39mset_exception(exc)\n",
            "\u001b[0;31mInterfaceError\u001b[0m: ('IM002', '[IM002] [unixODBC][Driver Manager]Data source name not found and no default driver specified (0) (SQLDriverConnect)')"
          ]
        }
      ],
      "source": [
        "await ask_question(\"What are the different product categories we have?\", history)"
      ]
    },
    {
      "cell_type": "code",
      "execution_count": null,
      "metadata": {},
      "outputs": [
        {
          "name": "stderr",
          "output_type": "stream",
          "text": [
            "INFO:httpx:HTTP Request: POST https://open-ai-gpt-001.openai.azure.com/openai/deployments/text-embedding-ada-002/embeddings?api-version=2023-03-15-preview \"HTTP/1.1 200 OK\"\n",
            "INFO:azure.core.pipeline.policies.http_logging_policy:Request URL: 'https://open-ai-vector-db.search.windows.net/indexes('text-2-sql-query-cache-index')/docs/search.post.search?api-version=REDACTED'\n",
            "Request method: 'POST'\n",
            "Request headers:\n",
            "    'Content-Type': 'application/json'\n",
            "    'Content-Length': '34669'\n",
            "    'api-key': 'REDACTED'\n",
            "    'Accept': 'application/json;odata.metadata=none'\n",
            "    'x-ms-client-request-id': 'c4e2f93e-7681-11ef-9237-0242ac110002'\n",
            "    'User-Agent': 'azsdk-python-search-documents/11.6.0b4 Python/3.12.6 (Linux-5.15.153.1-microsoft-standard-WSL2-x86_64-with-glibc2.36)'\n",
            "A body is sent with the request\n",
            "INFO:azure.core.pipeline.policies.http_logging_policy:Response status: 200\n",
            "Response headers:\n",
            "    'Transfer-Encoding': 'chunked'\n",
            "    'Content-Type': 'application/json; odata.metadata=none; odata.streaming=true; charset=utf-8'\n",
            "    'Content-Encoding': 'REDACTED'\n",
            "    'Vary': 'REDACTED'\n",
            "    'Server': 'Microsoft-IIS/10.0'\n",
            "    'Strict-Transport-Security': 'REDACTED'\n",
            "    'Preference-Applied': 'REDACTED'\n",
            "    'OData-Version': 'REDACTED'\n",
            "    'request-id': 'c4e2f93e-7681-11ef-9237-0242ac110002'\n",
            "    'elapsed-time': 'REDACTED'\n",
            "    'Strict-Transport-Security': 'REDACTED'\n",
            "    'Date': 'Thu, 19 Sep 2024 12:22:01 GMT'\n",
            "INFO:root:Results: []\n",
            "INFO:root:Question: How many different product categories do we have?\n",
            "INFO:semantic_kernel.functions.kernel_function:Function ChatBot-Chat invoking.\n",
            "INFO:semantic_kernel.contents.chat_history:Could not parse prompt <message role=\"system\">\n",
            "As a senior analyst, your primary responsibility is to provide precise and thorough answers to the user's queries. Utilize all the provided functions to craft your responses. You must deliver detailed and accurate final answers with clear explanations and actionable insights.\n",
            "\n",
            "Always use the provided functions to obtain key information in order to answer the question.\n",
            "If you are asked to use always use a function, you must use that function to compliment the answer.\n",
            "Always use multiple functions to formulate the answer.\n",
            "Always execute multiple functions in parallel to compliment the results.\n",
            "\n",
            "The response to the user must meet the requirements in RESPONSE OUTPUT REQUIREMENTS.\n",
            "IMPORTANT INFORMATION contains useful information that you can use to aid your knowledge.\n",
            "CHAT HISTORY contains the previous question and answer pairs in the conversation in JSON format. Do not use this information to answer the question, but to provide context on what was asked previously.\n",
            "\n",
            "[IMPORTANT INFORMATION]\n",
            "\n",
            "\n",
            "    [SQL DATABASE INFORMATION]\n",
            "    First look at the cached queries, SQL templates and schemas to see if you can use them to formulate a SQL query. If you can&#x27;t find a suitable query, use the &#x27;GetEntitySchema()&#x27; function to search for the most relevant schemas for the data that you wish to obtain.\n",
            "\n",
            "            [BEGIN QUERY CACHE]\n",
            "            []\n",
            "            [END QUERY CACHE]\n",
            "            \n",
            "\n",
            "        Use the &#x27;RunSQLQuery()&#x27; function to run the SQL query against the database.\n",
            "\n",
            "        Output corresponding text values in the answer for columns where there is an ID. For example, if the column is &#x27;ProductID&#x27;, output the corresponding &#x27;ProductModel&#x27; in the response. Do not include the ID in the response.\n",
            "        If a user is asking for a comparison, always compare the relevant values in the database.\n",
            "\n",
            "        The target database engine is Microsoft TSQL Server, SQL queries must be able compatible to run on Microsoft TSQL Server. \n",
            "        The following Microsoft TSQL Server Syntax rules must be adhered to.\n",
            "        Use TOP X to limit the number of rows returned instead of LIMIT X. NEVER USE LIMIT X as it produces a syntax error.\n",
            "        You must only provide SELECT SQL queries.\n",
            "        For a given entity, use the &#x27;SelectFromEntity&#x27; property returned in the schema in the SELECT FROM part of the SQL query. If the property is {&#x27;SelectFromEntity&#x27;: &#x27;test_schema.test_table&#x27;}, the select statement will be formulated from &#x27;SELECT &lt;VALUES&gt; FROM test_schema.test_table WHERE &lt;CONDITION&gt;.\n",
            "\n",
            "        If you don&#x27;t know how the value is formatted in a column, run a query against the column to get the unique values that might match your query.\n",
            "        Some columns in the schema may have the properties &#x27;AllowedValues&#x27; or &#x27;SampleValues&#x27;. Use these values to determine the possible values that can be used in the SQL query.\n",
            "\n",
            "        The source title to cite is the &#x27;EntityName&#x27; property. The source reference is the SQL query used. The source chunk is the result of the SQL query used to answer the user query in Markdown table format. e.g. { &#x27;title&#x27;: &quot;vProductAndDescription&quot;, &#x27;chunk&#x27;: &#x27;| ProductID | Name              | ProductModel | Culture | Description                      |\\n|-----------|-------------------|--------------|---------|----------------------------------|\\n| 101       | Mountain Bike     | MT-100       | en      | A durable bike for mountain use. |\\n| 102       | Road Bike         | RB-200       | en      | Lightweight bike for road use.   |\\n| 103       | Hybrid Bike       | HB-300       | fr      | V\u00e9lo hybride pour usage mixte.   |\\n&#x27;, &#x27;reference&#x27;: &#x27;SELECT ProductID, Name, ProductModel, Culture, Description FROM vProductAndDescription WHERE Culture = &quot;en&quot;;&#x27; }\n",
            "    [END SQL DATABASE INFORMATION]\n",
            "    \n",
            "\n",
            "[END IMPORTANT INFORMATION]\n",
            "\n",
            "[RESPONSE OUTPUT REQUIREMENTS]\n",
            "\n",
            "  The answer MUST be returned in JSON format as { \"answer\": \"<GENERATED ANSWER>\", \"sources\": [ {\"title\": <SOURCE 1 TITLE>, \"chunk\": <SOURCE 1 CONTEXT CHUNK>, \"reference\": \"<SOURCE 1 REFERENCE>\"}, {\"title\": <SOURCE 2 TITLE>, \"chunk\": <SOURCE 2 CONTEXT CHUNK>, \"reference\": \"<SOURCE 2 REFERENCE>\"} ], \"schemas\": [ <SCHEMAS USED> ] }.\n",
            "\n",
            "  The 'answer' property MUST meet the requirements in the ANSWER PROPERTY REQUIREMENTS.\n",
            "  The 'sources' property MUST meet the requirements in the SOURCES PROPERTY REQUIREMENTS.\n",
            "  The 'schemas' property MUST meet the requirements in the SCHEMAS PROPERTY REQUIREMENTS.\n",
            "\n",
            "  Do NOT return anything outside of the provided JSON property. Ensure that this is valid JSON returned.\n",
            "\n",
            "  Never return an empty response or null value. Always answer the question.\n",
            "\n",
            "  [ANSWER PROPERTY REQUIREMENTS]\n",
            "    1. Language and Tone:\n",
            "      Use only British English throughout the response.\n",
            "      Employ a business-friendly language that is professional and easy to understand.\n",
            "\n",
            "    2. Content Restrictions:\n",
            "      Do not use any profanity, offensive language, hate speech, or code in the response.\n",
            "      If you encounter any such content, handle it gracefully by omitting or rephrasing it appropriately.\n",
            "\n",
            "    3. Information Sources:\n",
            "      Use only information from the provided functions and specified important information.\n",
            "      Do not use any external sources or the chat history for constructing the response.\n",
            "      In case of conflicting information, prioritize data from the SQL Database as the primary source of truth.\n",
            "\n",
            "    4. Calculations:\n",
            "      For any required calculations, use only the values provided in the context.\n",
            "      Provide a brief, clear explanation of the calculations beneath the results.\n",
            "\n",
            "    5. Response Structure:\n",
            "      Ensure the response is direct, easy to understand, and well-structured.\n",
            "      Format the response using Markdown for clarity and readability.\n",
            "      Use bold sub-headings for clarity where needed. Only use Markdown headings Level 3 (###) and Level 4 (####).\n",
            "      Use bullet points or numbered lists when appropriate.\n",
            "      Do not vary the font size within the same sentence.\n",
            "\n",
            "    6. Citations:\n",
            "      All factual information used in the answer must be cited with numbered references. For example, [1] should be used to refer to the first source.\n",
            "      Each citation in the answer must correspond to a single entry in the 'sources' object.\n",
            "      The same citation and corresponding context chunk may be used multiple times if needed.\n",
            "      Place the numbered citation at the end of each relevant sentence that uses information from the sources.\n",
            "      Ensure that each source listed in the 'sources' property is cited at least once in the answer.\n",
            "      Do not provide a list of definitions from the business glossary; use such information only to enhance the answer contextually.\n",
            "\n",
            "    7. Citations Format:\n",
            "      Citations should be embedded within the text, not as a separate list at the end of the 'answer' property.\n",
            "  [END ANSWER PROPERTY REQUIREMENTS]\n",
            "\n",
            "  [SCHEMAS PROPERTY REQUIREMENTS]\n",
            "    1. Inclusion Criteria:\n",
            "      If you used a schema obtained from 'GetEntitySchemas' function, it must be returned in the 'schemas' property. The 'schemas' property should contain a list of all the schemas used to create the SQL query.\n",
            "\n",
            "    3. Schema Format:\n",
            "      Each schema entry should be formatted as: {\"Entity\": \"<ENTITY>\", \"Columns\", [ {\"Name\": \"<COLUMN NAME>\", \"Definition\": <COLUMN DEFINITION>, \"Type\": \"<COLUMN TYPE>\" } ]}. This is the same format as the 'GetEntitySchemas' function output. Simply copy the schema from the function output to the 'schemas' property and remove the not needed properties.\n",
            "\n",
            "  [END SCHEMAS PROPERTY REQUIREMENTS]\n",
            "\n",
            "  [SOURCES PROPERTY REQUIREMENTS]\n",
            "    1. Reference Inclusion:\n",
            "      Include all corresponding references for all cited content in the 'answer' property.\n",
            "      Place the references in the 'sources' property.\n",
            "\n",
            "    2. Source Format:\n",
            "      Each entry in the 'sources' property must be formatted as: {\"title\": \"<SOURCE TITLE>\", \"chunk\": \"<SOURCE CONTEXT CHUNK>\", \"reference\": \"<SOURCE REFERENCE>\"}\n",
            "      For example, a complete response with two citations would be formatted as: { \"answer\": \"<GENERATED ANSWER>\", \"sources\": [ {\"title\": <SOURCE 1 TITLE>, \"chunk\": <SOURCE 1 CONTEXT CHUNK>, \"reference\": \"<SOURCE 1 REFERENCE>\"}, {\"title\": <SOURCE 2 TITLE>, \"chunk\": <SOURCE 2 CONTEXT CHUNK>, \"reference\": \"<SOURCE 2 REFERENCE>\"} ] }\n",
            "\n",
            "    3. Source Chunk:\n",
            "      The 'chunk' property should contain a concise, unedited snippet of the relevant context that supports the answer.\n",
            "\n",
            "    4. Mandatory References:\n",
            "      Ensure that every citation in the 'answer' has a corresponding entry in the 'sources' property.\n",
            "      Every entry in the 'sources' property must be cited at least once in the answer.\n",
            "  [END SOURCES PROPERTY REQUIREMENTS]\n",
            "\n",
            "[END RESPONSE OUTPUT REQUIREMENTS]\n",
            "</message>\n",
            "<chat_history><message role=\"user\"><text>What are the different product categories we have?</text></message><message role=\"assistant\" /></chat_history>\n",
            "<message role=\"user\">How many different product categories do we have?</message> as xml, treating as text, error was: not well-formed (invalid token): line 46, column 78\n",
            "INFO:httpx:HTTP Request: POST https://open-ai-gpt-001.openai.azure.com/openai/deployments/gpt-4o/chat/completions?api-version=2024-02-01 \"HTTP/1.1 200 OK\"\n",
            "INFO:semantic_kernel.connectors.ai.open_ai.services.open_ai_handler:OpenAI usage: CompletionUsage(completion_tokens=51, prompt_tokens=2032, total_tokens=2083, completion_tokens_details=None)\n",
            "INFO:semantic_kernel.connectors.ai.open_ai.services.open_ai_chat_completion_base:processing 2 tool calls in parallel.\n",
            "INFO:semantic_kernel.kernel:Calling SQL-GetEntitySchema function with args: {\"text\": \"product categories\"}\n",
            "INFO:semantic_kernel.functions.kernel_function:Function SQL-GetEntitySchema invoking.\n",
            "INFO:semantic_kernel.kernel:Calling SQL-GetEntitySchema function with args: {\"text\": \"categories\"}\n",
            "INFO:semantic_kernel.functions.kernel_function:Function SQL-GetEntitySchema invoking.\n",
            "INFO:httpx:HTTP Request: POST https://open-ai-gpt-001.openai.azure.com/openai/deployments/text-embedding-ada-002/embeddings?api-version=2023-03-15-preview \"HTTP/1.1 200 OK\"\n",
            "INFO:azure.core.pipeline.policies.http_logging_policy:Request URL: 'https://open-ai-vector-db.search.windows.net/indexes('text-2-sql-index')/docs/search.post.search?api-version=REDACTED'\n",
            "Request method: 'POST'\n",
            "Request headers:\n",
            "    'Content-Type': 'application/json'\n",
            "    'Content-Length': '34614'\n",
            "    'api-key': 'REDACTED'\n",
            "    'Accept': 'application/json;odata.metadata=none'\n",
            "    'x-ms-client-request-id': 'c678fe9c-7681-11ef-9237-0242ac110002'\n",
            "    'User-Agent': 'azsdk-python-search-documents/11.6.0b4 Python/3.12.6 (Linux-5.15.153.1-microsoft-standard-WSL2-x86_64-with-glibc2.36)'\n",
            "A body is sent with the request\n",
            "INFO:httpx:HTTP Request: POST https://open-ai-gpt-001.openai.azure.com/openai/deployments/text-embedding-ada-002/embeddings?api-version=2023-03-15-preview \"HTTP/1.1 200 OK\"\n",
            "INFO:azure.core.pipeline.policies.http_logging_policy:Request URL: 'https://open-ai-vector-db.search.windows.net/indexes('text-2-sql-index')/docs/search.post.search?api-version=REDACTED'\n",
            "Request method: 'POST'\n",
            "Request headers:\n",
            "    'Content-Type': 'application/json'\n",
            "    'Content-Length': '34719'\n",
            "    'api-key': 'REDACTED'\n",
            "    'Accept': 'application/json;odata.metadata=none'\n",
            "    'x-ms-client-request-id': 'c685566a-7681-11ef-9237-0242ac110002'\n",
            "    'User-Agent': 'azsdk-python-search-documents/11.6.0b4 Python/3.12.6 (Linux-5.15.153.1-microsoft-standard-WSL2-x86_64-with-glibc2.36)'\n",
            "A body is sent with the request\n",
            "INFO:azure.core.pipeline.policies.http_logging_policy:Response status: 200\n",
            "Response headers:\n",
            "    'Transfer-Encoding': 'chunked'\n",
            "    'Content-Type': 'application/json; odata.metadata=none; odata.streaming=true; charset=utf-8'\n",
            "    'Content-Encoding': 'REDACTED'\n",
            "    'Vary': 'REDACTED'\n",
            "    'Server': 'Microsoft-IIS/10.0'\n",
            "    'Strict-Transport-Security': 'REDACTED'\n",
            "    'Preference-Applied': 'REDACTED'\n",
            "    'OData-Version': 'REDACTED'\n",
            "    'request-id': 'c678fe9c-7681-11ef-9237-0242ac110002'\n",
            "    'elapsed-time': 'REDACTED'\n",
            "    'Strict-Transport-Security': 'REDACTED'\n",
            "    'Date': 'Thu, 19 Sep 2024 12:22:04 GMT'\n",
            "INFO:root:Results: [{'Description': 'This view provides a comprehensive list of all product categories and their corresponding subcategories in the SalesLT schema of the AdventureWorksLT database. It is used to understand the hierarchical structure of product categories, facilitating product organization and categorization.', 'Entity': 'vGetAllCategories', 'Columns': [{'Name': 'ProductCategoryID', 'Definition': 'A unique identifier for each product category. This ID is used to reference specific categories.', 'Type': 'INT', 'AllowedValues': None, 'SampleValues': None}, {'Name': 'ParentProductCategoryName', 'Definition': 'The name of the parent product category. This represents the top-level category under which subcategories are grouped.', 'Type': 'NVARCHAR(50)', 'AllowedValues': None, 'SampleValues': None}, {'Name': 'ProductCategoryName', 'Definition': 'The name of the product category. This can refer to either a top-level category or a subcategory, depending on the context.', 'Type': 'NVARCHAR(50)', 'AllowedValues': None, 'SampleValues': None}], 'EntityName': 'Get All Categories', '@search.score': 0.03333333507180214, '@search.reranker_score': None, '@search.highlights': None, '@search.captions': None}, {'Description': 'This view provides detailed information about products, including their names, associated product models, descriptions, and the specific culture or language of the description. It is useful for understanding product details and translating product descriptions for different cultures.', 'Entity': 'vProductAndDescription', 'Columns': [{'Name': 'ProductID', 'Definition': 'A unique identifier for each product. This ID is used to distinguish individual products.', 'Type': 'INT', 'AllowedValues': None, 'SampleValues': None}, {'Name': 'Name', 'Definition': 'The name of the product. This provides a brief and identifiable name for each product.', 'Type': 'NVARCHAR(50)', 'AllowedValues': None, 'SampleValues': None}, {'Name': 'ProductModel', 'Definition': 'The model name associated with the product. This indicates the specific model type or version of the product.', 'Type': 'NVARCHAR(50)', 'AllowedValues': None, 'SampleValues': None}, {'Name': 'Culture', 'Definition': \"The culture or language code for the product description. This is used to localize the product description, such as 'en' for English or 'fr' for French.\", 'Type': 'NVARCHAR(6)', 'AllowedValues': None, 'SampleValues': '[\"en\",\"fr\",\"es\",\"de\"]'}, {'Name': 'Description', 'Definition': 'A detailed description of the product. This text provides additional information about the product, which can vary based on the culture or language.', 'Type': 'NVARCHAR(400)', 'AllowedValues': None, 'SampleValues': None}], 'EntityName': 'Product and Description', '@search.score': 0.016393441706895828, '@search.reranker_score': None, '@search.highlights': None, '@search.captions': None}, {'Description': 'This view provides detailed catalog information about product models, including descriptions, manufacturing details, warranty information, and specifications related to product design and features. It is useful for generating comprehensive product catalogs and providing detailed product information to customers.', 'Entity': 'vProductModelCatalogDescription', 'Columns': [{'Name': 'ProductModelID', 'Definition': 'A unique identifier for each product model. This ID is used to distinguish different product models.', 'Type': 'INT', 'AllowedValues': None, 'SampleValues': None}, {'Name': 'Name', 'Definition': 'The name of the product model, providing a recognizable title for each model.', 'Type': 'NVARCHAR(50)', 'AllowedValues': None, 'SampleValues': None}, {'Name': 'Summary', 'Definition': 'A brief summary of the product model, highlighting key features and characteristics.', 'Type': 'NVARCHAR(MAX)', 'AllowedValues': None, 'SampleValues': None}, {'Name': 'Manufacturer', 'Definition': 'The name of the manufacturer of the product model.', 'Type': 'NVARCHAR(50)', 'AllowedValues': None, 'SampleValues': None}, {'Name': 'Copyright', 'Definition': 'Copyright information related to the product model, indicating the legal ownership of the product design and content.', 'Type': 'NVARCHAR(30)', 'AllowedValues': None, 'SampleValues': None}, {'Name': 'ProductURL', 'Definition': 'The URL for the product model, providing a link to more information or to purchase the product.', 'Type': 'NVARCHAR(256)', 'AllowedValues': None, 'SampleValues': None}, {'Name': 'WarrantyPeriod', 'Definition': 'The duration of the warranty period for the product model, specifying how long the warranty is valid.', 'Type': 'NVARCHAR(30)', 'AllowedValues': None, 'SampleValues': None}, {'Name': 'WarrantyDescription', 'Definition': 'A description of the warranty provided for the product model, detailing what is covered under the warranty.', 'Type': 'NVARCHAR(255)', 'AllowedValues': None, 'SampleValues': None}, {'Name': 'NoOfYears', 'Definition': 'The number of years the warranty is valid for the product model.', 'Type': 'INT', 'AllowedValues': None, 'SampleValues': None}, {'Name': 'MaintenanceDescription', 'Definition': 'A description of the maintenance requirements and recommendations for the product model.', 'Type': 'NVARCHAR(MAX)', 'AllowedValues': None, 'SampleValues': None}, {'Name': 'Wheel', 'Definition': 'Details about the type of wheels used in the product model.', 'Type': 'NVARCHAR(50)', 'AllowedValues': None, 'SampleValues': None}, {'Name': 'Saddle', 'Definition': 'Information about the saddle of the product model, such as material and design.', 'Type': 'NVARCHAR(50)', 'AllowedValues': None, 'SampleValues': None}, {'Name': 'Pedal', 'Definition': 'Details regarding the pedal design and specifications of the product model.', 'Type': 'NVARCHAR(50)', 'AllowedValues': None, 'SampleValues': None}, {'Name': 'BikeFrame', 'Definition': 'Description of the bike frame used in the product model, including material and type.', 'Type': 'NVARCHAR(50)', 'AllowedValues': None, 'SampleValues': None}, {'Name': 'Crankset', 'Definition': 'Information about the crankset of the product model, specifying its design and features.', 'Type': 'NVARCHAR(50)', 'AllowedValues': None, 'SampleValues': None}, {'Name': 'PictureAngle', 'Definition': 'The angle at which the product model is photographed, providing a visual perspective of the product.', 'Type': 'NVARCHAR(20)', 'AllowedValues': None, 'SampleValues': None}, {'Name': 'PictureSize', 'Definition': \"The size of the product model's picture, specifying dimensions or resolution.\", 'Type': 'NVARCHAR(20)', 'AllowedValues': None, 'SampleValues': None}, {'Name': 'ProductPhotoID', 'Definition': 'An identifier linking to the product photo, which provides a visual representation of the product model.', 'Type': 'INT', 'AllowedValues': None, 'SampleValues': None}, {'Name': 'Material', 'Definition': 'The material used in the construction of the product model, indicating durability and quality.', 'Type': 'NVARCHAR(50)', 'AllowedValues': None, 'SampleValues': None}, {'Name': 'Color', 'Definition': 'The color of the product model, providing information about the appearance of the product.', 'Type': 'NVARCHAR(15)', 'AllowedValues': None, 'SampleValues': None}, {'Name': 'ProductLine', 'Definition': 'A code representing the product line to which the model belongs, categorizing the product within a broader product range.', 'Type': 'NVARCHAR(2)', 'AllowedValues': None, 'SampleValues': None}, {'Name': 'Style', 'Definition': 'The style of the product model, indicating design and aesthetic aspects.', 'Type': 'NVARCHAR(50)', 'AllowedValues': None, 'SampleValues': None}, {'Name': 'RiderExperience', 'Definition': \"A description of the target rider's experience level for which the product model is designed, such as beginner, intermediate, or expert.\", 'Type': 'NVARCHAR(50)', 'AllowedValues': None, 'SampleValues': None}, {'Name': 'ModifiedDate', 'Definition': 'The date and time when the product model information was last modified, indicating the currency of the data.', 'Type': 'DATETIME', 'AllowedValues': None, 'SampleValues': None}], 'EntityName': 'Product Model Catalog Description', '@search.score': 0.016129031777381897, '@search.reranker_score': None, '@search.highlights': None, '@search.captions': None}]\n",
            "INFO:semantic_kernel.functions.kernel_function:Function SQL-GetEntitySchema succeeded.\n",
            "INFO:semantic_kernel.functions.kernel_function:Function completed. Duration: 0.544755s\n",
            "INFO:azure.core.pipeline.policies.http_logging_policy:Response status: 200\n",
            "Response headers:\n",
            "    'Transfer-Encoding': 'chunked'\n",
            "    'Content-Type': 'application/json; odata.metadata=none; odata.streaming=true; charset=utf-8'\n",
            "    'Content-Encoding': 'REDACTED'\n",
            "    'Vary': 'REDACTED'\n",
            "    'Server': 'Microsoft-IIS/10.0'\n",
            "    'Strict-Transport-Security': 'REDACTED'\n",
            "    'Preference-Applied': 'REDACTED'\n",
            "    'OData-Version': 'REDACTED'\n",
            "    'request-id': 'c685566a-7681-11ef-9237-0242ac110002'\n",
            "    'elapsed-time': 'REDACTED'\n",
            "    'Strict-Transport-Security': 'REDACTED'\n",
            "    'Date': 'Thu, 19 Sep 2024 12:22:04 GMT'\n",
            "INFO:root:Results: [{'Description': 'This view provides a comprehensive list of all product categories and their corresponding subcategories in the SalesLT schema of the AdventureWorksLT database. It is used to understand the hierarchical structure of product categories, facilitating product organization and categorization.', 'Entity': 'vGetAllCategories', 'Columns': [{'Name': 'ProductCategoryID', 'Definition': 'A unique identifier for each product category. This ID is used to reference specific categories.', 'Type': 'INT', 'AllowedValues': None, 'SampleValues': None}, {'Name': 'ParentProductCategoryName', 'Definition': 'The name of the parent product category. This represents the top-level category under which subcategories are grouped.', 'Type': 'NVARCHAR(50)', 'AllowedValues': None, 'SampleValues': None}, {'Name': 'ProductCategoryName', 'Definition': 'The name of the product category. This can refer to either a top-level category or a subcategory, depending on the context.', 'Type': 'NVARCHAR(50)', 'AllowedValues': None, 'SampleValues': None}], 'EntityName': 'Get All Categories', '@search.score': 0.03333333507180214, '@search.reranker_score': None, '@search.highlights': None, '@search.captions': None}, {'Description': 'This view provides detailed catalog information about product models, including descriptions, manufacturing details, warranty information, and specifications related to product design and features. It is useful for generating comprehensive product catalogs and providing detailed product information to customers.', 'Entity': 'vProductModelCatalogDescription', 'Columns': [{'Name': 'ProductModelID', 'Definition': 'A unique identifier for each product model. This ID is used to distinguish different product models.', 'Type': 'INT', 'AllowedValues': None, 'SampleValues': None}, {'Name': 'Name', 'Definition': 'The name of the product model, providing a recognizable title for each model.', 'Type': 'NVARCHAR(50)', 'AllowedValues': None, 'SampleValues': None}, {'Name': 'Summary', 'Definition': 'A brief summary of the product model, highlighting key features and characteristics.', 'Type': 'NVARCHAR(MAX)', 'AllowedValues': None, 'SampleValues': None}, {'Name': 'Manufacturer', 'Definition': 'The name of the manufacturer of the product model.', 'Type': 'NVARCHAR(50)', 'AllowedValues': None, 'SampleValues': None}, {'Name': 'Copyright', 'Definition': 'Copyright information related to the product model, indicating the legal ownership of the product design and content.', 'Type': 'NVARCHAR(30)', 'AllowedValues': None, 'SampleValues': None}, {'Name': 'ProductURL', 'Definition': 'The URL for the product model, providing a link to more information or to purchase the product.', 'Type': 'NVARCHAR(256)', 'AllowedValues': None, 'SampleValues': None}, {'Name': 'WarrantyPeriod', 'Definition': 'The duration of the warranty period for the product model, specifying how long the warranty is valid.', 'Type': 'NVARCHAR(30)', 'AllowedValues': None, 'SampleValues': None}, {'Name': 'WarrantyDescription', 'Definition': 'A description of the warranty provided for the product model, detailing what is covered under the warranty.', 'Type': 'NVARCHAR(255)', 'AllowedValues': None, 'SampleValues': None}, {'Name': 'NoOfYears', 'Definition': 'The number of years the warranty is valid for the product model.', 'Type': 'INT', 'AllowedValues': None, 'SampleValues': None}, {'Name': 'MaintenanceDescription', 'Definition': 'A description of the maintenance requirements and recommendations for the product model.', 'Type': 'NVARCHAR(MAX)', 'AllowedValues': None, 'SampleValues': None}, {'Name': 'Wheel', 'Definition': 'Details about the type of wheels used in the product model.', 'Type': 'NVARCHAR(50)', 'AllowedValues': None, 'SampleValues': None}, {'Name': 'Saddle', 'Definition': 'Information about the saddle of the product model, such as material and design.', 'Type': 'NVARCHAR(50)', 'AllowedValues': None, 'SampleValues': None}, {'Name': 'Pedal', 'Definition': 'Details regarding the pedal design and specifications of the product model.', 'Type': 'NVARCHAR(50)', 'AllowedValues': None, 'SampleValues': None}, {'Name': 'BikeFrame', 'Definition': 'Description of the bike frame used in the product model, including material and type.', 'Type': 'NVARCHAR(50)', 'AllowedValues': None, 'SampleValues': None}, {'Name': 'Crankset', 'Definition': 'Information about the crankset of the product model, specifying its design and features.', 'Type': 'NVARCHAR(50)', 'AllowedValues': None, 'SampleValues': None}, {'Name': 'PictureAngle', 'Definition': 'The angle at which the product model is photographed, providing a visual perspective of the product.', 'Type': 'NVARCHAR(20)', 'AllowedValues': None, 'SampleValues': None}, {'Name': 'PictureSize', 'Definition': \"The size of the product model's picture, specifying dimensions or resolution.\", 'Type': 'NVARCHAR(20)', 'AllowedValues': None, 'SampleValues': None}, {'Name': 'ProductPhotoID', 'Definition': 'An identifier linking to the product photo, which provides a visual representation of the product model.', 'Type': 'INT', 'AllowedValues': None, 'SampleValues': None}, {'Name': 'Material', 'Definition': 'The material used in the construction of the product model, indicating durability and quality.', 'Type': 'NVARCHAR(50)', 'AllowedValues': None, 'SampleValues': None}, {'Name': 'Color', 'Definition': 'The color of the product model, providing information about the appearance of the product.', 'Type': 'NVARCHAR(15)', 'AllowedValues': None, 'SampleValues': None}, {'Name': 'ProductLine', 'Definition': 'A code representing the product line to which the model belongs, categorizing the product within a broader product range.', 'Type': 'NVARCHAR(2)', 'AllowedValues': None, 'SampleValues': None}, {'Name': 'Style', 'Definition': 'The style of the product model, indicating design and aesthetic aspects.', 'Type': 'NVARCHAR(50)', 'AllowedValues': None, 'SampleValues': None}, {'Name': 'RiderExperience', 'Definition': \"A description of the target rider's experience level for which the product model is designed, such as beginner, intermediate, or expert.\", 'Type': 'NVARCHAR(50)', 'AllowedValues': None, 'SampleValues': None}, {'Name': 'ModifiedDate', 'Definition': 'The date and time when the product model information was last modified, indicating the currency of the data.', 'Type': 'DATETIME', 'AllowedValues': None, 'SampleValues': None}], 'EntityName': 'Product Model Catalog Description', '@search.score': 0.032786883413791656, '@search.reranker_score': None, '@search.highlights': None, '@search.captions': None}, {'Description': 'This view provides detailed information about products, including their names, associated product models, descriptions, and the specific culture or language of the description. It is useful for understanding product details and translating product descriptions for different cultures.', 'Entity': 'vProductAndDescription', 'Columns': [{'Name': 'ProductID', 'Definition': 'A unique identifier for each product. This ID is used to distinguish individual products.', 'Type': 'INT', 'AllowedValues': None, 'SampleValues': None}, {'Name': 'Name', 'Definition': 'The name of the product. This provides a brief and identifiable name for each product.', 'Type': 'NVARCHAR(50)', 'AllowedValues': None, 'SampleValues': None}, {'Name': 'ProductModel', 'Definition': 'The model name associated with the product. This indicates the specific model type or version of the product.', 'Type': 'NVARCHAR(50)', 'AllowedValues': None, 'SampleValues': None}, {'Name': 'Culture', 'Definition': \"The culture or language code for the product description. This is used to localize the product description, such as 'en' for English or 'fr' for French.\", 'Type': 'NVARCHAR(6)', 'AllowedValues': None, 'SampleValues': '[\"en\",\"fr\",\"es\",\"de\"]'}, {'Name': 'Description', 'Definition': 'A detailed description of the product. This text provides additional information about the product, which can vary based on the culture or language.', 'Type': 'NVARCHAR(400)', 'AllowedValues': None, 'SampleValues': None}], 'EntityName': 'Product and Description', '@search.score': 0.032258063554763794, '@search.reranker_score': None, '@search.highlights': None, '@search.captions': None}]\n",
            "INFO:semantic_kernel.functions.kernel_function:Function SQL-GetEntitySchema succeeded.\n",
            "INFO:semantic_kernel.functions.kernel_function:Function completed. Duration: 0.629686s\n",
            "INFO:httpx:HTTP Request: POST https://open-ai-gpt-001.openai.azure.com/openai/deployments/gpt-4o/chat/completions?api-version=2024-02-01 \"HTTP/1.1 200 OK\"\n",
            "INFO:semantic_kernel.connectors.ai.open_ai.services.open_ai_handler:OpenAI usage: CompletionUsage(completion_tokens=38, prompt_tokens=5988, total_tokens=6026, completion_tokens_details=None)\n",
            "INFO:semantic_kernel.connectors.ai.open_ai.services.open_ai_chat_completion_base:processing 1 tool calls in parallel.\n",
            "INFO:semantic_kernel.kernel:Calling SQL-RunSQLQuery function with args: {\"sql_query\":\"SELECT COUNT(DISTINCT ProductCategoryName) AS NumberOfCategories FROM SalesLT.vGetAllCategories;\"}\n",
            "INFO:semantic_kernel.functions.kernel_function:Function SQL-RunSQLQuery invoking.\n",
            "INFO:root:Executing SQL Query\n",
            "INFO:semantic_kernel.functions.kernel_function:Function SQL-RunSQLQuery succeeded.\n",
            "INFO:semantic_kernel.functions.kernel_function:Function completed. Duration: 0.349836s\n",
            "INFO:httpx:HTTP Request: POST https://open-ai-gpt-001.openai.azure.com/openai/deployments/gpt-4o/chat/completions?api-version=2024-02-01 \"HTTP/1.1 200 OK\"\n",
            "INFO:semantic_kernel.connectors.ai.open_ai.services.open_ai_handler:OpenAI usage: CompletionUsage(completion_tokens=278, prompt_tokens=6046, total_tokens=6324, completion_tokens_details=None)\n",
            "INFO:semantic_kernel.functions.kernel_function:Function ChatBot-Chat succeeded.\n",
            "INFO:semantic_kernel.functions.kernel_function:Function completed. Duration: 7.825323s\n",
            "INFO:root:Answer: { \"answer\": \"We have a total of 37 different product categories in our database[1].\", \"sources\": [ {\"title\": \"Get All Categories\", \"chunk\": \"| ProductCategoryID | ParentProductCategoryName | ProductCategoryName |\\n|-------------------|--------------------------|--------------------|\\n| 1                 | Bikes                    | Mountain Bikes     |\\n| 2                 | Bikes                    | Road Bikes         |\\n| 3                 | Components               | Wheels             |\\n\", \"reference\": \"SELECT COUNT(DISTINCT ProductCategoryName) AS NumberOfCategories FROM SalesLT.vGetAllCategories;\"} ], \"schemas\": [ {\"Entity\": \"vGetAllCategories\", \"Columns\": [ {\"Name\": \"ProductCategoryID\", \"Definition\": \"A unique identifier for each product category. This ID is used to reference specific categories.\", \"Type\": \"INT\"}, {\"Name\": \"ParentProductCategoryName\", \"Definition\": \"The name of the parent product category. This represents the top-level category under which subcategories are grouped.\", \"Type\": \"NVARCHAR(50)\"}, {\"Name\": \"ProductCategoryName\", \"Definition\": \"The name of the product category. This can refer to either a top-level category or a subcategory, depending on the context.\", \"Type\": \"NVARCHAR(50)\"} ] } ] }\n",
            "INFO:root:Time taken: 8.522298812866211\n"
          ]
        },
        {
          "data": {
            "text/markdown": [
              "We have a total of 37 different product categories in our database[1]."
            ],
            "text/plain": [
              "<IPython.core.display.Markdown object>"
            ]
          },
          "metadata": {},
          "output_type": "display_data"
        },
        {
          "name": "stderr",
          "output_type": "stream",
          "text": [
            "INFO:root:Document: {'Question': 'How many different product categories do we have?', 'Query': 'SELECT COUNT(DISTINCT ProductCategoryName) AS NumberOfCategories FROM SalesLT.vGetAllCategories;', 'Schemas': [{'Entity': 'vGetAllCategories', 'Columns': [{'Name': 'ProductCategoryID', 'Definition': 'A unique identifier for each product category. This ID is used to reference specific categories.', 'Type': 'INT'}, {'Name': 'ParentProductCategoryName', 'Definition': 'The name of the parent product category. This represents the top-level category under which subcategories are grouped.', 'Type': 'NVARCHAR(50)'}, {'Name': 'ProductCategoryName', 'Definition': 'The name of the product category. This can refer to either a top-level category or a subcategory, depending on the context.', 'Type': 'NVARCHAR(50)'}]}]}\n",
            "INFO:root:Vector Fields: {'Question': 'QuestionEmbedding'}\n",
            "INFO:root:Vector Fields: {'Question': 'QuestionEmbedding'}\n",
            "INFO:httpx:HTTP Request: POST https://open-ai-gpt-001.openai.azure.com/openai/deployments/text-embedding-ada-002/embeddings?api-version=2023-03-15-preview \"HTTP/1.1 200 OK\"\n",
            "INFO:root:Document with embeddings: {'Question': 'How many different product categories do we have?', 'Query': 'SELECT COUNT(DISTINCT ProductCategoryName) AS NumberOfCategories FROM SalesLT.vGetAllCategories;', 'Schemas': [{'Entity': 'vGetAllCategories', 'Columns': [{'Name': 'ProductCategoryID', 'Definition': 'A unique identifier for each product category. This ID is used to reference specific categories.', 'Type': 'INT'}, {'Name': 'ParentProductCategoryName', 'Definition': 'The name of the parent product category. This represents the top-level category under which subcategories are grouped.', 'Type': 'NVARCHAR(50)'}, {'Name': 'ProductCategoryName', 'Definition': 'The name of the product category. This can refer to either a top-level category or a subcategory, depending on the context.', 'Type': 'NVARCHAR(50)'}]}], 'DateLastModified': datetime.datetime(2024, 9, 19, 12, 22, 7, 883810, tzinfo=datetime.timezone.utc), 'QuestionEmbedding': [0.0196035448461771, 0.004998903721570969, -0.001196633093059063, -0.009553460404276848, -0.013075564056634903, 0.0004860045446548611, -0.009037233889102936, 0.008187747560441494, -0.01612718217074871, -0.012859925627708435, 0.003943579737097025, 0.017538638785481453, -0.026085782796144485, 0.0021041138097643852, -0.008344575762748718, 0.027549514546990395, 0.014781072735786438, 0.020832033827900887, -0.011938558891415596, -0.016689151525497437, -0.023955531418323517, 0.0015323437983170152, -0.0009140152833424509, -0.008279230445623398, -0.010520569048821926, 0.009677616879343987, 0.02558916062116623, -0.006776291877031326, 0.0015993225388228893, -0.001930949161760509, 0.006328677758574486, -0.0011206693015992641, -0.02017858251929283, -0.021498553454875946, -0.015578283928334713, 0.020662136375904083, 0.006848171819001436, -0.004730988759547472, 0.003819423960521817, -0.002367128152400255, 0.014702659100294113, 0.024164635688066483, 0.007338260300457478, 0.008573283441364765, -0.003466560272499919, 0.0021825279109179974, -0.013748619705438614, -0.003180675208568573, -0.005034843925386667, 0.016270942986011505, 0.014480485580861568, 0.01692439429461956, -0.019485924392938614, -0.010866898111999035, 0.006697877775877714, 0.019747303798794746, 0.008703974075615406, 0.006057495251297951, 0.0011655940907076001, -0.0011108675971627235, -0.004469608422368765, 0.040017370134592056, -0.022570215165615082, 0.01389237865805626, -0.03123498149216175, -0.032175950706005096, -0.011820937506854534, -0.002396533265709877, -0.003463292960077524, 0.002522322814911604, 0.012448251247406006, 0.028385933488607407, -0.009056837297976017, -0.0073970709927380085, 0.0036331904120743275, -0.006433229893445969, -8.086462185019627e-05, -0.016898255795240402, -0.015173143707215786, 0.017708536237478256, 0.017094291746616364, -0.01152034942060709, -0.007253311574459076, -0.002800039714202285, 0.0196035448461771, -0.011951628141105175, -0.004234365653246641, 0.0509953536093235, -0.002960135228931904, -0.003446956630796194, 0.011605298146605492, 0.01774774305522442, 0.025667574256658554, -0.013160512782633305, 0.00552819948643446, 0.01911999098956585, -0.002064906759187579, 0.0013583622639998794, -0.008664767257869244, -0.0007722979644313455, -0.01301675383001566, -0.011945093050599098, -0.009043768979609013, -0.019329095259308815, 0.001079011824913323, -0.012415578588843346, 0.004100407939404249, -0.0030842910055071115, 0.00013896054588258266, 0.002252774080261588, -0.02345890924334526, 0.02383791096508503, 0.025262434035539627, -0.018505746498703957, 0.005273353774100542, -0.017421016469597816, 0.0165715292096138, -0.0005672776023857296, -0.00878238771110773, -0.013304272666573524, 0.023119114339351654, 0.0131474444642663, 0.030189458280801773, -0.014937900938093662, 0.027941586449742317, -0.00984751433134079, -0.01896316185593605, -0.013219323940575123, 0.009644944220781326, -0.012448251247406006, 0.01915919780731201, 0.007370932959020138, 0.020792827010154724, 0.015944216400384903, -0.0111544169485569, 0.0395207479596138, -0.020152444019913673, 0.04895658418536186, 0.01621866598725319, -0.009442374110221863, 0.020635997876524925, 0.012565872631967068, 0.004688514396548271, 0.019747303798794746, 0.01969502866268158, 0.02456977590918541, 0.02820296585559845, 0.018950093537569046, -0.007050741463899612, 0.003236218588426709, 0.015787387266755104, 0.009180993773043156, 0.03194070979952812, 0.011258969083428383, 0.01534304115921259, -0.010840760543942451, 0.0007433010614477098, 0.005247215274721384, -0.038893431425094604, -0.005573941394686699, 0.007312122266739607, 0.004747325088828802, -0.006848171819001436, -0.00035919412039220333, 0.020662136375904083, 0.025419263169169426, 0.03209753707051277, 0.0013885843800380826, 0.012343699112534523, 0.00013048609253019094, -0.008390316739678383, 0.0010430719703435898, -0.004472875501960516, 0.006547584198415279, 0.004002390429377556, 0.01612718217074871, 0.0018590694526210427, -0.009684151038527489, -0.027706343680620193, -0.005475923418998718, 0.005221077241003513, -0.00873011164367199, 0.0131474444642663, 0.004312779754400253, -0.020230857655405998, 0.00023115846852306277, -3.286401693003427e-07, -0.009723357856273651, 0.016401631757616997, -0.012487458065152168, -0.014768003486096859, 0.026726165786385536, -0.003950114361941814, 0.018126744776964188, -0.6779167056083679, -0.015735112130641937, 0.015356110408902168, -0.03079063445329666, 0.02846434712409973, 0.01074274256825447, 0.012186869978904724, 0.017094291746616364, -0.021367864683270454, 0.02425611950457096, 0.0028229104354977608, -0.006567187607288361, 0.017538638785481453, -0.0029356307350099087, -0.006113038863986731, -0.02313218265771866, 0.012925270944833755, 0.0015740012750029564, -0.013735550455749035, 0.01794377714395523, 0.0016630340833216906, 0.005488992668688297, -0.017669327557086945, -0.00744281243532896, 0.014441277831792831, 0.01352644618600607, 0.019708096981048584, -0.00701153464615345, -0.018427332863211632, 0.0064168935641646385, -0.005299491807818413, 0.019015438854694366, 0.0192768182605505, -0.014950970187783241, 0.037429701536893845, 0.006008486729115248, -0.010860363952815533, 0.02715744450688362, 0.014258312061429024, 0.01625787280499935, -0.04401649162173271, -0.012271818704903126, 0.004172287881374359, -0.003649526508525014, -0.016519254073500633, 0.011938558891415596, 0.01778694987297058, 0.007344794925302267, 0.018179019913077354, -0.012748838402330875, 0.01889781653881073, -0.034815896302461624, -0.003822691272944212, -0.008710508234798908, 0.03463292866945267, 0.002584400586783886, 0.01679370366036892, -0.006050960626453161, 0.002945432672277093, 0.027549514546990395, -0.004649307578802109, 0.003571112407371402, 0.003424085909500718, -0.010043549351394176, -0.031025877222418785, 0.007331725675612688, -0.039468470960855484, -0.0062339273281395435, 5.71770078749978e-06, 0.001337125082500279, -0.0121084563434124, 0.0005178602878004313, -0.030607668682932854, -0.001261161407455802, 0.0046199019998312, -0.002483115764334798, 0.04299710690975189, 0.026307957246899605, -0.01701587624847889, 0.002388365101069212, 0.0005811634473502636, -0.01570897363126278, 0.008984957821667194, 0.005377905908972025, 0.01453276164829731, 0.0024455422535538673, -0.007671520579606295, 0.002073074923828244, 0.012480923905968666, 0.04030488803982735, 0.0006015838007442653, 0.018571091815829277, 0.011807868257164955, -0.016832910478115082, -0.020975792780518532, 0.018636437132954597, -0.013552583754062653, 0.018375055864453316, -0.0031676061917096376, -0.02660854533314705, -0.0024145033676177263, 0.004851877223700285, 0.012376371771097183, 0.006570454686880112, 0.006678274367004633, 0.008560214191675186, -0.006887378636747599, 0.00470158364623785, 0.016401631757616997, -0.031025877222418785, 0.00976909976452589, -0.012467854656279087, -0.016205597668886185, -0.006750153843313456, -0.00980177242308855, -0.01953819952905178, 0.0328294038772583, -0.00021870204363949597, -0.03324761241674423, -0.0012374737998470664, 0.010233050212264061, 0.012546268291771412, 0.017198843881487846, -0.013500307686626911, 0.007122621405869722, 0.00981484167277813, -0.022648628801107407, 0.0027690005954355, -0.009742962196469307, -0.002945432672277093, 0.020675204694271088, -0.012533199973404408, 0.005907201673835516, -0.01956433802843094, -0.017865363508462906, 0.024138499051332474, 0.013101702556014061, -0.02348504588007927, 0.01597035489976406, -0.03659328445792198, -0.00020430568838492036, -0.010951846837997437, -0.020034823566675186, -0.017198843881487846, -0.004564358852803707, -0.010566310957074165, -0.02472660504281521, 0.011847076006233692, 0.0050087058916687965, 0.0018737721256911755, -0.010115428827702999, -0.005309293512254953, -0.0014955870574340224, 0.01387930940836668, 0.0231060441583395, 0.0223088338971138, -0.013258530758321285, -0.03492044657468796, -0.02558916062116623, -0.002463512122631073, 0.008886940777301788, 0.020348479971289635, -0.0007216554949991405, -0.011932024732232094, -0.009076441638171673, 0.0008012948674149811, -0.01343496236950159, 0.03693307936191559, 0.008900009095668793, -0.028830280527472496, 3.540379839250818e-05, -0.01883247122168541, 0.0020077296067029238, 0.009396632201969624, -0.005531467031687498, 0.004071002826094627, -0.009167924523353577, 0.002782069845125079, 0.01265082135796547, -0.019015438854694366, -0.0005595178226940334, 0.013474170118570328, -0.007462415844202042, 0.019995614886283875, 0.009050303138792515, 0.008658232167363167, 0.007423209026455879, -0.0010128498543053865, -0.006145711522549391, 0.02686992473900318, -0.004371590446680784, 0.03703762963414192, -0.0029045918490737677, 0.00889347493648529, -0.022387247532606125, 0.0017806553514674306, 0.000748201971873641, -0.0015380614204332232, -0.015604421496391296, -0.004583962261676788, 0.013539515435695648, 0.01179479993879795, -0.02250486984848976, 0.002819643123075366, 0.024648189544677734, -0.0030842910055071115, -0.0028800873551517725, 0.006207789294421673, 0.03643645718693733, 0.010448689572513103, 0.015225419774651527, 0.008305368945002556, -0.019355233758687973, -0.004822472110390663, -0.008808526210486889, 0.015003246255218983, -0.01953819952905178, 0.009148321114480495, -0.0007522860541939735, 0.008723577484488487, 0.01176212728023529, -0.01212805975228548, -0.0009720090893097222, 0.00787409022450447, -0.024687398225069046, 0.008011315017938614, -0.005988882854580879, 0.02428225800395012, -0.004770196042954922, -0.024060083553195, -0.006302539724856615, -0.0025321245193481445, 0.030189458280801773, 0.009605737403035164, -0.006717481184750795, 0.020518377423286438, 0.031339533627033234, -0.012722700834274292, 0.032489608973264694, 0.024648189544677734, 0.0059006670489907265, 0.026399441063404083, 0.01078848447650671, 0.013787826523184776, 0.030006492510437965, -0.0031267653685063124, 0.012448251247406006, 0.007220638915896416, -0.009311683475971222, 0.002076342236250639, -0.01032453402876854, -0.026843788102269173, -0.027654066681861877, 0.01303635723888874, 0.0040252613835036755, -0.0033979478757828474, -0.008344575762748718, 0.010572845116257668, -0.008076660335063934, 0.017930708825588226, 0.01838812418282032, 0.006563920062035322, 0.02607271447777748, -0.011827471666038036, 0.02157696895301342, 0.025484608486294746, -0.01854495331645012, 0.002001195214688778, 0.0140230692923069, -0.022517938166856766, 0.00560007942840457, 0.0011949994368478656, 0.01730339601635933, -0.015055522322654724, -0.003368542529642582, 0.019263749942183495, 0.010553241707384586, 0.0009564896463416517, -0.01909385249018669, 0.0167283583432436, -0.015604421496391296, -0.030189458280801773, -0.01685904897749424, 0.003321167314425111, -0.003642992116510868, -0.0008829763391986489, -0.004489211831241846, -0.019734235480427742, -0.027575653046369553, 0.017643190920352936, 0.01679370366036892, 0.02705289237201214, -0.016597667708992958, -0.0009009462664835155, 0.006900447886437178, -0.003058152971789241, 0.019734235480427742, -0.018414262682199478, 0.009141786023974419, 0.0148986941203475, 0.002287080278620124, 0.00011445611016824841, 0.003995855804532766, -0.01217380166053772, 0.02556302212178707, 0.0005272536654956639, -0.025223227217793465, -0.016937462612986565, -0.014402071014046669, -0.034815896302461624, 0.004499013535678387, -0.0029486999846994877, -0.0003763472195714712, 0.0046199019998312, 0.022152004763484, 0.014872555620968342, -0.007390536367893219, 0.008599421940743923, 0.022230420261621475, 0.012402509339153767, -0.0007506523979827762, -0.020413825288414955, 0.009971669875085354, -0.0014416773337870836, 0.050943080335855484, 0.006309074349701405, -0.03672397509217262, 0.03340443968772888, -0.020766688510775566, -0.018244365230202675, -0.017643190920352936, -0.01126550417393446, 0.015539076179265976, 0.003074489301070571, -0.03852749988436699, -0.00704420730471611, 0.003040183102712035, -0.008592886850237846, 0.018218228593468666, 0.0021253509912639856, 0.0021057473495602608, -0.01072313915938139, -0.017421016469597816, -0.009586133062839508, 0.008553680032491684, 0.006420161109417677, 0.012748838402330875, 0.032620299607515335, -0.0035188363399356604, 0.0022397050634026527, 0.043232351541519165, 0.026216473430395126, 0.008233488537371159, -0.0026252414099872112, -0.002017531543970108, 0.0019652554765343666, 0.00206327298656106, 0.007586571853607893, -0.011690246872603893, 0.004267038311809301, -0.015055522322654724, 0.006207789294421673, 0.03021559678018093, 0.00034959655022248626, 0.011141347698867321, 0.004910687915980816, -0.004564358852803707, -0.009520788677036762, 0.004146149847656488, 0.012533199973404408, -0.010729673318564892, 0.008971888571977615, 0.027706343680620193, -0.003463292960077524, -0.005025042220950127, 0.004185356665402651, -0.016401631757616997, 0.009710289537906647, 0.005488992668688297, -0.00508385244756937, -0.010252653621137142, -0.005822252947837114, -0.0231060441583395, -0.05985615774989128, 0.0001528463908471167, 0.014676520600914955, 0.01790457032620907, -0.010925709269940853, -0.011376590467989445, -0.01867564395070076, -0.02115875855088234, -0.028856417164206505, -0.026490923017263412, -0.026464786380529404, -0.015173143707215786, -0.02667389065027237, -0.0178522951900959, -0.027941586449742317, 0.013363082893192768, 0.014663451351225376, 0.009350891225039959, -0.006880844011902809, -0.0018688712734729052, 0.016532322391867638, -0.0037540788762271404, -0.03157477453351021, -0.009481580927968025, -0.03358740732073784, -0.01105639897286892, 0.017447154968976974, -0.016845978796482086, 0.0014032870531082153, -0.010540172457695007, 0.005126326810568571, -0.011435401625931263, -0.012121525593101978, 0.026843788102269173, -0.014950970187783241, 0.013140909373760223, -0.0002754706365521997, -0.008220420219004154, 0.001852534944191575, -0.007037672679871321, -0.02027006447315216, 0.013774757273495197, -0.003845561994239688, -0.011990834958851337, -0.029170075431466103, -0.014794141985476017, 0.015656698495149612, 0.016362424939870834, -0.02966669760644436, 0.011879747733473778, 0.0037736822851002216, 0.016140252351760864, -0.012729234993457794, 0.017264189198613167, -0.009030699729919434, 0.009756030514836311, 0.014349794946610928, 0.025288572534918785, 0.010304929688572884, -0.0031153298914432526, -0.009069906547665596, 0.01574818044900894, -0.004044864792376757, 0.005809183698147535, -0.006420161109417677, -0.04213455319404602, 0.01889781653881073, -0.020858172327280045, -0.023511184379458427, -0.014689589850604534, 0.001707141986116767, -0.0035809141118079424, 0.025262434035539627, -0.02718358300626278, -0.029849663376808167, -0.032045260071754456, 0.0031104290392249823, -0.022387247532606125, 0.019172266125679016, -0.007906762883067131, -0.01832278072834015, -0.03230664134025574, -0.005472656339406967, -0.021746866405010223, -0.015147005207836628, -0.03478975594043732, -0.03353513032197952, 0.001911345636472106, 0.026399441063404083, -0.0165715292096138, 0.011840540915727615, 0.002608905080705881, -0.015212350524961948, -0.015761250630021095, -0.009658013470470905, -0.01723805069923401, -0.033927202224731445, 0.008573283441364765, -0.0253408495336771, 0.012239146046340466, 0.03703762963414192, 0.013474170118570328, -0.013284669257700443, 0.01962968334555626, 0.008507938124239445, -0.0049335588701069355, 0.009932463057339191, 0.004672178067266941, 0.0014163560699671507, -0.021877555176615715, -0.0005832054303027689, -0.004776730202138424, -0.0004888633848167956, 0.017407948151230812, 0.010808087885379791, 0.01395772397518158, 0.03348285332322121, -0.027366548776626587, -0.020897379145026207, -0.025693712756037712, -0.006001952104270458, -0.015225419774651527, -0.017133498564362526, -0.015225419774651527, 0.01774774305522442, -0.016297079622745514, 0.0044663408771157265, 0.009481580927968025, -0.0012480923905968666, -0.00464604003354907, 0.020165512338280678, 0.042082276195287704, 0.0025909352116286755, 0.02253100834786892, 0.0021335191559046507, 0.009520788677036762, -0.0223088338971138, -0.023027630522847176, -0.02922235056757927, -0.028699589893221855, -0.015617490746080875, -0.0022772785741835833, 0.028385933488607407, -0.0013493773294612765, 0.003324434394016862, -0.010317998938262463, 0.012513596564531326, -0.019302956759929657, -0.020243927836418152, -0.00787409022450447, -0.009279010817408562, -0.017185773700475693, -0.00831843726336956, -0.03515569120645523, -0.021916763857007027, 0.004495746456086636, 0.004900886211544275, -0.033927202224731445, 0.017068153247237206, -0.012435181997716427, -0.017185773700475693, -0.003881501965224743, -0.005064249038696289, 0.04085378721356392, -0.0008364178938791156, 0.023432770743966103, 0.04095834121108055, 0.015617490746080875, -0.006162047386169434, -0.02514481358230114, -0.009076441638171673, -0.01998254656791687, 0.043807387351989746, 0.019577406346797943, -0.006782826501876116, -0.011278572492301464, -0.01029186137020588, 0.0022544076200574636, -0.013827033340930939, -0.02747110091149807, 0.0029127600137144327, 0.005384440533816814, 0.027863170951604843, -0.0010332701494917274, -0.0063678850419819355, 0.008592886850237846, 0.01024611946195364, -0.0018182287458330393, 0.007292518857866526, 0.00037981869536451995, -0.011409263126552105, -0.021080344915390015, 0.03575686737895012, -0.02131558768451214, 0.007351329550147057, -0.00299934227950871, -0.010468292981386185, 0.007194500882178545, -0.0032215157989412546, 0.0036952681839466095, -0.003097360022366047, -0.00014355512394104153, 0.010239585302770138, 0.01250706147402525, 0.025262434035539627, 0.01300368458032608, -0.006854705978184938, -0.026791511103510857, -0.007285984233021736, 0.002925829030573368, 0.023027630522847176, -0.004567625932395458, -0.023158321157097816, 0.002991174114868045, 0.011402728967368603, 0.017198843881487846, -0.0033979478757828474, -0.019198404625058174, 0.002765733515843749, -0.026490923017263412, -0.005341966170817614, 0.020544515922665596, -0.008984957821667194, -0.007651917170733213, 0.002354058902710676, -0.008540610782802105, -0.005694829858839512, -0.038292258977890015, -0.01024611946195364, 0.02253100834786892, -0.025928955525159836, -0.013866241089999676, -0.00645283330231905, 0.03238505497574806, -0.01874098926782608, 0.009298615157604218, -0.03288168087601662, 0.011298175901174545, -0.0033391371835023165, -0.009396632201969624, -0.0029307298827916384, 0.007913297973573208, -0.00232628732919693, -0.03444996103644371, -0.0030140450689941645, -0.006139176897704601, -0.01861029863357544, 0.01082115713506937, -0.0070180692709982395, -0.021184897050261497, 0.0032247831113636494, -0.001997927902266383, -0.018440401181578636, -0.0065345149487257, -0.010866898111999035, -0.0050413780845701694, -0.008344575762748718, 0.013127840124070644, -0.012480923905968666, -0.0012480923905968666, 0.017159637063741684, -0.03484203293919563, 0.0012938339496031404, 0.00560007942840457, -0.007606175262480974, 0.01547373179346323, -0.004309512674808502, -0.011311245150864124, -0.0026301422622054815, -0.004329116083681583, -0.013232393190264702, -0.01108907163143158, -0.004361788742244244, 0.014362864196300507, -0.010814622044563293, -0.017603984102606773, -0.0056915623135864735, 0.006325410678982735, 0.003669130150228739, 0.00838378258049488, -0.01998254656791687, -0.0016573163447901607, 0.024582846090197563, 0.016427770256996155, 0.004534953273832798, -0.008605956099927425, -0.030633805319666862, -0.018754057586193085, -0.008932681754231453, -0.022609421983361244, -0.019485924392938614, -0.0035776470322161913, 0.038736604154109955, -0.001443310989998281, -0.012918735854327679, -0.009932463057339191, 0.014062276110053062, -0.012369836680591106, -0.028960971161723137, 0.019655821844935417, 0.008135471493005753, 0.009971669875085354, 0.013363082893192768, -0.016754496842622757, 0.019747303798794746, -0.00799824669957161, -0.005208008456975222, -0.008194281719624996, 0.009076441638171673, 0.007782607339322567, -0.011415797285735607, 0.0070050000213086605, -0.019106920808553696, -0.01534304115921259, -0.01787843368947506, 0.012467854656279087, 0.011049864813685417, -0.007619244512170553, 0.019420579075813293, -0.00232628732919693, -0.005655622575432062, 0.003610319457948208, 0.023798704147338867, 0.017355671152472496, 0.02492263913154602, 0.0034175512846559286, -0.04263117536902428, -0.0020894112531095743, -0.006273134145885706, -0.0014147225301712751, 0.004753859713673592, -0.02087124064564705, -0.003567845094949007, -0.004472875501960516, 0.011539953760802746, -0.0040252613835036755, -0.007259846199303865, -0.011258969083428383, -0.003388145938515663, -0.009442374110221863, 0.006325410678982735, -0.002733060857281089, 0.01344803161919117, 0.02625568024814129, -0.007240242790430784, 0.0030532521195709705, -0.021720727905631065, 0.014728796668350697, 0.004760394338518381, -0.00016366917407140136, -0.006122840568423271, 0.013866241089999676, -0.018845541402697563, -0.00461336737498641, -0.008338040672242641, 0.0012538100127130747, -0.018179019913077354, -0.03178388252854347, -0.010664328001439571, 0.01962968334555626, 0.0036789318546652794, -0.012435181997716427, -0.010259188711643219, 0.003930510953068733, -0.00601502088829875, -0.0032100805547088385, -0.021080344915390015, 0.00463623832911253, -0.0030369157902896404, -0.005335431545972824, 0.027288135141134262, -0.020675204694271088, -0.0038978380616754293, -0.0012031676014885306, 0.01547373179346323, 0.007926366291940212, 0.030320148915052414, 0.21621403098106384, 0.017198843881487846, -0.01606183685362339, 0.036567144095897675, 0.038710467517375946, -0.001502121682278812, 0.02383791096508503, 0.010631656274199486, 0.009579598903656006, 0.010095825418829918, 0.014702659100294113, 0.004499013535678387, 0.009723357856273651, 0.008801992051303387, 0.010010876692831516, -0.014441277831792831, -0.03708990663290024, -0.02425611950457096, -0.01034413743764162, 0.04051399230957031, 0.026242611929774284, 0.0024765811394900084, 0.01082115713506937, -0.009004561230540276, 0.03468520566821098, 0.02507946826517582, -0.015147005207836628, -0.024556707590818405, 0.02846434712409973, -0.0018394659273326397, -0.007076879497617483, -0.015133936889469624, -0.004414064809679985, 0.032933954149484634, 0.002488016616553068, -0.013709411956369877, 0.009710289537906647, -0.012101921252906322, 0.015382247976958752, -0.013800895772874355, 0.0023785633966326714, 0.021812211722135544, 0.006126107648015022, 0.007357863709330559, -0.002690586494281888, 0.02093658596277237, -0.01787843368947506, 0.0023328217212110758, 0.013487238436937332, -0.0017087756423279643, -0.015199282206594944, 0.001437593251466751, 0.017538638785481453, 0.033953338861465454, -0.006933120544999838, -0.006358082871884108, -0.0077760727144777775, -0.002323020016774535, -0.0055837430991232395, 0.007743400055915117, 0.0036397248040884733, 0.030921325087547302, -0.04020033776760101, 0.035992108285427094, -0.003607052145525813, -0.006835102569311857, -0.03617507591843605, -0.015160074457526207, 0.02673923596739769, -0.02705289237201214, 0.007357863709330559, 0.00879545696079731, -0.012644286267459393, -0.002976471558213234, -0.002082876628264785, -9.87834864645265e-05, 0.018649505451321602, 0.03329988941550255, 0.01343496236950159, 0.0047375233843922615, 0.007279449608176947, -0.02166845090687275, -0.010474827140569687, -0.01641470193862915, -0.005077318288385868, -0.010585914365947247, 0.03097360022366047, -0.0044205994345247746, 0.030842911452054977, 0.004557824227958918, 0.0024586112704128027, -0.011337383650243282, -0.00471791997551918, 0.00650184229016304, -0.01947285421192646, 0.043075524270534515, 0.009742962196469307, -0.003780216909945011, -0.0009997808374464512, -0.03899798542261124, -0.009030699729919434, 0.06863854825496674, 0.02479195035994053, 0.014336725696921349, -0.0036789318546652794, 0.0003628697886597365, -0.012696562334895134, -0.010938777588307858, 0.013395755551755428, -0.003708337200805545, 0.005348500330001116, -0.010651259683072567, -0.0032378521282225847, -0.014036138541996479, -0.0033113653771579266, -0.01734260283410549, -0.013630998320877552, 0.002259308472275734, -0.003610319457948208, -0.009684151038527489, -0.020949654281139374, -0.026059646159410477, 0.0034959653858095407, 0.007867556065320969, -0.004280107095837593, -0.0064920405857264996, -0.01938137225806713, 0.005979081150144339, 0.0004627253510989249, -0.034815896302461624, 0.009729892946779728, -0.001163143664598465, -0.00784141756594181, -0.007540830411016941, 0.004391193855553865, -0.0019048111280426383, 0.008684370666742325, 0.005113258026540279, -0.019198404625058174, -0.006972327362746, -0.018192090094089508, 0.001126387040130794, 0.01395772397518158, -0.0006779559189453721, 0.0035188363399356604, -0.014362864196300507, 0.005038111004978418, 0.01067739725112915, 0.004064468201249838, -0.021681521087884903, -0.017094291746616364, 0.010899570770561695, -0.013167047873139381, -0.007861021906137466, 0.006704412400722504, 0.006586791016161442, -0.005034843925386667, -0.017865363508462906, 0.030006492510437965, -0.018022192642092705, -0.018205158412456512, -0.034659069031476974, 0.03928550332784653, 0.007932901382446289, -0.021054206416010857, -0.00697886198759079, -0.16644716262817383, 0.01568283513188362, 0.040487855672836304, -0.023275941610336304, 0.015578283928334713, 0.000630580703727901, 0.04116744548082352, 0.009357425384223461, -0.021616175770759583, -0.008004780858755112, 0.03910253569483757, -0.013121305964887142, -0.033927202224731445, -0.01389237865805626, 0.030921325087547302, -0.019616613164544106, 0.010174239985644817, 0.02297535538673401, 0.01293833926320076, 0.005005438346415758, 0.04953162372112274, 0.011807868257164955, -0.03152250126004219, -0.007194500882178545, 0.002082876628264785, -0.00873011164367199, -0.010775415226817131, 0.024805018678307533, 0.00801785010844469, -0.03447610139846802, -0.0102003775537014, -0.01641470193862915, 0.015878871083259583, 0.008638628758490086, 0.001981591572985053, 0.003806354943662882, -0.009148321114480495, -0.010128498077392578, 0.004786532372236252, 0.009043768979609013, 0.007246776949614286, 0.019577406346797943, 0.03384878858923912, 0.01159876398742199, -0.004760394338518381, -0.0008470364846289158, 0.014101482927799225, -0.0020469368901103735, 0.0006105687352828681, -0.03531251847743988, 0.001314254361204803, -0.008102798834443092, -0.00043332003406248987, 0.004044864792376757, 0.0149771086871624, 0.01794377714395523, 0.011285107582807541, 0.02049223892390728, 0.013552583754062653, -0.007756469305604696, 0.007455881685018539, -0.02651706151664257, -0.012082317844033241, -0.007527761161327362, -0.015055522322654724, 0.0007494271849282086, 0.0014931366313248873, 0.012533199973404408, -0.021145690232515335, 0.01991720125079155, -0.0025827670469880104, 0.0005035660578869283, 0.006776291877031326, -0.004502280615270138, -0.008168144151568413, 0.0130690298974514, -0.011415797285735607, -0.005956210196018219, 0.012552803382277489, 0.0008682736661285162, -0.002087777480483055, 0.017996054142713547, -0.014271380379796028, 0.01599649339914322, -0.014232173562049866, -0.002844147616997361, 0.014349794946610928, 0.01343496236950159, -0.01648004725575447, -0.009416235610842705, 0.013827033340930939, -0.036854665726423264, -0.017773881554603577, -0.0019636217039078474, 0.005665424279868603, 0.027993861585855484, -0.021903693675994873, -0.0016279109986498952, 0.020988861098885536, -0.009069906547665596, 0.006926585920155048, 0.012043111026287079, -0.030267873778939247, 0.025471540167927742, 0.030607668682932854, -0.005760174710303545, 0.001774120843037963, 0.008821595460176468, 0.039311643689870834, -0.004907420836389065, 0.017185773700475693, 0.027967723086476326, 0.011951628141105175, 0.006472437176853418, 0.012794580310583115, 0.03201912343502045, 0.0015013047959655523, -0.016832910478115082, -0.004766928497701883, 0.01199736911803484, 0.031600914895534515, -0.002835979452356696, -0.007553899195045233, 0.019943339750170708, 0.004064468201249838, 0.00024075603869277984, -0.1128118634223938, -0.007155294064432383, 0.008658232167363167, 0.009461977519094944, -0.032803263515233994, 0.052249982953071594, 0.015617490746080875, 0.01931602694094181, -0.016872117295861244, 0.027680205181241035, 0.0014188066124916077, -0.037299010902643204, 0.004178822506219149, -0.015800457447767258, 0.003121864516288042, -0.001658950001001358, -0.013735550455749035, -0.021367864683270454, -0.00744281243532896, 0.003950114361941814, 0.006459367927163839, -0.02549767680466175, 0.007292518857866526, -0.014663451351225376, 0.002213567029684782, -0.015068591572344303, -0.027575653046369553, -0.004038330167531967, -0.005453052930533886, 0.00346982735209167, -0.0019652554765343666, -0.03876274451613426, -0.011481142602860928, -0.029013246297836304, 0.0015388783067464828, 0.028595037758350372, -0.004757126793265343, 0.005926805082708597, 0.014441277831792831, -0.022713974118232727, 0.004672178067266941, -0.003642992116510868, -0.01734260283410549, -0.03701149299740791, -0.0026497459039092064, -0.00970375444740057, -0.02221735008060932, 0.01727725751698017, 0.004054666496813297, -0.014950970187783241, -0.02027006447315216, -0.02301456220448017, -0.01216073241084814, -0.016048768535256386, -0.02368108183145523, -0.0011933657806366682, -0.01991720125079155, 0.01905464567244053, 0.0159311480820179, 0.0112328315153718, -0.0062208580784499645, 0.020858172327280045, -0.010252653621137142, 0.006763223093003035, 0.03949460759758949, 0.010063152760267258, -0.01781308837234974, 0.01301675383001566, 0.010017411783337593, -0.03097360022366047, -0.010553241707384586, 0.011526884511113167, -0.028699589893221855, 0.009135251864790916, -0.030424701049923897, 0.010808087885379791, -0.019969478249549866, -0.010102360509335995, 0.012716165743768215, -0.013225858099758625, -0.0035809141118079424, -0.026477854698896408, -0.021407071501016617, 0.004943360574543476, 0.0038586310110986233, 0.016832910478115082, -0.0010242852149531245, 0.006217590998858213, -0.00937049463391304, -0.02849048562347889, 0.004476142581552267, 0.0034012149553745985, 0.0334567166864872, -0.01991720125079155, 0.00563275208696723, 0.028255242854356766, 0.015787387266755104, -0.014676520600914955, 0.05000210925936699, 0.028595037758350372, -0.0007236975361593068, -0.008599421940743923, -0.055778618901968, 0.02294921688735485, 0.003803087631240487, 0.0016744694439694285, 0.006194720044732094, 0.00943583995103836, 0.02087124064564705, -0.02364187501370907, 0.006090167909860611, 0.019525131210684776, -0.009167924523353577, 0.005299491807818413, -0.01526462659239769, -0.001914612832479179, 0.01749943196773529, -0.005224344786256552, 0.014166828244924545, 0.016558460891246796, 0.01293833926320076, -0.013748619705438614, 0.01085382979363203, 0.006580256391316652, 0.018531884998083115, 0.0017888235161080956, -0.016911324113607407, 0.007338260300457478, -0.03358740732073784, 0.004319314379245043, -0.01125243492424488, -0.0066750068217515945, 0.03591369464993477, -0.002432473236694932, -0.015891941264271736, 0.01438900176435709, -0.011278572492301464, -0.020008685067296028, -0.01654539257287979, 0.01395772397518158, 0.028542760759592056, -0.004021993838250637, -0.01774774305522442, -0.04213455319404602, -0.00701153464615345, -0.0392070896923542, -0.01956433802843094, -0.022361110895872116, -0.006168582011014223, -0.01156609132885933, 0.0020224323961883783, -0.003489430993795395, 0.032202091068029404, 0.01408841460943222, 0.0059006670489907265, -0.023223666474223137, -0.015225419774651527, -0.026111921295523643, 0.006410358939319849, -0.014258312061429024, 0.04809403046965599, -0.014166828244924545, -0.0019178801449015737, 0.014179897494614124, 0.03358740732073784, -0.009135251864790916, 0.008050522767007351, 0.017264189198613167, 0.0005889231688342988, 0.0012840322451665998, 0.010520569048821926, -0.026922201737761497, -0.0006436497205868363, 0.0046166349202394485, 0.007174897473305464, -0.006629265379160643, 0.025419263169169426, -0.01721191219985485, -0.00513939606025815, 0.011526884511113167, -0.01351337693631649, 0.017630120739340782, -0.0029486999846994877, 0.008677835576236248, -0.011977765709161758, 0.00552819948643446, 0.019355233758687973, 0.00801785010844469, -0.0075800372287631035, 0.008514473214745522, -0.02587667852640152, -0.003561310702934861, -0.022857733070850372, -0.00301567860879004, -0.020923517644405365, -0.006057495251297951, 0.012480923905968666, 0.0014653649413958192, -0.013644067570567131, -0.005573941394686699, -0.023158321157097816, 0.01526462659239769, -0.0167283583432436, -0.009429304860532284, -0.012690028175711632, -0.012918735854327679, -0.015199282206594944, 0.018152883276343346, -0.0070180692709982395, -0.02922235056757927, -0.0204007551074028, 0.00701153464615345, 0.0077303312718868256, 0.007031138055026531, -0.018558021634817123, 0.0040121921338140965, -0.013722481206059456, -0.0034044822677969933, -0.027680205181241035, -0.01014810148626566, -0.035103414207696915, 0.03899798542261124, -0.004714652430266142, 0.0006122023914940655, -0.00424743490293622, -0.007939435541629791, 0.022361110895872116, 0.017538638785481453, 0.018976232036948204, -0.011324314400553703, 0.043676696717739105, 0.007174897473305464, -0.02734041027724743, -0.01829664222896099, 0.0026301422622054815, -0.010670863091945648, -0.01590500958263874, -0.034946586936712265, 0.0026105386205017567, 0.0350511372089386, 0.008592886850237846, 0.06294044852256775, -0.00517206871882081, -0.008207350969314575, 0.022256558761000633, 0.0024357405491173267, 0.020152444019913673, 0.030869048088788986, 0.006861240603029728, -0.026399441063404083, -0.024295326322317123, 0.025576092302799225, 0.005760174710303545, 0.02157696895301342, -0.024151567369699478, 0.026556268334388733, 0.005724234972149134, -0.041193582117557526, -0.0131474444642663, 0.010540172457695007, -0.015094729140400887, 0.01911999098956585, -0.03711604326963425, 0.019172266125679016, 0.004753859713673592, -0.011206693015992641, -0.0017675863346084952, 0.03499886393547058, 0.022896939888596535, -0.02109341509640217, -0.04806789383292198, -0.0029209281783550978, -0.006269867066293955, -0.0299542173743248, -0.010631656274199486, -0.012167266570031643, 0.0037508115638047457, 0.005694829858839512, 0.004116744268685579, 0.0062339273281395435, 0.015173143707215786, -0.013696343638002872, 0.014192966744303703, -0.006113038863986731, -0.012879529036581516, -0.017185773700475693, -0.015251558274030685, -0.004077537450939417, -0.016741426661610603, -0.034659069031476974], 'Id': 'SG93IG1hbnkgZGlmZmVyZW50IHByb2R1Y3QgY2F0ZWdvcmllcyBkbyB3ZSBoYXZlPw=='}\n",
            "INFO:azure.core.pipeline.policies.http_logging_policy:Request URL: 'https://open-ai-vector-db.search.windows.net/indexes('text-2-sql-query-cache-index')/docs/search.index?api-version=REDACTED'\n",
            "Request method: 'POST'\n",
            "Request headers:\n",
            "    'Content-Type': 'application/json'\n",
            "    'Content-Length': '35386'\n",
            "    'api-key': 'REDACTED'\n",
            "    'Accept': 'application/json;odata.metadata=none'\n",
            "    'x-ms-client-request-id': 'c9e80870-7681-11ef-9237-0242ac110002'\n",
            "    'User-Agent': 'azsdk-python-search-documents/11.6.0b4 Python/3.12.6 (Linux-5.15.153.1-microsoft-standard-WSL2-x86_64-with-glibc2.36)'\n",
            "A body is sent with the request\n",
            "INFO:azure.core.pipeline.policies.http_logging_policy:Response status: 200\n",
            "Response headers:\n",
            "    'Transfer-Encoding': 'chunked'\n",
            "    'Content-Type': 'application/json; odata.metadata=none; odata.streaming=true; charset=utf-8'\n",
            "    'Content-Encoding': 'REDACTED'\n",
            "    'Vary': 'REDACTED'\n",
            "    'Server': 'Microsoft-IIS/10.0'\n",
            "    'Strict-Transport-Security': 'REDACTED'\n",
            "    'Preference-Applied': 'REDACTED'\n",
            "    'OData-Version': 'REDACTED'\n",
            "    'request-id': 'c9e80870-7681-11ef-9237-0242ac110002'\n",
            "    'elapsed-time': 'REDACTED'\n",
            "    'Strict-Transport-Security': 'REDACTED'\n",
            "    'Date': 'Thu, 19 Sep 2024 12:22:10 GMT'\n"
          ]
        }
      ],
      "source": [
        "await ask_question(\"How many different product categories do we have?\", history)"
      ]
    }
  ],
  "metadata": {
    "kernel_info": {
      "name": "python310-sdkv2"
    },
    "kernelspec": {
      "display_name": "Python 3 (ipykernel)",
      "language": "python",
      "name": "python3"
    },
    "language_info": {
      "codemirror_mode": {
        "name": "ipython",
        "version": 3
      },
      "file_extension": ".py",
      "mimetype": "text/x-python",
      "name": "python",
      "nbconvert_exporter": "python",
      "pygments_lexer": "ipython3",
      "version": "3.12.6"
    },
    "microsoft": {
      "host": {
        "AzureML": {
          "notebookHasBeenCompleted": true
        }
      },
      "ms_spell_check": {
        "ms_spell_check_language": "en"
      }
    },
    "nteract": {
      "version": "nteract-front-end@1.0.0"
    }
  },
  "nbformat": 4,
  "nbformat_minor": 2
}
