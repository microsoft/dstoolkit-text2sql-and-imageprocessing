{
    "cells": [
        {
            "cell_type": "markdown",
            "metadata": {},
            "source": [
                "Copyright (c) Microsoft Corporation.\n",
                "\n",
                "Licensed under the MIT License."
            ]
        },
        {
            "cell_type": "markdown",
            "metadata": {},
            "source": [
                "# Text2SQL with AutoGen & Azure OpenAI\n",
                "\n",
                "This notebook demonstrates how the AutoGen Agents can be integrated with Azure OpenAI to answer questions from the database based on the schemas provided. \n",
                "\n",
                "A multi-shot approach is used for SQL generation for more reliable results and reduced token usage. More details can be found in the README.md.\n",
                "\n",
                "### Dependencies\n",
                "\n",
                "To install dependencies for this demo:\n",
                "\n",
                "`uv sync --package autogen_text_2_sql`\n",
                "\n",
                "`uv add --editable text_2_sql_core`"
            ]
        },
        {
            "cell_type": "code",
            "execution_count": 1,
            "metadata": {},
            "outputs": [],
            "source": [
                "# This is only needed for this notebook to work\n",
                "import sys\n",
                "from pathlib import Path\n",
                "\n",
                "# Add the parent directory of `src` to the path\n",
                "sys.path.append(str(Path.cwd() / \"src\"))"
            ]
        },
        {
            "cell_type": "code",
            "execution_count": 2,
            "metadata": {},
            "outputs": [],
            "source": [
                "import dotenv\n",
                "import logging\n",
                "from autogen_agentchat.ui import Console\n",
                "from autogen_text_2_sql.autogen_text_2_sql import AutoGenText2Sql"
            ]
        },
        {
            "cell_type": "code",
            "execution_count": 3,
            "metadata": {},
            "outputs": [],
            "source": [
                "logging.basicConfig(level=logging.ERROR)"
            ]
        },
        {
            "cell_type": "code",
            "execution_count": null,
            "metadata": {},
            "outputs": [],
            "source": [
                "dotenv.load_dotenv()"
            ]
        },
        {
            "cell_type": "markdown",
            "metadata": {},
            "source": [
                "## Bot setup"
            ]
        },
        {
            "cell_type": "code",
            "execution_count": 5,
            "metadata": {},
            "outputs": [],
            "source": [
                "agentic_text_2_sql = AutoGenText2Sql(engine_specific_rules=\"\", use_case=\"Analysing sales data\")"
            ]
        },
        {
            "cell_type": "markdown",
            "metadata": {},
            "source": [
                "### Test Simple Query"
            ]
        },
        {
            "cell_type": "code",
            "execution_count": null,
            "metadata": {},
            "outputs": [],
            "source": [
                "# Process the question and get the stream\n",
                "stream = agentic_text_2_sql.process_question(\n",
                "    task=\"What total number of orders in June 2008?\",\n",
                "    parameters={\"date\": \"2008-06-01\"}\n",
                ")\n",
                "\n",
                "# Display the streaming results\n",
                "await Console(stream)"
            ]
        },
        {
            "cell_type": "markdown",
            "metadata": {},
            "source": [
                "### Test 1: Complex Query with Independent Sub-queries\n",
                "\n",
                "This test demonstrates parallel processing of independent sub-queries. Each metric can be calculated independently and combined in the final result."
            ]
        },
        {
            "cell_type": "code",
            "execution_count": null,
            "metadata": {},
            "outputs": [],
            "source": [
                "# reset\n",
                "agentic_text_2_sql = AutoGenText2Sql(engine_specific_rules=\"\", use_case=\"Analysing sales data\")\n",
                "\n",
                "# Process multiple independent metrics in parallel\n",
                "stream = agentic_text_2_sql.process_question(\n",
                "    task=\"\"\"Compare the following metrics for 2008:\n",
                "    1. Total number of orders\n",
                "    2. Average order value\n",
                "    3. Number of unique customers\n",
                "    4. Top selling product category\"\"\",\n",
                "    parameters={\"year\": \"2008\"}\n",
                ")\n",
                "\n",
                "# Display the streaming results\n",
                "await Console(stream)"
            ]
        },
        {
            "cell_type": "markdown",
            "metadata": {},
            "source": [
                "### Test 2: Query with Dependent Sub-queries\n",
                "\n",
                "This test demonstrates sequential processing where later queries depend on earlier results. The system will process these queries in the correct order based on their dependencies."
            ]
        },
        {
            "cell_type": "code",
            "execution_count": null,
            "metadata": {},
            "outputs": [],
            "source": [
                "# reset\n",
                "agentic_text_2_sql = AutoGenText2Sql(engine_specific_rules=\"\", use_case=\"Analysing sales data\")\n",
                "\n",
                "# Process dependent queries sequentially\n",
                "stream = agentic_text_2_sql.process_question(\n",
                "    task=\"\"\"Find the top customer by total order value in 2008, then:\n",
                "    1. List all their orders\n",
                "    2. Calculate their average order value\n",
                "    3. Show what product categories they prefer\"\"\",\n",
                "    parameters={\"year\": \"2008\"}\n",
                ")\n",
                "\n",
                "# Display the streaming results\n",
                "await Console(stream)"
            ]
        },
        {
            "cell_type": "markdown",
            "metadata": {},
            "source": [
                "### Test 3: Mixed Independent and Dependent Queries\n",
                "\n",
                "This test combines both parallel and sequential processing. After identifying the best-selling category, multiple analysis queries can run in parallel."
            ]
        },
        {
            "cell_type": "code",
            "execution_count": null,
            "metadata": {},
            "outputs": [],
            "source": [
                "# reset\n",
                "agentic_text_2_sql = AutoGenText2Sql(engine_specific_rules=\"\", use_case=\"Analysing sales data\")\n",
                "\n",
                "# Process mixed parallel and sequential queries\n",
                "stream = agentic_text_2_sql.process_question(\n",
                "    task=\"\"\"Analyze our best-selling product category:\n",
                "    1. First identify the category with highest total sales\n",
                "    2. Then simultaneously calculate:\n",
                "       - Monthly sales trend for this category\n",
                "       - Top 5 customers for this category\"\"\",\n",
                "    parameters={\"date_range\": \"all_time\"}\n",
                ")\n",
                "\n",
                "# Display the streaming results\n",
                "await Console(stream)"
            ]
        }
    ],
    "metadata": {
        "kernelspec": {
            "display_name": ".venv",
            "language": "python",
            "name": "python3"
        },
        "language_info": {
            "codemirror_mode": {
                "name": "ipython",
                "version": 3
            },
            "file_extension": ".py",
            "mimetype": "text/x-python",
            "name": "python",
            "nbconvert_exporter": "python",
            "pygments_lexer": "ipython3",
            "version": "3.12.7"
        }
    },
    "nbformat": 4,
    "nbformat_minor": 4
}
