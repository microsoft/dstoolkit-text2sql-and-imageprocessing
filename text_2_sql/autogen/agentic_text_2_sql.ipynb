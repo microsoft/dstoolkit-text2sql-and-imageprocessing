{
  "cells": [
    {
      "cell_type": "code",
      "execution_count": 8,
      "metadata": {},
      "outputs": [],
      "source": [
        "import dotenv\n",
        "import logging\n",
        "from selector import SELECTOR"
      ]
    },
    {
      "cell_type": "code",
      "execution_count": 9,
      "metadata": {},
      "outputs": [],
      "source": [
        "logging.basicConfig(level=logging.INFO)"
      ]
    },
    {
      "cell_type": "code",
      "execution_count": 10,
      "metadata": {},
      "outputs": [
        {
          "data": {
            "text/plain": [
              "True"
            ]
          },
          "execution_count": 10,
          "metadata": {},
          "output_type": "execute_result"
        }
      ],
      "source": [
        "dotenv.load_dotenv()"
      ]
    },
    {
      "cell_type": "code",
      "execution_count": 11,
      "metadata": {},
      "outputs": [
        {
          "name": "stderr",
          "output_type": "stream",
          "text": [
            "INFO:autogen_core:Publishing message of type GroupChatStart to all subscribers: {'message': TextMessage(source='user', models_usage=None, content='What are the total number of sales within 2008?')}\n",
            "INFO:autogen_core:Calling message handler for SQL_Query_Generation_Agent with message type GroupChatStart published by Unknown\n",
            "INFO:autogen_core:Calling message handler for SQL_Schema_Selection_Agent with message type GroupChatStart published by Unknown\n",
            "INFO:autogen_core:Calling message handler for SQL_Query_Correction_Agent with message type GroupChatStart published by Unknown\n",
            "INFO:autogen_core:Calling message handler for SQL_Query_Cache_Agent with message type GroupChatStart published by Unknown\n",
            "INFO:autogen_core:Calling message handler for Answer_Agent with message type GroupChatStart published by Unknown\n",
            "INFO:autogen_core:Calling message handler for Question_Decomposition_Agent with message type GroupChatStart published by Unknown\n",
            "INFO:autogen_core:Calling message handler for SQL_Query_Generation_Agent with message type GroupChatStart published by Unknown\n",
            "INFO:autogen_core:Calling message handler for SQL_Schema_Selection_Agent with message type GroupChatStart published by Unknown\n",
            "INFO:autogen_core:Calling message handler for SQL_Query_Correction_Agent with message type GroupChatStart published by Unknown\n",
            "INFO:autogen_core:Calling message handler for SQL_Query_Cache_Agent with message type GroupChatStart published by Unknown\n",
            "INFO:autogen_core:Calling message handler for Answer_Agent with message type GroupChatStart published by Unknown\n",
            "INFO:autogen_core:Calling message handler for Question_Decomposition_Agent with message type GroupChatStart published by Unknown\n",
            "INFO:autogen_core:Calling message handler for group_chat_manager with message type GroupChatStart published by Unknown\n",
            "INFO:autogen_core:Publishing message of type GroupChatStart to all subscribers: {'message': TextMessage(source='user', models_usage=None, content='What are the total number of sales within 2008?')}\n",
            "INFO:autogen_core:Calling message handler for collect_output_messages with message type GroupChatStart published by group_chat_manager/3b4d5ab6-7cfa-4179-8079-28bf0d1e0db4\n",
            "INFO:autogen_agentchat.events:source='user' models_usage=None content='What are the total number of sales within 2008?'\n",
            "INFO:httpx:HTTP Request: POST https://aoai-text2sql-adi.openai.azure.com/openai/deployments/gpt-4o-mini/chat/completions?api-version=2024-08-01-preview \"HTTP/1.1 200 OK\"\n",
            "INFO:autogen_core.events:{\"prompt_tokens\": 1801, \"completion_tokens\": 6, \"type\": \"LLMCall\"}\n",
            "INFO:autogen_core:Publishing message of type GroupChatRequestPublish to all subscribers: {}\n",
            "INFO:autogen_core:Calling message handler for SQL_Query_Cache_Agent with message type GroupChatRequestPublish published by group_chat_manager/3b4d5ab6-7cfa-4179-8079-28bf0d1e0db4\n",
            "INFO:httpx:HTTP Request: POST https://aoai-text2sql-adi.openai.azure.com/openai/deployments/gpt-4o-mini/chat/completions?api-version=2024-08-01-preview \"HTTP/1.1 200 OK\"\n",
            "INFO:autogen_core.events:{\"prompt_tokens\": 1582, \"completion_tokens\": 28, \"type\": \"LLMCall\"}\n",
            "INFO:autogen_core:Publishing message of type GroupChatMessage to all subscribers: {'message': ToolCallMessage(source='SQL_Query_Cache_Agent', models_usage=RequestUsage(prompt_tokens=1582, completion_tokens=28), content=[FunctionCall(id='call_CSvANg2842Hg57erUpUGssoe', arguments='{\"question\":\"What is the total number of sales orders in 2008?\"}', name='fetch_queries_from_cache')])}\n",
            "INFO:autogen_core:Calling message handler for collect_output_messages with message type GroupChatMessage published by SQL_Query_Cache_Agent/3b4d5ab6-7cfa-4179-8079-28bf0d1e0db4\n",
            "INFO:autogen_agentchat.events:source='SQL_Query_Cache_Agent' models_usage=RequestUsage(prompt_tokens=1582, completion_tokens=28) content=[FunctionCall(id='call_CSvANg2842Hg57erUpUGssoe', arguments='{\"question\":\"What is the total number of sales orders in 2008?\"}', name='fetch_queries_from_cache')]\n",
            "INFO:httpx:HTTP Request: POST https://aoai-text2sql-adi.openai.azure.com/openai/deployments/text-embedding-ada-002/embeddings?api-version=2023-03-15-preview \"HTTP/1.1 200 OK\"\n",
            "INFO:azure.core.pipeline.policies.http_logging_policy:Request URL: 'https://aisearch-text2sql-adi.search.windows.net/indexes('text-2-sql-query-cache-index')/docs/search.post.search?api-version=REDACTED'\n",
            "Request method: 'POST'\n",
            "Request headers:\n",
            "    'Content-Type': 'application/json'\n",
            "    'Content-Length': '34704'\n",
            "    'api-key': 'REDACTED'\n",
            "    'Accept': 'application/json;odata.metadata=none'\n",
            "    'x-ms-client-request-id': '6a968312-a735-11ef-a762-0242ac110002'\n",
            "    'User-Agent': 'azsdk-python-search-documents/11.6.0b5 Python/3.12.6 (Linux-5.15.153.1-microsoft-standard-WSL2-x86_64-with-glibc2.36)'\n",
            "A body is sent with the request\n",
            "INFO:azure.core.pipeline.policies.http_logging_policy:Response status: 200\n",
            "Response headers:\n",
            "    'Transfer-Encoding': 'chunked'\n",
            "    'Content-Type': 'application/json; odata.metadata=none; odata.streaming=true; charset=utf-8'\n",
            "    'Content-Encoding': 'REDACTED'\n",
            "    'Vary': 'REDACTED'\n",
            "    'Server': 'Microsoft-IIS/10.0'\n",
            "    'Strict-Transport-Security': 'REDACTED'\n",
            "    'Preference-Applied': 'REDACTED'\n",
            "    'OData-Version': 'REDACTED'\n",
            "    'request-id': '6a968312-a735-11ef-a762-0242ac110002'\n",
            "    'elapsed-time': 'REDACTED'\n",
            "    'Strict-Transport-Security': 'REDACTED'\n",
            "    'Date': 'Wed, 20 Nov 2024 11:48:53 GMT'\n",
            "INFO:root:Results: []\n",
            "INFO:autogen_core:Publishing message of type GroupChatMessage to all subscribers: {'message': ToolCallResultMessage(source='SQL_Query_Cache_Agent', models_usage=None, content=[FunctionExecutionResult(content=\"{'cached_questions': None}\", call_id='call_CSvANg2842Hg57erUpUGssoe')])}\n",
            "INFO:autogen_core:Calling message handler for collect_output_messages with message type GroupChatMessage published by SQL_Query_Cache_Agent/3b4d5ab6-7cfa-4179-8079-28bf0d1e0db4\n",
            "INFO:autogen_agentchat.events:source='SQL_Query_Cache_Agent' models_usage=None content=[FunctionExecutionResult(content=\"{'cached_questions': None}\", call_id='call_CSvANg2842Hg57erUpUGssoe')]\n",
            "INFO:httpx:HTTP Request: POST https://aoai-text2sql-adi.openai.azure.com/openai/deployments/gpt-4o-mini/chat/completions?api-version=2024-08-01-preview \"HTTP/1.1 500 model_error\"\n",
            "INFO:openai._base_client:Retrying request to /chat/completions in 0.951392 seconds\n",
            "INFO:httpx:HTTP Request: POST https://aoai-text2sql-adi.openai.azure.com/openai/deployments/gpt-4o-mini/chat/completions?api-version=2024-08-01-preview \"HTTP/1.1 500 model_error\"\n",
            "INFO:openai._base_client:Retrying request to /chat/completions in 1.995870 seconds\n"
          ]
        }
      ],
      "source": [
        "result = await SELECTOR.run(task=\"What are the total number of sales within 2008?\")"
      ]
    },
    {
      "cell_type": "code",
      "execution_count": null,
      "metadata": {},
      "outputs": [],
      "source": [
        "print(result.messages[-1].content)"
      ]
    },
    {
      "cell_type": "code",
      "execution_count": null,
      "metadata": {},
      "outputs": [],
      "source": []
    },
    {
      "cell_type": "code",
      "execution_count": null,
      "metadata": {},
      "outputs": [],
      "source": []
    }
  ],
  "metadata": {
    "kernelspec": {
      "display_name": "Python 3",
      "language": "python",
      "name": "python3"
    },
    "language_info": {
      "codemirror_mode": {
        "name": "ipython",
        "version": 3
      },
      "file_extension": ".py",
      "mimetype": "text/x-python",
      "name": "python",
      "nbconvert_exporter": "python",
      "pygments_lexer": "ipython3",
      "version": "3.12.6"
    }
  },
  "nbformat": 4,
  "nbformat_minor": 2
}
