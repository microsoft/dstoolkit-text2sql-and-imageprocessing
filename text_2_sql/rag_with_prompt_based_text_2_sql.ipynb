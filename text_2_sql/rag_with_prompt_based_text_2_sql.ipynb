{
  "cells": [
    {
      "cell_type": "markdown",
      "metadata": {},
      "source": [
        "Copyright (c) Microsoft Corporation.\n",
        "\n",
        "Licensed under the MIT License."
      ]
    },
    {
      "cell_type": "markdown",
      "metadata": {},
      "source": [
        "# Text2SQL with Semantic Kernel & Azure OpenAI\n",
        "\n",
        "This notebook demonstrates how the SQL plugin can be integrated with Semantic Kernel and Azure OpenAI to answer questions from the database based on the schemas provided. \n",
        "\n",
        "A multi-shot approach is used for SQL generation for more reliable results and reduced token usage. More details can be found in the README.md."
      ]
    },
    {
      "cell_type": "code",
      "execution_count": 1,
      "metadata": {
        "gather": {
          "logged": 1718623217703
        },
        "jupyter": {
          "outputs_hidden": false,
          "source_hidden": false
        },
        "nteract": {
          "transient": {
            "deleting": false
          }
        }
      },
      "outputs": [],
      "source": [
        "import logging\n",
        "import os\n",
        "import yaml\n",
        "import dotenv\n",
        "import json\n",
        "from semantic_kernel.connectors.ai.open_ai import (\n",
        "    AzureChatCompletion,\n",
        ")\n",
        "from semantic_kernel.contents.chat_history import ChatHistory\n",
        "from semantic_kernel.kernel import Kernel\n",
        "from plugins.prompt_based_sql_plugin.prompt_based_sql_plugin import PromptBasedSQLPlugin\n",
        "from semantic_kernel.functions.kernel_arguments import KernelArguments\n",
        "from semantic_kernel.prompt_template.prompt_template_config import PromptTemplateConfig\n",
        "from IPython.display import display, Markdown\n",
        "\n",
        "logging.basicConfig(level=logging.INFO)"
      ]
    },
    {
      "cell_type": "markdown",
      "metadata": {},
      "source": [
        "## Kernel Setup"
      ]
    },
    {
      "cell_type": "code",
      "execution_count": 2,
      "metadata": {},
      "outputs": [],
      "source": [
        "dotenv.load_dotenv()\n",
        "kernel = Kernel()"
      ]
    },
    {
      "cell_type": "markdown",
      "metadata": {},
      "source": [
        "## Set up GPT connections"
      ]
    },
    {
      "cell_type": "code",
      "execution_count": 3,
      "metadata": {
        "gather": {
          "logged": 1718623218006
        },
        "jupyter": {
          "outputs_hidden": false,
          "source_hidden": false
        },
        "nteract": {
          "transient": {
            "deleting": false
          }
        }
      },
      "outputs": [],
      "source": [
        "service_id = \"chat\""
      ]
    },
    {
      "cell_type": "code",
      "execution_count": 4,
      "metadata": {
        "gather": {
          "logged": 1718623218267
        },
        "jupyter": {
          "outputs_hidden": false,
          "source_hidden": false
        },
        "nteract": {
          "transient": {
            "deleting": false
          }
        }
      },
      "outputs": [],
      "source": [
        "chat_service = AzureChatCompletion(\n",
        "    service_id=service_id,\n",
        "    deployment_name=os.environ[\"OpenAI__CompletionDeployment\"],\n",
        "    endpoint=os.environ[\"OpenAI__Endpoint\"],\n",
        "    api_key=os.environ[\"OpenAI__ApiKey\"],\n",
        ")\n",
        "kernel.add_service(chat_service)"
      ]
    },
    {
      "cell_type": "code",
      "execution_count": 5,
      "metadata": {
        "gather": {
          "logged": 1718623218614
        },
        "jupyter": {
          "outputs_hidden": false,
          "source_hidden": false
        },
        "nteract": {
          "transient": {
            "deleting": false
          }
        }
      },
      "outputs": [
        {
          "data": {
            "text/plain": [
              "KernelPlugin(name='SQL', description=None, functions={'GetEntitySchema': KernelFunctionFromMethod(metadata=KernelFunctionMetadata(name='GetEntitySchema', plugin_name='SQL', description='Get the detailed schema of an entity in the Database. Use the entity and the column returned to formulate a SQL query. The view name or table name must be one of the ENTITY NAMES defined in the [ENTITIES LIST]. Only use the column names obtained from GetEntitySchema() when constructing a SQL query, do not make up column names.', parameters=[KernelParameterMetadata(name='entity_name', description='The view or table name to get the schema for. It must be one of the ENTITY NAMES defined in the [ENTITIES LIST] function.', default_value=None, type_='str', is_required=True, type_object=<class 'str'>, schema_data={'type': 'string', 'description': 'The view or table name to get the schema for. It must be one of the ENTITY NAMES defined in the [ENTITIES LIST] function.'}, function_schema_include=True)], is_prompt=False, is_asynchronous=True, return_parameter=KernelParameterMetadata(name='return', description='', default_value=None, type_='str', is_required=True, type_object=<class 'str'>, schema_data={'type': 'string'}, function_schema_include=True), additional_properties={}), invocation_duration_histogram=<opentelemetry.metrics._internal.instrument._ProxyHistogram object at 0x7fcbfc8b8a70>, streaming_duration_histogram=<opentelemetry.metrics._internal.instrument._ProxyHistogram object at 0x7fcbfc8b8a40>, method=<bound method SQLPlugin.get_entity_schema of <plugins.sql_plugin.sql_plugin.SQLPlugin object at 0x7fcbd2fe1d30>>, stream_method=None), 'RunSQLQuery': KernelFunctionFromMethod(metadata=KernelFunctionMetadata(name='RunSQLQuery', plugin_name='SQL', description='Runs an SQL query against the SQL Database to extract information.', parameters=[KernelParameterMetadata(name='sql_query', description='The SQL query to run against the DB', default_value=None, type_='str', is_required=True, type_object=<class 'str'>, schema_data={'type': 'string', 'description': 'The SQL query to run against the DB'}, function_schema_include=True)], is_prompt=False, is_asynchronous=True, return_parameter=KernelParameterMetadata(name='return', description='', default_value=None, type_='str', is_required=True, type_object=<class 'str'>, schema_data={'type': 'string'}, function_schema_include=True), additional_properties={}), invocation_duration_histogram=<opentelemetry.metrics._internal.instrument._ProxyHistogram object at 0x7fcbfc8b8a70>, streaming_duration_histogram=<opentelemetry.metrics._internal.instrument._ProxyHistogram object at 0x7fcbfc8b8a40>, method=<bound method SQLPlugin.run_sql_query of <plugins.sql_plugin.sql_plugin.SQLPlugin object at 0x7fcbd2fe1d30>>, stream_method=None)})"
            ]
          },
          "execution_count": 5,
          "metadata": {},
          "output_type": "execute_result"
        }
      ],
      "source": [
        "# Register the SQL Plugin with the Database name to use.\n",
        "sql_plugin = PromptBasedSQLPlugin(database=os.environ[\"Text2Sql__DatabaseName\"])\n",
        "kernel.add_plugin(sql_plugin, \"SQL\")"
      ]
    },
    {
      "cell_type": "markdown",
      "metadata": {
        "nteract": {
          "transient": {
            "deleting": false
          }
        }
      },
      "source": [
        "## Prompt Setup"
      ]
    },
    {
      "cell_type": "code",
      "execution_count": 6,
      "metadata": {},
      "outputs": [],
      "source": [
        "# Load prompt and execution settings from the file\n",
        "with open(\"./prompt.yaml\", \"r\") as file:\n",
        "    data = yaml.safe_load(file.read())\n",
        "    prompt_template_config = PromptTemplateConfig(**data)"
      ]
    },
    {
      "cell_type": "code",
      "execution_count": 7,
      "metadata": {},
      "outputs": [],
      "source": [
        "chat_function = kernel.add_function(\n",
        "    prompt_template_config=prompt_template_config,\n",
        "    plugin_name=\"ChatBot\",\n",
        "    function_name=\"Chat\",\n",
        ")"
      ]
    },
    {
      "cell_type": "markdown",
      "metadata": {},
      "source": [
        "## ChatBot setup"
      ]
    },
    {
      "cell_type": "code",
      "execution_count": 8,
      "metadata": {},
      "outputs": [],
      "source": [
        "history = ChatHistory()"
      ]
    },
    {
      "cell_type": "code",
      "execution_count": 9,
      "metadata": {},
      "outputs": [],
      "source": [
        "async def ask_question(question: str, chat_history: ChatHistory) -> str:\n",
        "    \"\"\"Asks a question to the chatbot and returns the answer.\n",
        "    \n",
        "    Args:\n",
        "        question (str): The question to ask the chatbot.\n",
        "        chat_history (ChatHistory): The chat history object.\n",
        "        \n",
        "    Returns:\n",
        "        str: The answer from the chatbot.\n",
        "    \"\"\"\n",
        "\n",
        "    # Create important information prompt that contains the SQL database information.\n",
        "    engine_specific_rules = \"Use TOP X to limit the number of rows returned instead of LIMIT X. NEVER USE LIMIT X as it produces a syntax error.\"\n",
        "    important_information_prompt = f\"\"\"\n",
        "    [SQL DATABASE INFORMATION]\n",
        "    {sql_plugin.system_prompt(engine_specific_rules=engine_specific_rules)}\n",
        "    [END SQL DATABASE INFORMATION]\n",
        "    \"\"\"\n",
        "\n",
        "    arguments = KernelArguments()\n",
        "    arguments[\"chat_history\"] = chat_history\n",
        "    arguments[\"important_information\"] = important_information_prompt\n",
        "    arguments[\"user_input\"] = question\n",
        "\n",
        "    logging.info(\"Question: %s\", question)\n",
        "\n",
        "    answer = await kernel.invoke(\n",
        "        function_name=\"Chat\",\n",
        "        plugin_name=\"ChatBot\",\n",
        "        arguments=arguments,\n",
        "        chat_history=chat_history,\n",
        "    )\n",
        "\n",
        "    logging.info(\"Answer: %s\", answer)\n",
        "\n",
        "    # Log the question and answer to the chat history.\n",
        "    chat_history.add_user_message(question)\n",
        "    chat_history.add_message({\"role\": \"assistant\", \"message\": answer})\n",
        "\n",
        "    json_answer = json.loads(str(answer))\n",
        "\n",
        "    display(Markdown(json_answer[\"answer\"]))"
      ]
    },
    {
      "cell_type": "code",
      "execution_count": 10,
      "metadata": {},
      "outputs": [
        {
          "name": "stderr",
          "output_type": "stream",
          "text": [
            "INFO:root:Question: What are the different product categories we have?\n",
            "INFO:semantic_kernel.functions.kernel_function:Function ChatBot-Chat invoking.\n",
            "INFO:semantic_kernel.contents.chat_history:Could not parse prompt <message role=\"system\">\n",
            "As a senior analyst, your primary responsibility is to provide precise and thorough answers to the user's queries. Utilize all the provided functions to craft your responses. You must deliver detailed and accurate final answers with clear explanations and actionable insights.\n",
            "\n",
            "Always use the provided functions to obtain key information in order to answer the question.\n",
            "If you are asked to use always use a function, you must use that function to compliment the answer.\n",
            "Always use multiple functions to formulate the answer.\n",
            "Always execute multiple functions in parallel to compliment the results.\n",
            "\n",
            "The response to the user must meet the requirements in RESPONSE OUTPUT REQUIREMENTS.\n",
            "IMPORTANT INFORMATION contains useful information that you can use to aid your knowledge.\n",
            "CHAT HISTORY contains the previous question and answer pairs in the conversation in JSON format. Do not use this information to answer the question, but to provide context on what was asked previously.\n",
            "\n",
            "[IMPORTANT INFORMATION]\n",
            "\n",
            "\n",
            "    [SQL DATABASE INFORMATION]\n",
            "    Use the names and descriptions of Microsoft TSQL Server entities provided in ENTITIES LIST to decide which entities to query if you need to retrieve information from the database. Use the &#x27;GetEntitySchema()&#x27; function to get more details of the schema of the view you want to query. Use the &#x27;RunSQLQuery()&#x27; function to run the SQL query against the database.\n",
            "\n",
            "        You must always examine the provided Microsoft TSQL Server entity descriptions to determine if they can answer the question.\n",
            "\n",
            "        [BEGIN ENTITIES LIST]\n",
            "             [BEGIN ENTITY = &#x27;GET ALL CATEGORIES&#x27;]\n",
            "                 Name=&#x27;Get All Categories&#x27;\n",
            "                 Description=&#x27;This view provides a comprehensive list of all product categories and their corresponding subcategories in the SalesLT schema of the AdventureWorksLT database. It is used to understand the hierarchical structure of product categories, facilitating product organization and categorization. Use this view to retrieve information about product categories and subcategories. It is useful for scenarios where product categorization is required, such as generating reports based on product categories or filtering products by category.&#x27;\n",
            "             [END ENTITY = &#x27;GET ALL CATEGORIES&#x27;]\n",
            "\n",
            "             [BEGIN ENTITY = &#x27;PRODUCT AND DESCRIPTION&#x27;]\n",
            "                 Name=&#x27;Product and Description&#x27;\n",
            "                 Description=&#x27;This view provides detailed information about products, including their names, associated product models, descriptions, and the specific culture or language of the description. It is useful for understanding product details and translating product descriptions for different cultures. Use this view when you need comprehensive details about products, including their descriptions in different languages. This view is particularly useful for multilingual product catalogs or when creating localized content.&#x27;\n",
            "             [END ENTITY = &#x27;PRODUCT AND DESCRIPTION&#x27;]\n",
            "\n",
            "             [BEGIN ENTITY = &#x27;PRODUCT MODEL CATALOG DESCRIPTION&#x27;]\n",
            "                 Name=&#x27;Product Model Catalog Description&#x27;\n",
            "                 Description=&#x27;This view provides detailed catalog information about product models, including descriptions, manufacturing details, warranty information, and specifications related to product design and features. It is useful for generating comprehensive product catalogs and providing detailed product information to customers. Use this view when you need to retrieve detailed product model descriptions, manufacturing information, and specifications. It is particularly useful for creating product catalogs, detailing product features, and providing warranty information.&#x27;\n",
            "             [END ENTITY = &#x27;PRODUCT MODEL CATALOG DESCRIPTION&#x27;]\n",
            "\n",
            "             [BEGIN ENTITY = &#x27;SALES ORDER DETAIL&#x27;]\n",
            "                 Name=&#x27;Sales Order Detail&#x27;\n",
            "                 Description=&#x27;This table stores detailed information about sales order tickets, including the order details, customer information, order status, and timestamps. It is used to manage and track sales orders throughout the order lifecycle, from creation to fulfillment. Use this table to retrieve or store information related to individual sales order tickets. This is applicable when processing sales orders, managing customer transactions, or tracking order fulfillment status.&#x27;\n",
            "             [END ENTITY = &#x27;SALES ORDER DETAIL&#x27;]\n",
            "\n",
            "             [BEGIN ENTITY = &#x27;SALES ORDER HEADER&#x27;]\n",
            "                 Name=&#x27;Sales Order Header&#x27;\n",
            "                 Description=&#x27;This table contains high-level information about sales orders, including order dates, customer details, shipping information, and order status. It is used to manage and track sales orders from initiation to fulfillment. Use this table to retrieve or store information related to the overall details of a sales order. It is applicable when you need to track order status, manage order dates, or relate orders to customers and shipping information.&#x27;\n",
            "             [END ENTITY = &#x27;SALES ORDER HEADER&#x27;]\n",
            "\n",
            "             [BEGIN ENTITY = &#x27;ADDRESS&#x27;]\n",
            "                 Name=&#x27;Address&#x27;\n",
            "                 Description=&#x27;This table stores address information for customers, including street addresses, city, state, postal code, and country/region. It is used to maintain contact and shipping information for orders, as well as to manage customer locations. Use this table to retrieve or store address details for customers, shipping locations, or billing addresses. It is applicable in scenarios where location information is required, such as shipping orders, verifying customer addresses, or managing geographical data.&#x27;\n",
            "             [END ENTITY = &#x27;ADDRESS&#x27;]\n",
            "        [END ENTITIES LIST]\n",
            "\n",
            "        Output corresponding text values in the answer for columns where there is an ID. For example, if the column is &#x27;ProductID&#x27;, output the corresponding &#x27;ProductModel&#x27; in the response. Do not include the ID in the response.\n",
            "        If a user is asking for a comparison, always compare the relevant values in the database.\n",
            "\n",
            "        The target database engine is Microsoft TSQL Server, SQL queries must be able compatible to run on Microsoft TSQL Server. \n",
            "        The following Microsoft TSQL Server Syntax rules must be adhered to.\n",
            "        Use TOP X to limit the number of rows returned instead of LIMIT X. NEVER USE LIMIT X as it produces a syntax error.\n",
            "        Always generate the SQL query based on the GetEntitySchema() function output, do not use the chat history data to generate the SQL query.\n",
            "        Do not use any other entities and columns in your SQL query, other than those defined above. Only use the column names obtained from GetEntitySchema() when constructing a SQL query, do not make up column names.\n",
            "        You must only provide SELECT SQL queries.\n",
            "        For a given entity, use the &#x27;select_from_entity&#x27; property returned from &#x27;GetEntitySchema()&#x27; function in the SELECT FROM part of the SQL query. If the property is {&#x27;select_from_entity&#x27;: &#x27;test_schema.test_table&#x27;}, the select statement will be formulated from &#x27;SELECT &lt;VALUES&gt; FROM test_schema.test_table WHERE &lt;CONDITION&gt;.\n",
            "\n",
            "        If you don&#x27;t know how the value is formatted in a column, run a query against the column to get the unique values that might match your query.\n",
            "        Some columns returned from &#x27;GetEntitySchema()&#x27; may have the properties &#x27;allowed_values&#x27; or &#x27;sample_values&#x27;. Use these values to determine the possible values that can be used in the SQL query.\n",
            "\n",
            "        The source title to cite is the &#x27;entity_name&#x27; property. The source reference is the SQL query used. The source chunk is the result of the SQL query used to answer the user query in Markdown table format. e.g. { &#x27;title&#x27;: &quot;vProductAndDescription&quot;, &#x27;chunk&#x27;: &#x27;| ProductID | Name              | ProductModel | Culture | Description                      |\\n|-----------|-------------------|--------------|---------|----------------------------------|\\n| 101       | Mountain Bike     | MT-100       | en      | A durable bike for mountain use. |\\n| 102       | Road Bike         | RB-200       | en      | Lightweight bike for road use.   |\\n| 103       | Hybrid Bike       | HB-300       | fr      | V\u00e9lo hybride pour usage mixte.   |\\n&#x27;, &#x27;reference&#x27;: &#x27;SELECT ProductID, Name, ProductModel, Culture, Description FROM vProductAndDescription WHERE Culture = &quot;en&quot;;&#x27; }\n",
            "    [END SQL DATABASE INFORMATION]\n",
            "    \n",
            "\n",
            "[END IMPORTANT INFORMATION]\n",
            "\n",
            "[RESPONSE OUTPUT REQUIREMENTS]\n",
            "\n",
            "  The answer MUST be returned in JSON format as { \"answer\": \"<GENERATED ANSWER>\", \"sources\": [ {\"title\": <SOURCE 1 TITLE>, \"chunk\": <SOURCE 1 CONTEXT CHUNK>, \"reference\": \"<SOURCE 1 REFERENCE>\"}, {\"title\": <SOURCE 2 TITLE>, \"chunk\": <SOURCE 2 CONTEXT CHUNK>, \"reference\": \"<SOURCE 2 REFERENCE>\"} ] }.\n",
            "\n",
            "  The 'answer' property MUST meet the requirements in the ANSWER PROPERTY REQUIREMENTS.\n",
            "  The 'sources' property MUST meet the requirements in the SOURCES PROPERTY REQUIREMENTS.\n",
            "\n",
            "  Do NOT return anything outside of the provided JSON property.\n",
            "\n",
            "  [ANSWER PROPERTY REQUIREMENTS]\n",
            "    1. Language and Tone:\n",
            "      Use only British English throughout the response.\n",
            "      Employ a business-friendly language that is professional and easy to understand.\n",
            "\n",
            "    2. Content Restrictions:\n",
            "      Do not use any profanity, offensive language, hate speech, or code in the response.\n",
            "      If you encounter any such content, handle it gracefully by omitting or rephrasing it appropriately.\n",
            "\n",
            "    3. Information Sources:\n",
            "      Use only information from the provided functions and specified important information.\n",
            "      Do not use any external sources or the chat history for constructing the response.\n",
            "      In case of conflicting information, prioritize data from the SQL Database as the primary source of truth.\n",
            "\n",
            "    4. Calculations:\n",
            "      For any required calculations, use only the values provided in the context.\n",
            "      Provide a brief, clear explanation of the calculations beneath the results.\n",
            "\n",
            "    5. Response Structure:\n",
            "      Ensure the response is direct, easy to understand, and well-structured.\n",
            "      Format the response using Markdown for clarity and readability.\n",
            "      Use bold sub-headings for clarity where needed. Only use Markdown headings Level 3 (###) and Level 4 (####).\n",
            "      Use bullet points or numbered lists when appropriate.\n",
            "      Do not vary the font size within the same sentence.\n",
            "\n",
            "    6. Citations:\n",
            "      All factual information used in the answer must be cited with numbered references. For example, [1] should be used to refer to the first source.\n",
            "      Each citation in the answer must correspond to a single entry in the 'sources' object.\n",
            "      The same citation and corresponding context chunk may be used multiple times if needed.\n",
            "      Place the numbered citation at the end of each relevant sentence that uses information from the sources.\n",
            "      Ensure that each source listed in the 'sources' property is cited at least once in the answer.\n",
            "      Do not provide a list of definitions from the business glossary; use such information only to enhance the answer contextually.\n",
            "\n",
            "    7. Citations Format:\n",
            "      Citations should be embedded within the text, not as a separate list at the end of the 'answer' property.\n",
            "  [END ANSWER PROPERTY REQUIREMENTS]\n",
            "\n",
            "  [SOURCES PROPERTY REQUIREMENTS]\n",
            "    1. Reference Inclusion:\n",
            "      Include all corresponding references for all cited content in the 'answer' property.\n",
            "      Place the references in the 'sources' property.\n",
            "\n",
            "    2. Source Format:\n",
            "      Each entry in the 'sources' property must be formatted as: {\"title\": \"<SOURCE TITLE>\", \"chunk\": \"<SOURCE CONTEXT CHUNK>\", \"reference\": \"<SOURCE REFERENCE>\"}\n",
            "      For example, a complete response with two citations would be formatted as: { \"answer\": \"<GENERATED ANSWER>\", \"sources\": [ {\"title\": <SOURCE 1 TITLE>, \"chunk\": <SOURCE 1 CONTEXT CHUNK>, \"reference\": \"<SOURCE 1 REFERENCE>\"}, {\"title\": <SOURCE 2 TITLE>, \"chunk\": <SOURCE 2 CONTEXT CHUNK>, \"reference\": \"<SOURCE 2 REFERENCE>\"} ] }\n",
            "\n",
            "    3. Source Chunk:\n",
            "      The 'chunk' property should contain a concise, unedited snippet of the relevant context that supports the answer.\n",
            "\n",
            "    4. Mandatory References:\n",
            "      Ensure that every citation in the 'answer' has a corresponding entry in the 'sources' property.\n",
            "      Every entry in the 'sources' property must be cited at least once in the answer.\n",
            "  [END SOURCES PROPERTY REQUIREMENTS]\n",
            "\n",
            "[END RESPONSE OUTPUT REQUIREMENTS]\n",
            "</message>\n",
            "<chat_history />\n",
            "<message role=\"user\">What are the different product categories we have?</message> as xml, treating as text, error was: not well-formed (invalid token): line 75, column 78\n",
            "INFO:httpx:HTTP Request: POST https://open-ai-gpt-001.openai.azure.com/openai/deployments/gpt-4o/chat/completions?api-version=2024-02-01 \"HTTP/1.1 200 OK\"\n",
            "INFO:semantic_kernel.connectors.ai.open_ai.services.open_ai_handler:OpenAI usage: CompletionUsage(completion_tokens=37, prompt_tokens=2605, total_tokens=2642)\n",
            "INFO:semantic_kernel.connectors.ai.open_ai.services.open_ai_chat_completion_base:processing 1 tool calls in parallel.\n",
            "INFO:semantic_kernel.kernel:Calling SQL-GetEntitySchema function with args: {\"entity_name\": \"GET ALL CATEGORIES\"}\n",
            "INFO:semantic_kernel.functions.kernel_function:Function SQL-GetEntitySchema invoking.\n",
            "INFO:semantic_kernel.functions.kernel_function:Function SQL-GetEntitySchema succeeded.\n",
            "INFO:semantic_kernel.functions.kernel_function:Function completed. Duration: 0.000877s\n",
            "INFO:httpx:HTTP Request: POST https://open-ai-gpt-001.openai.azure.com/openai/deployments/gpt-4o/chat/completions?api-version=2024-02-01 \"HTTP/1.1 200 OK\"\n",
            "INFO:semantic_kernel.connectors.ai.open_ai.services.open_ai_handler:OpenAI usage: CompletionUsage(completion_tokens=34, prompt_tokens=2898, total_tokens=2932)\n",
            "INFO:semantic_kernel.connectors.ai.open_ai.services.open_ai_chat_completion_base:processing 1 tool calls in parallel.\n",
            "INFO:semantic_kernel.kernel:Calling SQL-RunSQLQuery function with args: {\"sql_query\":\"SELECT ProductCategoryName, ParentProductCategoryName FROM SalesLT.vGetAllCategories;\"}\n",
            "INFO:semantic_kernel.functions.kernel_function:Function SQL-RunSQLQuery invoking.\n",
            "INFO:root:Executing SQL Query\n",
            "INFO:semantic_kernel.functions.kernel_function:Function SQL-RunSQLQuery succeeded.\n",
            "INFO:semantic_kernel.functions.kernel_function:Function completed. Duration: 1.153722s\n",
            "INFO:httpx:HTTP Request: POST https://open-ai-gpt-001.openai.azure.com/openai/deployments/gpt-4o/chat/completions?api-version=2024-02-01 \"HTTP/1.1 200 OK\"\n",
            "INFO:semantic_kernel.connectors.ai.open_ai.services.open_ai_handler:OpenAI usage: CompletionUsage(completion_tokens=630, prompt_tokens=3636, total_tokens=4266)\n",
            "INFO:semantic_kernel.functions.kernel_function:Function ChatBot-Chat succeeded.\n",
            "INFO:semantic_kernel.functions.kernel_function:Function completed. Duration: 9.404514s\n",
            "INFO:root:Answer: { \n",
            "  \"answer\": \"### Product Categories and Subcategories\\n\\nThe product categories and their corresponding subcategories in our database are as follows:\\n\\n#### Accessories\\n- Bike Racks\\n- Bike Stands\\n- Bottles and Cages\\n- Cleaners\\n- Fenders\\n- Helmets\\n- Hydration Packs\\n- Lights\\n- Locks\\n- Panniers\\n- Pumps\\n- Tires and Tubes\\n\\n#### Clothing\\n- Bib-Shorts\\n- Caps\\n- Gloves\\n- Jerseys\\n- Shorts\\n- Socks\\n- Tights\\n- Vests\\n\\n#### Components\\n- Handlebars\\n- Bottom Brackets\\n- Brakes\\n- Chains\\n- Cranksets\\n- Derailleurs\\n- Forks\\n- Headsets\\n- Mountain Frames\\n- Pedals\\n- Road Frames\\n- Saddles\\n- Touring Frames\\n- Wheels\\n\\n#### Bikes\\n- Mountain Bikes\\n- Road Bikes\\n- Touring Bikes\\n\\nThese categories and subcategories help in organising and categorising our products effectively, facilitating a better understanding and management of our inventory.\",\n",
            "  \"sources\": [\n",
            "    {\n",
            "      \"title\": \"Get All Categories\",\n",
            "      \"chunk\": \"| ProductCategoryName | ParentProductCategoryName |\\n|---------------------|---------------------------|\\n| Bike Racks          | Accessories               |\\n| Bike Stands         | Accessories               |\\n| Bottles and Cages   | Accessories               |\\n| Cleaners            | Accessories               |\\n| Fenders             | Accessories               |\\n| Helmets             | Accessories               |\\n| Hydration Packs     | Accessories               |\\n| Lights              | Accessories               |\\n| Locks               | Accessories               |\\n| Panniers            | Accessories               |\\n| Pumps               | Accessories               |\\n| Tires and Tubes     | Accessories               |\\n| Bib-Shorts          | Clothing                  |\\n| Caps                | Clothing                  |\\n| Gloves              | Clothing                  |\\n| Jerseys             | Clothing                  |\\n| Shorts              | Clothing                  |\\n| Socks               | Clothing                  |\\n| Tights              | Clothing                  |\\n| Vests               | Clothing                  |\\n| Handlebars          | Components                |\\n| Bottom Brackets     | Components                |\\n| Brakes              | Components                |\\n| Chains              | Components                |\\n| Cranksets           | Components                |\\n| Derailleurs         | Components                |\\n| Forks               | Components                |\\n| Headsets            | Components                |\\n| Mountain Frames     | Components                |\\n| Pedals              | Components                |\\n| Road Frames         | Components                |\\n| Saddles             | Components                |\\n| Touring Frames      | Components                |\\n| Wheels              | Components                |\\n| Mountain Bikes      | Bikes                     |\\n| Road Bikes          | Bikes                     |\\n| Touring Bikes       | Bikes                     |\\n\",\n",
            "      \"reference\": \"SELECT ProductCategoryName, ParentProductCategoryName FROM SalesLT.vGetAllCategories;\"\n",
            "    }\n",
            "  ]\n",
            "}\n"
          ]
        },
        {
          "data": {
            "text/markdown": [
              "### Product Categories and Subcategories\n",
              "\n",
              "The product categories and their corresponding subcategories in our database are as follows:\n",
              "\n",
              "#### Accessories\n",
              "- Bike Racks\n",
              "- Bike Stands\n",
              "- Bottles and Cages\n",
              "- Cleaners\n",
              "- Fenders\n",
              "- Helmets\n",
              "- Hydration Packs\n",
              "- Lights\n",
              "- Locks\n",
              "- Panniers\n",
              "- Pumps\n",
              "- Tires and Tubes\n",
              "\n",
              "#### Clothing\n",
              "- Bib-Shorts\n",
              "- Caps\n",
              "- Gloves\n",
              "- Jerseys\n",
              "- Shorts\n",
              "- Socks\n",
              "- Tights\n",
              "- Vests\n",
              "\n",
              "#### Components\n",
              "- Handlebars\n",
              "- Bottom Brackets\n",
              "- Brakes\n",
              "- Chains\n",
              "- Cranksets\n",
              "- Derailleurs\n",
              "- Forks\n",
              "- Headsets\n",
              "- Mountain Frames\n",
              "- Pedals\n",
              "- Road Frames\n",
              "- Saddles\n",
              "- Touring Frames\n",
              "- Wheels\n",
              "\n",
              "#### Bikes\n",
              "- Mountain Bikes\n",
              "- Road Bikes\n",
              "- Touring Bikes\n",
              "\n",
              "These categories and subcategories help in organising and categorising our products effectively, facilitating a better understanding and management of our inventory."
            ],
            "text/plain": [
              "<IPython.core.display.Markdown object>"
            ]
          },
          "metadata": {},
          "output_type": "display_data"
        }
      ],
      "source": [
        "await ask_question(\"What are the different product categories we have?\", history)"
      ]
    },
    {
      "cell_type": "code",
      "execution_count": 11,
      "metadata": {},
      "outputs": [
        {
          "name": "stderr",
          "output_type": "stream",
          "text": [
            "INFO:root:Question: What is the top performing product by quantity of units sold?\n",
            "INFO:semantic_kernel.functions.kernel_function:Function ChatBot-Chat invoking.\n",
            "INFO:semantic_kernel.contents.chat_history:Could not parse prompt <message role=\"system\">\n",
            "As a senior analyst, your primary responsibility is to provide precise and thorough answers to the user's queries. Utilize all the provided functions to craft your responses. You must deliver detailed and accurate final answers with clear explanations and actionable insights.\n",
            "\n",
            "Always use the provided functions to obtain key information in order to answer the question.\n",
            "If you are asked to use always use a function, you must use that function to compliment the answer.\n",
            "Always use multiple functions to formulate the answer.\n",
            "Always execute multiple functions in parallel to compliment the results.\n",
            "\n",
            "The response to the user must meet the requirements in RESPONSE OUTPUT REQUIREMENTS.\n",
            "IMPORTANT INFORMATION contains useful information that you can use to aid your knowledge.\n",
            "CHAT HISTORY contains the previous question and answer pairs in the conversation in JSON format. Do not use this information to answer the question, but to provide context on what was asked previously.\n",
            "\n",
            "[IMPORTANT INFORMATION]\n",
            "\n",
            "\n",
            "    [SQL DATABASE INFORMATION]\n",
            "    Use the names and descriptions of Microsoft TSQL Server entities provided in ENTITIES LIST to decide which entities to query if you need to retrieve information from the database. Use the &#x27;GetEntitySchema()&#x27; function to get more details of the schema of the view you want to query. Use the &#x27;RunSQLQuery()&#x27; function to run the SQL query against the database.\n",
            "\n",
            "        You must always examine the provided Microsoft TSQL Server entity descriptions to determine if they can answer the question.\n",
            "\n",
            "        [BEGIN ENTITIES LIST]\n",
            "             [BEGIN ENTITY = &#x27;GET ALL CATEGORIES&#x27;]\n",
            "                 Name=&#x27;Get All Categories&#x27;\n",
            "                 Description=&#x27;This view provides a comprehensive list of all product categories and their corresponding subcategories in the SalesLT schema of the AdventureWorksLT database. It is used to understand the hierarchical structure of product categories, facilitating product organization and categorization. Use this view to retrieve information about product categories and subcategories. It is useful for scenarios where product categorization is required, such as generating reports based on product categories or filtering products by category.&#x27;\n",
            "             [END ENTITY = &#x27;GET ALL CATEGORIES&#x27;]\n",
            "\n",
            "             [BEGIN ENTITY = &#x27;PRODUCT AND DESCRIPTION&#x27;]\n",
            "                 Name=&#x27;Product and Description&#x27;\n",
            "                 Description=&#x27;This view provides detailed information about products, including their names, associated product models, descriptions, and the specific culture or language of the description. It is useful for understanding product details and translating product descriptions for different cultures. Use this view when you need comprehensive details about products, including their descriptions in different languages. This view is particularly useful for multilingual product catalogs or when creating localized content.&#x27;\n",
            "             [END ENTITY = &#x27;PRODUCT AND DESCRIPTION&#x27;]\n",
            "\n",
            "             [BEGIN ENTITY = &#x27;PRODUCT MODEL CATALOG DESCRIPTION&#x27;]\n",
            "                 Name=&#x27;Product Model Catalog Description&#x27;\n",
            "                 Description=&#x27;This view provides detailed catalog information about product models, including descriptions, manufacturing details, warranty information, and specifications related to product design and features. It is useful for generating comprehensive product catalogs and providing detailed product information to customers. Use this view when you need to retrieve detailed product model descriptions, manufacturing information, and specifications. It is particularly useful for creating product catalogs, detailing product features, and providing warranty information.&#x27;\n",
            "             [END ENTITY = &#x27;PRODUCT MODEL CATALOG DESCRIPTION&#x27;]\n",
            "\n",
            "             [BEGIN ENTITY = &#x27;SALES ORDER DETAIL&#x27;]\n",
            "                 Name=&#x27;Sales Order Detail&#x27;\n",
            "                 Description=&#x27;This table stores detailed information about sales order tickets, including the order details, customer information, order status, and timestamps. It is used to manage and track sales orders throughout the order lifecycle, from creation to fulfillment. Use this table to retrieve or store information related to individual sales order tickets. This is applicable when processing sales orders, managing customer transactions, or tracking order fulfillment status.&#x27;\n",
            "             [END ENTITY = &#x27;SALES ORDER DETAIL&#x27;]\n",
            "\n",
            "             [BEGIN ENTITY = &#x27;SALES ORDER HEADER&#x27;]\n",
            "                 Name=&#x27;Sales Order Header&#x27;\n",
            "                 Description=&#x27;This table contains high-level information about sales orders, including order dates, customer details, shipping information, and order status. It is used to manage and track sales orders from initiation to fulfillment. Use this table to retrieve or store information related to the overall details of a sales order. It is applicable when you need to track order status, manage order dates, or relate orders to customers and shipping information.&#x27;\n",
            "             [END ENTITY = &#x27;SALES ORDER HEADER&#x27;]\n",
            "\n",
            "             [BEGIN ENTITY = &#x27;ADDRESS&#x27;]\n",
            "                 Name=&#x27;Address&#x27;\n",
            "                 Description=&#x27;This table stores address information for customers, including street addresses, city, state, postal code, and country/region. It is used to maintain contact and shipping information for orders, as well as to manage customer locations. Use this table to retrieve or store address details for customers, shipping locations, or billing addresses. It is applicable in scenarios where location information is required, such as shipping orders, verifying customer addresses, or managing geographical data.&#x27;\n",
            "             [END ENTITY = &#x27;ADDRESS&#x27;]\n",
            "        [END ENTITIES LIST]\n",
            "\n",
            "        Output corresponding text values in the answer for columns where there is an ID. For example, if the column is &#x27;ProductID&#x27;, output the corresponding &#x27;ProductModel&#x27; in the response. Do not include the ID in the response.\n",
            "        If a user is asking for a comparison, always compare the relevant values in the database.\n",
            "\n",
            "        The target database engine is Microsoft TSQL Server, SQL queries must be able compatible to run on Microsoft TSQL Server. \n",
            "        The following Microsoft TSQL Server Syntax rules must be adhered to.\n",
            "        Use TOP X to limit the number of rows returned instead of LIMIT X. NEVER USE LIMIT X as it produces a syntax error.\n",
            "        Always generate the SQL query based on the GetEntitySchema() function output, do not use the chat history data to generate the SQL query.\n",
            "        Do not use any other entities and columns in your SQL query, other than those defined above. Only use the column names obtained from GetEntitySchema() when constructing a SQL query, do not make up column names.\n",
            "        You must only provide SELECT SQL queries.\n",
            "        For a given entity, use the &#x27;select_from_entity&#x27; property returned from &#x27;GetEntitySchema()&#x27; function in the SELECT FROM part of the SQL query. If the property is {&#x27;select_from_entity&#x27;: &#x27;test_schema.test_table&#x27;}, the select statement will be formulated from &#x27;SELECT &lt;VALUES&gt; FROM test_schema.test_table WHERE &lt;CONDITION&gt;.\n",
            "\n",
            "        If you don&#x27;t know how the value is formatted in a column, run a query against the column to get the unique values that might match your query.\n",
            "        Some columns returned from &#x27;GetEntitySchema()&#x27; may have the properties &#x27;allowed_values&#x27; or &#x27;sample_values&#x27;. Use these values to determine the possible values that can be used in the SQL query.\n",
            "\n",
            "        The source title to cite is the &#x27;entity_name&#x27; property. The source reference is the SQL query used. The source chunk is the result of the SQL query used to answer the user query in Markdown table format. e.g. { &#x27;title&#x27;: &quot;vProductAndDescription&quot;, &#x27;chunk&#x27;: &#x27;| ProductID | Name              | ProductModel | Culture | Description                      |\\n|-----------|-------------------|--------------|---------|----------------------------------|\\n| 101       | Mountain Bike     | MT-100       | en      | A durable bike for mountain use. |\\n| 102       | Road Bike         | RB-200       | en      | Lightweight bike for road use.   |\\n| 103       | Hybrid Bike       | HB-300       | fr      | V\u00e9lo hybride pour usage mixte.   |\\n&#x27;, &#x27;reference&#x27;: &#x27;SELECT ProductID, Name, ProductModel, Culture, Description FROM vProductAndDescription WHERE Culture = &quot;en&quot;;&#x27; }\n",
            "    [END SQL DATABASE INFORMATION]\n",
            "    \n",
            "\n",
            "[END IMPORTANT INFORMATION]\n",
            "\n",
            "[RESPONSE OUTPUT REQUIREMENTS]\n",
            "\n",
            "  The answer MUST be returned in JSON format as { \"answer\": \"<GENERATED ANSWER>\", \"sources\": [ {\"title\": <SOURCE 1 TITLE>, \"chunk\": <SOURCE 1 CONTEXT CHUNK>, \"reference\": \"<SOURCE 1 REFERENCE>\"}, {\"title\": <SOURCE 2 TITLE>, \"chunk\": <SOURCE 2 CONTEXT CHUNK>, \"reference\": \"<SOURCE 2 REFERENCE>\"} ] }.\n",
            "\n",
            "  The 'answer' property MUST meet the requirements in the ANSWER PROPERTY REQUIREMENTS.\n",
            "  The 'sources' property MUST meet the requirements in the SOURCES PROPERTY REQUIREMENTS.\n",
            "\n",
            "  Do NOT return anything outside of the provided JSON property.\n",
            "\n",
            "  [ANSWER PROPERTY REQUIREMENTS]\n",
            "    1. Language and Tone:\n",
            "      Use only British English throughout the response.\n",
            "      Employ a business-friendly language that is professional and easy to understand.\n",
            "\n",
            "    2. Content Restrictions:\n",
            "      Do not use any profanity, offensive language, hate speech, or code in the response.\n",
            "      If you encounter any such content, handle it gracefully by omitting or rephrasing it appropriately.\n",
            "\n",
            "    3. Information Sources:\n",
            "      Use only information from the provided functions and specified important information.\n",
            "      Do not use any external sources or the chat history for constructing the response.\n",
            "      In case of conflicting information, prioritize data from the SQL Database as the primary source of truth.\n",
            "\n",
            "    4. Calculations:\n",
            "      For any required calculations, use only the values provided in the context.\n",
            "      Provide a brief, clear explanation of the calculations beneath the results.\n",
            "\n",
            "    5. Response Structure:\n",
            "      Ensure the response is direct, easy to understand, and well-structured.\n",
            "      Format the response using Markdown for clarity and readability.\n",
            "      Use bold sub-headings for clarity where needed. Only use Markdown headings Level 3 (###) and Level 4 (####).\n",
            "      Use bullet points or numbered lists when appropriate.\n",
            "      Do not vary the font size within the same sentence.\n",
            "\n",
            "    6. Citations:\n",
            "      All factual information used in the answer must be cited with numbered references. For example, [1] should be used to refer to the first source.\n",
            "      Each citation in the answer must correspond to a single entry in the 'sources' object.\n",
            "      The same citation and corresponding context chunk may be used multiple times if needed.\n",
            "      Place the numbered citation at the end of each relevant sentence that uses information from the sources.\n",
            "      Ensure that each source listed in the 'sources' property is cited at least once in the answer.\n",
            "      Do not provide a list of definitions from the business glossary; use such information only to enhance the answer contextually.\n",
            "\n",
            "    7. Citations Format:\n",
            "      Citations should be embedded within the text, not as a separate list at the end of the 'answer' property.\n",
            "  [END ANSWER PROPERTY REQUIREMENTS]\n",
            "\n",
            "  [SOURCES PROPERTY REQUIREMENTS]\n",
            "    1. Reference Inclusion:\n",
            "      Include all corresponding references for all cited content in the 'answer' property.\n",
            "      Place the references in the 'sources' property.\n",
            "\n",
            "    2. Source Format:\n",
            "      Each entry in the 'sources' property must be formatted as: {\"title\": \"<SOURCE TITLE>\", \"chunk\": \"<SOURCE CONTEXT CHUNK>\", \"reference\": \"<SOURCE REFERENCE>\"}\n",
            "      For example, a complete response with two citations would be formatted as: { \"answer\": \"<GENERATED ANSWER>\", \"sources\": [ {\"title\": <SOURCE 1 TITLE>, \"chunk\": <SOURCE 1 CONTEXT CHUNK>, \"reference\": \"<SOURCE 1 REFERENCE>\"}, {\"title\": <SOURCE 2 TITLE>, \"chunk\": <SOURCE 2 CONTEXT CHUNK>, \"reference\": \"<SOURCE 2 REFERENCE>\"} ] }\n",
            "\n",
            "    3. Source Chunk:\n",
            "      The 'chunk' property should contain a concise, unedited snippet of the relevant context that supports the answer.\n",
            "\n",
            "    4. Mandatory References:\n",
            "      Ensure that every citation in the 'answer' has a corresponding entry in the 'sources' property.\n",
            "      Every entry in the 'sources' property must be cited at least once in the answer.\n",
            "  [END SOURCES PROPERTY REQUIREMENTS]\n",
            "\n",
            "[END RESPONSE OUTPUT REQUIREMENTS]\n",
            "</message>\n",
            "<chat_history><message role=\"user\"><text>What are the different product categories we have?</text></message><message role=\"assistant\" /></chat_history>\n",
            "<message role=\"user\">What is the top performing product by quantity of units sold?</message> as xml, treating as text, error was: not well-formed (invalid token): line 75, column 78\n",
            "INFO:httpx:HTTP Request: POST https://open-ai-gpt-001.openai.azure.com/openai/deployments/gpt-4o/chat/completions?api-version=2024-02-01 \"HTTP/1.1 200 OK\"\n",
            "INFO:semantic_kernel.connectors.ai.open_ai.services.open_ai_handler:OpenAI usage: CompletionUsage(completion_tokens=57, prompt_tokens=2637, total_tokens=2694)\n",
            "INFO:semantic_kernel.connectors.ai.open_ai.services.open_ai_chat_completion_base:processing 2 tool calls in parallel.\n",
            "INFO:semantic_kernel.kernel:Calling SQL-GetEntitySchema function with args: {\"entity_name\": \"SALES ORDER DETAIL\"}\n",
            "INFO:semantic_kernel.functions.kernel_function:Function SQL-GetEntitySchema invoking.\n",
            "INFO:semantic_kernel.functions.kernel_function:Function SQL-GetEntitySchema succeeded.\n",
            "INFO:semantic_kernel.functions.kernel_function:Function completed. Duration: 0.001175s\n",
            "INFO:semantic_kernel.kernel:Calling SQL-GetEntitySchema function with args: {\"entity_name\": \"PRODUCT AND DESCRIPTION\"}\n",
            "INFO:semantic_kernel.functions.kernel_function:Function SQL-GetEntitySchema invoking.\n",
            "INFO:semantic_kernel.functions.kernel_function:Function SQL-GetEntitySchema succeeded.\n",
            "INFO:semantic_kernel.functions.kernel_function:Function completed. Duration: 0.002015s\n",
            "INFO:httpx:HTTP Request: POST https://open-ai-gpt-001.openai.azure.com/openai/deployments/gpt-4o/chat/completions?api-version=2024-02-01 \"HTTP/1.1 200 OK\"\n",
            "INFO:semantic_kernel.connectors.ai.open_ai.services.open_ai_handler:OpenAI usage: CompletionUsage(completion_tokens=48, prompt_tokens=3491, total_tokens=3539)\n",
            "INFO:semantic_kernel.connectors.ai.open_ai.services.open_ai_chat_completion_base:processing 1 tool calls in parallel.\n",
            "INFO:semantic_kernel.kernel:Calling SQL-RunSQLQuery function with args: {\"sql_query\":\"SELECT TOP 1 ProductID, SUM(OrderQty) AS TotalQuantity FROM SalesLT.SalesOrderDetail GROUP BY ProductID ORDER BY TotalQuantity DESC;\"}\n",
            "INFO:semantic_kernel.functions.kernel_function:Function SQL-RunSQLQuery invoking.\n",
            "INFO:root:Executing SQL Query\n",
            "INFO:semantic_kernel.functions.kernel_function:Function SQL-RunSQLQuery succeeded.\n",
            "INFO:semantic_kernel.functions.kernel_function:Function completed. Duration: 0.568917s\n",
            "INFO:httpx:HTTP Request: POST https://open-ai-gpt-001.openai.azure.com/openai/deployments/gpt-4o/chat/completions?api-version=2024-02-01 \"HTTP/1.1 200 OK\"\n",
            "INFO:semantic_kernel.connectors.ai.open_ai.services.open_ai_handler:OpenAI usage: CompletionUsage(completion_tokens=33, prompt_tokens=3565, total_tokens=3598)\n",
            "INFO:semantic_kernel.connectors.ai.open_ai.services.open_ai_chat_completion_base:processing 1 tool calls in parallel.\n",
            "INFO:semantic_kernel.kernel:Calling SQL-RunSQLQuery function with args: {\"sql_query\":\"SELECT Name FROM SalesLT.vProductAndDescription WHERE ProductID = 864;\"}\n",
            "INFO:semantic_kernel.functions.kernel_function:Function SQL-RunSQLQuery invoking.\n",
            "INFO:root:Executing SQL Query\n",
            "INFO:semantic_kernel.functions.kernel_function:Function SQL-RunSQLQuery succeeded.\n",
            "INFO:semantic_kernel.functions.kernel_function:Function completed. Duration: 0.882085s\n",
            "INFO:httpx:HTTP Request: POST https://open-ai-gpt-001.openai.azure.com/openai/deployments/gpt-4o/chat/completions?api-version=2024-02-01 \"HTTP/1.1 200 OK\"\n",
            "INFO:semantic_kernel.connectors.ai.open_ai.services.open_ai_handler:OpenAI usage: CompletionUsage(completion_tokens=166, prompt_tokens=3665, total_tokens=3831)\n",
            "INFO:semantic_kernel.functions.kernel_function:Function ChatBot-Chat succeeded.\n",
            "INFO:semantic_kernel.functions.kernel_function:Function completed. Duration: 6.536541s\n",
            "INFO:root:Answer: { \"answer\": \"The top performing product by quantity of units sold is the **Classic Vest, S**, with a total of 87 units sold [1][2].\", \"sources\": [ { \"title\": \"Sales Order Detail\", \"chunk\": \"| ProductID | TotalQuantity |\\n|-----------|---------------|\\n| 864       | 87            |\\n\", \"reference\": \"SELECT TOP 1 ProductID, SUM(OrderQty) AS TotalQuantity FROM SalesLT.SalesOrderDetail GROUP BY ProductID ORDER BY TotalQuantity DESC;\" }, { \"title\": \"Product and Description\", \"chunk\": \"| Name          |\\n|---------------|\\n| Classic Vest, S |\\n\", \"reference\": \"SELECT Name FROM SalesLT.vProductAndDescription WHERE ProductID = 864;\" } ] }\n"
          ]
        },
        {
          "data": {
            "text/markdown": [
              "The top performing product by quantity of units sold is the **Classic Vest, S**, with a total of 87 units sold [1][2]."
            ],
            "text/plain": [
              "<IPython.core.display.Markdown object>"
            ]
          },
          "metadata": {},
          "output_type": "display_data"
        }
      ],
      "source": [
        "await ask_question(\"What is the top performing product by quantity of units sold?\", history)"
      ]
    },
    {
      "cell_type": "code",
      "execution_count": 12,
      "metadata": {},
      "outputs": [
        {
          "name": "stderr",
          "output_type": "stream",
          "text": [
            "INFO:root:Question: Which country did we sell the most to in June 2008?\n",
            "INFO:semantic_kernel.functions.kernel_function:Function ChatBot-Chat invoking.\n",
            "INFO:semantic_kernel.contents.chat_history:Could not parse prompt <message role=\"system\">\n",
            "As a senior analyst, your primary responsibility is to provide precise and thorough answers to the user's queries. Utilize all the provided functions to craft your responses. You must deliver detailed and accurate final answers with clear explanations and actionable insights.\n",
            "\n",
            "Always use the provided functions to obtain key information in order to answer the question.\n",
            "If you are asked to use always use a function, you must use that function to compliment the answer.\n",
            "Always use multiple functions to formulate the answer.\n",
            "Always execute multiple functions in parallel to compliment the results.\n",
            "\n",
            "The response to the user must meet the requirements in RESPONSE OUTPUT REQUIREMENTS.\n",
            "IMPORTANT INFORMATION contains useful information that you can use to aid your knowledge.\n",
            "CHAT HISTORY contains the previous question and answer pairs in the conversation in JSON format. Do not use this information to answer the question, but to provide context on what was asked previously.\n",
            "\n",
            "[IMPORTANT INFORMATION]\n",
            "\n",
            "\n",
            "    [SQL DATABASE INFORMATION]\n",
            "    Use the names and descriptions of Microsoft TSQL Server entities provided in ENTITIES LIST to decide which entities to query if you need to retrieve information from the database. Use the &#x27;GetEntitySchema()&#x27; function to get more details of the schema of the view you want to query. Use the &#x27;RunSQLQuery()&#x27; function to run the SQL query against the database.\n",
            "\n",
            "        You must always examine the provided Microsoft TSQL Server entity descriptions to determine if they can answer the question.\n",
            "\n",
            "        [BEGIN ENTITIES LIST]\n",
            "             [BEGIN ENTITY = &#x27;GET ALL CATEGORIES&#x27;]\n",
            "                 Name=&#x27;Get All Categories&#x27;\n",
            "                 Description=&#x27;This view provides a comprehensive list of all product categories and their corresponding subcategories in the SalesLT schema of the AdventureWorksLT database. It is used to understand the hierarchical structure of product categories, facilitating product organization and categorization. Use this view to retrieve information about product categories and subcategories. It is useful for scenarios where product categorization is required, such as generating reports based on product categories or filtering products by category.&#x27;\n",
            "             [END ENTITY = &#x27;GET ALL CATEGORIES&#x27;]\n",
            "\n",
            "             [BEGIN ENTITY = &#x27;PRODUCT AND DESCRIPTION&#x27;]\n",
            "                 Name=&#x27;Product and Description&#x27;\n",
            "                 Description=&#x27;This view provides detailed information about products, including their names, associated product models, descriptions, and the specific culture or language of the description. It is useful for understanding product details and translating product descriptions for different cultures. Use this view when you need comprehensive details about products, including their descriptions in different languages. This view is particularly useful for multilingual product catalogs or when creating localized content.&#x27;\n",
            "             [END ENTITY = &#x27;PRODUCT AND DESCRIPTION&#x27;]\n",
            "\n",
            "             [BEGIN ENTITY = &#x27;PRODUCT MODEL CATALOG DESCRIPTION&#x27;]\n",
            "                 Name=&#x27;Product Model Catalog Description&#x27;\n",
            "                 Description=&#x27;This view provides detailed catalog information about product models, including descriptions, manufacturing details, warranty information, and specifications related to product design and features. It is useful for generating comprehensive product catalogs and providing detailed product information to customers. Use this view when you need to retrieve detailed product model descriptions, manufacturing information, and specifications. It is particularly useful for creating product catalogs, detailing product features, and providing warranty information.&#x27;\n",
            "             [END ENTITY = &#x27;PRODUCT MODEL CATALOG DESCRIPTION&#x27;]\n",
            "\n",
            "             [BEGIN ENTITY = &#x27;SALES ORDER DETAIL&#x27;]\n",
            "                 Name=&#x27;Sales Order Detail&#x27;\n",
            "                 Description=&#x27;This table stores detailed information about sales order tickets, including the order details, customer information, order status, and timestamps. It is used to manage and track sales orders throughout the order lifecycle, from creation to fulfillment. Use this table to retrieve or store information related to individual sales order tickets. This is applicable when processing sales orders, managing customer transactions, or tracking order fulfillment status.&#x27;\n",
            "             [END ENTITY = &#x27;SALES ORDER DETAIL&#x27;]\n",
            "\n",
            "             [BEGIN ENTITY = &#x27;SALES ORDER HEADER&#x27;]\n",
            "                 Name=&#x27;Sales Order Header&#x27;\n",
            "                 Description=&#x27;This table contains high-level information about sales orders, including order dates, customer details, shipping information, and order status. It is used to manage and track sales orders from initiation to fulfillment. Use this table to retrieve or store information related to the overall details of a sales order. It is applicable when you need to track order status, manage order dates, or relate orders to customers and shipping information.&#x27;\n",
            "             [END ENTITY = &#x27;SALES ORDER HEADER&#x27;]\n",
            "\n",
            "             [BEGIN ENTITY = &#x27;ADDRESS&#x27;]\n",
            "                 Name=&#x27;Address&#x27;\n",
            "                 Description=&#x27;This table stores address information for customers, including street addresses, city, state, postal code, and country/region. It is used to maintain contact and shipping information for orders, as well as to manage customer locations. Use this table to retrieve or store address details for customers, shipping locations, or billing addresses. It is applicable in scenarios where location information is required, such as shipping orders, verifying customer addresses, or managing geographical data.&#x27;\n",
            "             [END ENTITY = &#x27;ADDRESS&#x27;]\n",
            "        [END ENTITIES LIST]\n",
            "\n",
            "        Output corresponding text values in the answer for columns where there is an ID. For example, if the column is &#x27;ProductID&#x27;, output the corresponding &#x27;ProductModel&#x27; in the response. Do not include the ID in the response.\n",
            "        If a user is asking for a comparison, always compare the relevant values in the database.\n",
            "\n",
            "        The target database engine is Microsoft TSQL Server, SQL queries must be able compatible to run on Microsoft TSQL Server. \n",
            "        The following Microsoft TSQL Server Syntax rules must be adhered to.\n",
            "        Use TOP X to limit the number of rows returned instead of LIMIT X. NEVER USE LIMIT X as it produces a syntax error.\n",
            "        Always generate the SQL query based on the GetEntitySchema() function output, do not use the chat history data to generate the SQL query.\n",
            "        Do not use any other entities and columns in your SQL query, other than those defined above. Only use the column names obtained from GetEntitySchema() when constructing a SQL query, do not make up column names.\n",
            "        You must only provide SELECT SQL queries.\n",
            "        For a given entity, use the &#x27;select_from_entity&#x27; property returned from &#x27;GetEntitySchema()&#x27; function in the SELECT FROM part of the SQL query. If the property is {&#x27;select_from_entity&#x27;: &#x27;test_schema.test_table&#x27;}, the select statement will be formulated from &#x27;SELECT &lt;VALUES&gt; FROM test_schema.test_table WHERE &lt;CONDITION&gt;.\n",
            "\n",
            "        If you don&#x27;t know how the value is formatted in a column, run a query against the column to get the unique values that might match your query.\n",
            "        Some columns returned from &#x27;GetEntitySchema()&#x27; may have the properties &#x27;allowed_values&#x27; or &#x27;sample_values&#x27;. Use these values to determine the possible values that can be used in the SQL query.\n",
            "\n",
            "        The source title to cite is the &#x27;entity_name&#x27; property. The source reference is the SQL query used. The source chunk is the result of the SQL query used to answer the user query in Markdown table format. e.g. { &#x27;title&#x27;: &quot;vProductAndDescription&quot;, &#x27;chunk&#x27;: &#x27;| ProductID | Name              | ProductModel | Culture | Description                      |\\n|-----------|-------------------|--------------|---------|----------------------------------|\\n| 101       | Mountain Bike     | MT-100       | en      | A durable bike for mountain use. |\\n| 102       | Road Bike         | RB-200       | en      | Lightweight bike for road use.   |\\n| 103       | Hybrid Bike       | HB-300       | fr      | V\u00e9lo hybride pour usage mixte.   |\\n&#x27;, &#x27;reference&#x27;: &#x27;SELECT ProductID, Name, ProductModel, Culture, Description FROM vProductAndDescription WHERE Culture = &quot;en&quot;;&#x27; }\n",
            "    [END SQL DATABASE INFORMATION]\n",
            "    \n",
            "\n",
            "[END IMPORTANT INFORMATION]\n",
            "\n",
            "[RESPONSE OUTPUT REQUIREMENTS]\n",
            "\n",
            "  The answer MUST be returned in JSON format as { \"answer\": \"<GENERATED ANSWER>\", \"sources\": [ {\"title\": <SOURCE 1 TITLE>, \"chunk\": <SOURCE 1 CONTEXT CHUNK>, \"reference\": \"<SOURCE 1 REFERENCE>\"}, {\"title\": <SOURCE 2 TITLE>, \"chunk\": <SOURCE 2 CONTEXT CHUNK>, \"reference\": \"<SOURCE 2 REFERENCE>\"} ] }.\n",
            "\n",
            "  The 'answer' property MUST meet the requirements in the ANSWER PROPERTY REQUIREMENTS.\n",
            "  The 'sources' property MUST meet the requirements in the SOURCES PROPERTY REQUIREMENTS.\n",
            "\n",
            "  Do NOT return anything outside of the provided JSON property.\n",
            "\n",
            "  [ANSWER PROPERTY REQUIREMENTS]\n",
            "    1. Language and Tone:\n",
            "      Use only British English throughout the response.\n",
            "      Employ a business-friendly language that is professional and easy to understand.\n",
            "\n",
            "    2. Content Restrictions:\n",
            "      Do not use any profanity, offensive language, hate speech, or code in the response.\n",
            "      If you encounter any such content, handle it gracefully by omitting or rephrasing it appropriately.\n",
            "\n",
            "    3. Information Sources:\n",
            "      Use only information from the provided functions and specified important information.\n",
            "      Do not use any external sources or the chat history for constructing the response.\n",
            "      In case of conflicting information, prioritize data from the SQL Database as the primary source of truth.\n",
            "\n",
            "    4. Calculations:\n",
            "      For any required calculations, use only the values provided in the context.\n",
            "      Provide a brief, clear explanation of the calculations beneath the results.\n",
            "\n",
            "    5. Response Structure:\n",
            "      Ensure the response is direct, easy to understand, and well-structured.\n",
            "      Format the response using Markdown for clarity and readability.\n",
            "      Use bold sub-headings for clarity where needed. Only use Markdown headings Level 3 (###) and Level 4 (####).\n",
            "      Use bullet points or numbered lists when appropriate.\n",
            "      Do not vary the font size within the same sentence.\n",
            "\n",
            "    6. Citations:\n",
            "      All factual information used in the answer must be cited with numbered references. For example, [1] should be used to refer to the first source.\n",
            "      Each citation in the answer must correspond to a single entry in the 'sources' object.\n",
            "      The same citation and corresponding context chunk may be used multiple times if needed.\n",
            "      Place the numbered citation at the end of each relevant sentence that uses information from the sources.\n",
            "      Ensure that each source listed in the 'sources' property is cited at least once in the answer.\n",
            "      Do not provide a list of definitions from the business glossary; use such information only to enhance the answer contextually.\n",
            "\n",
            "    7. Citations Format:\n",
            "      Citations should be embedded within the text, not as a separate list at the end of the 'answer' property.\n",
            "  [END ANSWER PROPERTY REQUIREMENTS]\n",
            "\n",
            "  [SOURCES PROPERTY REQUIREMENTS]\n",
            "    1. Reference Inclusion:\n",
            "      Include all corresponding references for all cited content in the 'answer' property.\n",
            "      Place the references in the 'sources' property.\n",
            "\n",
            "    2. Source Format:\n",
            "      Each entry in the 'sources' property must be formatted as: {\"title\": \"<SOURCE TITLE>\", \"chunk\": \"<SOURCE CONTEXT CHUNK>\", \"reference\": \"<SOURCE REFERENCE>\"}\n",
            "      For example, a complete response with two citations would be formatted as: { \"answer\": \"<GENERATED ANSWER>\", \"sources\": [ {\"title\": <SOURCE 1 TITLE>, \"chunk\": <SOURCE 1 CONTEXT CHUNK>, \"reference\": \"<SOURCE 1 REFERENCE>\"}, {\"title\": <SOURCE 2 TITLE>, \"chunk\": <SOURCE 2 CONTEXT CHUNK>, \"reference\": \"<SOURCE 2 REFERENCE>\"} ] }\n",
            "\n",
            "    3. Source Chunk:\n",
            "      The 'chunk' property should contain a concise, unedited snippet of the relevant context that supports the answer.\n",
            "\n",
            "    4. Mandatory References:\n",
            "      Ensure that every citation in the 'answer' has a corresponding entry in the 'sources' property.\n",
            "      Every entry in the 'sources' property must be cited at least once in the answer.\n",
            "  [END SOURCES PROPERTY REQUIREMENTS]\n",
            "\n",
            "[END RESPONSE OUTPUT REQUIREMENTS]\n",
            "</message>\n",
            "<chat_history><message role=\"user\"><text>What are the different product categories we have?</text></message><message role=\"assistant\" /><message role=\"user\"><text>What is the top performing product by quantity of units sold?</text></message><message role=\"assistant\" /></chat_history>\n",
            "<message role=\"user\">Which country did we sell the most to in June 2008?</message> as xml, treating as text, error was: not well-formed (invalid token): line 75, column 78\n",
            "INFO:httpx:HTTP Request: POST https://open-ai-gpt-001.openai.azure.com/openai/deployments/gpt-4o/chat/completions?api-version=2024-02-01 \"HTTP/1.1 200 OK\"\n",
            "INFO:semantic_kernel.connectors.ai.open_ai.services.open_ai_handler:OpenAI usage: CompletionUsage(completion_tokens=55, prompt_tokens=2668, total_tokens=2723)\n",
            "INFO:semantic_kernel.connectors.ai.open_ai.services.open_ai_chat_completion_base:processing 2 tool calls in parallel.\n",
            "INFO:semantic_kernel.kernel:Calling SQL-GetEntitySchema function with args: {\"entity_name\": \"SALES ORDER HEADER\"}\n",
            "INFO:semantic_kernel.functions.kernel_function:Function SQL-GetEntitySchema invoking.\n",
            "INFO:semantic_kernel.functions.kernel_function:Function SQL-GetEntitySchema succeeded.\n",
            "INFO:semantic_kernel.functions.kernel_function:Function completed. Duration: 0.000949s\n",
            "INFO:semantic_kernel.kernel:Calling SQL-GetEntitySchema function with args: {\"entity_name\": \"ADDRESS\"}\n",
            "INFO:semantic_kernel.functions.kernel_function:Function SQL-GetEntitySchema invoking.\n",
            "INFO:semantic_kernel.functions.kernel_function:Function SQL-GetEntitySchema succeeded.\n",
            "INFO:semantic_kernel.functions.kernel_function:Function completed. Duration: 0.000836s\n",
            "INFO:httpx:HTTP Request: POST https://open-ai-gpt-001.openai.azure.com/openai/deployments/gpt-4o/chat/completions?api-version=2024-02-01 \"HTTP/1.1 200 OK\"\n",
            "INFO:semantic_kernel.connectors.ai.open_ai.services.open_ai_handler:OpenAI usage: CompletionUsage(completion_tokens=89, prompt_tokens=4070, total_tokens=4159)\n",
            "INFO:semantic_kernel.connectors.ai.open_ai.services.open_ai_chat_completion_base:processing 1 tool calls in parallel.\n",
            "INFO:semantic_kernel.kernel:Calling SQL-RunSQLQuery function with args: {\"sql_query\":\"SELECT a.CountryRegion, SUM(soh.TotalDue) as TotalSales FROM SalesLT.SalesOrderHeader soh JOIN SalesLT.Address a ON soh.ShipToAddressID = a.AddressID WHERE soh.OrderDate BETWEEN '2008-06-01' AND '2008-06-30' GROUP BY a.CountryRegion ORDER BY TotalSales DESC;\"}\n",
            "INFO:semantic_kernel.functions.kernel_function:Function SQL-RunSQLQuery invoking.\n",
            "INFO:root:Executing SQL Query\n",
            "INFO:semantic_kernel.functions.kernel_function:Function SQL-RunSQLQuery succeeded.\n",
            "INFO:semantic_kernel.functions.kernel_function:Function completed. Duration: 0.708600s\n",
            "INFO:httpx:HTTP Request: POST https://open-ai-gpt-001.openai.azure.com/openai/deployments/gpt-4o/chat/completions?api-version=2024-02-01 \"HTTP/1.1 200 OK\"\n",
            "INFO:semantic_kernel.connectors.ai.open_ai.services.open_ai_handler:OpenAI usage: CompletionUsage(completion_tokens=178, prompt_tokens=4210, total_tokens=4388)\n",
            "INFO:semantic_kernel.functions.kernel_function:Function ChatBot-Chat succeeded.\n",
            "INFO:semantic_kernel.functions.kernel_function:Function completed. Duration: 5.218919s\n",
            "INFO:root:Answer: { \"answer\": \"The country with the highest sales in June 2008 was the United Kingdom, with a total sales amount of \u00a3572,496.56 [1].\", \"sources\": [ {\"title\": \"Sales Order Header\", \"chunk\": \"| CountryRegion     | TotalSales   |\\n|-------------------|--------------|\\n| United Kingdom    | 572496.5594  |\\n| United States     | 383807.0355  |\\n\", \"reference\": \"SELECT a.CountryRegion, SUM(soh.TotalDue) as TotalSales FROM SalesLT.SalesOrderHeader soh JOIN SalesLT.Address a ON soh.ShipToAddressID = a.AddressID WHERE soh.OrderDate BETWEEN '2008-06-01' AND '2008-06-30' GROUP BY a.CountryRegion ORDER BY TotalSales DESC;\" } ] }\n"
          ]
        },
        {
          "data": {
            "text/markdown": [
              "The country with the highest sales in June 2008 was the United Kingdom, with a total sales amount of \u00a3572,496.56 [1]."
            ],
            "text/plain": [
              "<IPython.core.display.Markdown object>"
            ]
          },
          "metadata": {},
          "output_type": "display_data"
        }
      ],
      "source": [
        "await ask_question(\"Which country did we sell the most to in June 2008?\", history)"
      ]
    },
    {
      "cell_type": "code",
      "execution_count": null,
      "metadata": {},
      "outputs": [],
      "source": []
    }
  ],
  "metadata": {
    "kernel_info": {
      "name": "python310-sdkv2"
    },
    "kernelspec": {
      "display_name": "Python 3 (ipykernel)",
      "language": "python",
      "name": "python3"
    },
    "language_info": {
      "codemirror_mode": {
        "name": "ipython",
        "version": 3
      },
      "file_extension": ".py",
      "mimetype": "text/x-python",
      "name": "python",
      "nbconvert_exporter": "python",
      "pygments_lexer": "ipython3",
      "version": "3.11.9"
    },
    "microsoft": {
      "host": {
        "AzureML": {
          "notebookHasBeenCompleted": true
        }
      },
      "ms_spell_check": {
        "ms_spell_check_language": "en"
      }
    },
    "nteract": {
      "version": "nteract-front-end@1.0.0"
    }
  },
  "nbformat": 4,
  "nbformat_minor": 2
}
