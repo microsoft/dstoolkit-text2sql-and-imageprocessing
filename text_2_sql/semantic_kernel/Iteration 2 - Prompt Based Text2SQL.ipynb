{
  "cells": [
    {
      "cell_type": "markdown",
      "metadata": {},
      "source": [
        "Copyright (c) Microsoft Corporation.\n",
        "\n",
        "Licensed under the MIT License."
      ]
    },
    {
      "cell_type": "markdown",
      "metadata": {},
      "source": [
        "# Text2SQL with Semantic Kernel & Azure OpenAI\n",
        "\n",
        "This notebook demonstrates how the SQL plugin can be integrated with Semantic Kernel and Azure OpenAI to answer questions from the database based on the schemas provided. \n",
        "\n",
        "A multi-shot approach is used for SQL generation for more reliable results and reduced token usage. More details can be found in the README.md.\n",
        "\n",
        "### Dependencies\n",
        "\n",
        "To install dependencies:\n",
        "\n",
        "`uv sync --package semantic_kernel_text_2_sql`\n",
        "\n",
        "`uv add --editable ../text_2_sql_core/`"
      ]
    },
    {
      "cell_type": "code",
      "execution_count": null,
      "metadata": {},
      "outputs": [],
      "source": [
        "# This is only needed for this notebook to work\n",
        "import sys\n",
        "from pathlib import Path\n",
        "\n",
        "# Add the parent directory of `src` to the path\n",
        "sys.path.append(str(Path.cwd() / \"src\"))"
      ]
    },
    {
      "cell_type": "code",
      "execution_count": 1,
      "metadata": {
        "gather": {
          "logged": 1718623217703
        },
        "jupyter": {
          "outputs_hidden": false,
          "source_hidden": false
        },
        "nteract": {
          "transient": {
            "deleting": false
          }
        }
      },
      "outputs": [],
      "source": [
        "import logging\n",
        "import os\n",
        "import yaml\n",
        "import dotenv\n",
        "import json\n",
        "from semantic_kernel.connectors.ai.open_ai import (\n",
        "    AzureChatCompletion,\n",
        ")\n",
        "from semantic_kernel.contents.chat_history import ChatHistory\n",
        "from semantic_kernel.kernel import Kernel\n",
        "from semantic_kernel_text_2_sql.plugins.prompt_based_sql_plugin.prompt_based_sql_plugin import PromptBasedSQLPlugin\n",
        "from semantic_kernel.functions.kernel_arguments import KernelArguments\n",
        "from semantic_kernel.prompt_template.prompt_template_config import PromptTemplateConfig\n",
        "from IPython.display import display, Markdown\n",
        "\n",
        "logging.basicConfig(level=logging.INFO)"
      ]
    },
    {
      "cell_type": "markdown",
      "metadata": {},
      "source": [
        "## Kernel Setup"
      ]
    },
    {
      "cell_type": "code",
      "execution_count": 2,
      "metadata": {},
      "outputs": [],
      "source": [
        "dotenv.load_dotenv()\n",
        "kernel = Kernel()"
      ]
    },
    {
      "cell_type": "markdown",
      "metadata": {},
      "source": [
        "## Set up GPT connections"
      ]
    },
    {
      "cell_type": "code",
      "execution_count": 3,
      "metadata": {
        "gather": {
          "logged": 1718623218006
        },
        "jupyter": {
          "outputs_hidden": false,
          "source_hidden": false
        },
        "nteract": {
          "transient": {
            "deleting": false
          }
        }
      },
      "outputs": [],
      "source": [
        "service_id = \"chat\""
      ]
    },
    {
      "cell_type": "code",
      "execution_count": 4,
      "metadata": {
        "gather": {
          "logged": 1718623218267
        },
        "jupyter": {
          "outputs_hidden": false,
          "source_hidden": false
        },
        "nteract": {
          "transient": {
            "deleting": false
          }
        }
      },
      "outputs": [],
      "source": [
        "chat_service = AzureChatCompletion(\n",
        "    service_id=service_id,\n",
        "    deployment_name=os.environ[\"OpenAI__CompletionDeployment\"],\n",
        "    endpoint=os.environ[\"OpenAI__Endpoint\"],\n",
        "    api_key=os.environ[\"OpenAI__ApiKey\"],\n",
        ")\n",
        "kernel.add_service(chat_service)"
      ]
    },
    {
      "cell_type": "code",
      "execution_count": 5,
      "metadata": {
        "gather": {
          "logged": 1718623218614
        },
        "jupyter": {
          "outputs_hidden": false,
          "source_hidden": false
        },
        "nteract": {
          "transient": {
            "deleting": false
          }
        }
      },
      "outputs": [
        {
          "data": {
            "text/plain": [
              "KernelPlugin(name='SQL', description=None, functions={'GetEntitySchema': KernelFunctionFromMethod(metadata=KernelFunctionMetadata(name='GetEntitySchema', plugin_name='SQL', description='Get the detailed schema of an entity in the Database. Use the entity and the column returned to formulate a SQL query. The view name or table name must be one of the ENTITY NAMES defined in the [ENTITIES LIST]. Only use the column names obtained from GetEntitySchema() when constructing a SQL query, do not make up column names.', parameters=[KernelParameterMetadata(name='entity_name', description='The view or table name to get the schema for. It must be one of the ENTITY NAMES defined in the [ENTITIES LIST] function.', default_value=None, type_='str', is_required=True, type_object=<class 'str'>, schema_data={'type': 'string', 'description': 'The view or table name to get the schema for. It must be one of the ENTITY NAMES defined in the [ENTITIES LIST] function.'}, function_schema_include=True)], is_prompt=False, is_asynchronous=True, return_parameter=KernelParameterMetadata(name='return', description='', default_value=None, type_='str', is_required=True, type_object=<class 'str'>, schema_data={'type': 'string'}, function_schema_include=True), additional_properties={}), invocation_duration_histogram=<opentelemetry.metrics._internal.instrument._ProxyHistogram object at 0x7fa577c411c0>, streaming_duration_histogram=<opentelemetry.metrics._internal.instrument._ProxyHistogram object at 0x7fa577a32c90>, method=<bound method PromptBasedSQLPlugin.get_entity_schema of <plugins.prompt_based_sql_plugin.prompt_based_sql_plugin.PromptBasedSQLPlugin object at 0x7fa57424a3f0>>, stream_method=None), 'RunSQLQuery': KernelFunctionFromMethod(metadata=KernelFunctionMetadata(name='RunSQLQuery', plugin_name='SQL', description='Runs an SQL query against the SQL Database to extract information.', parameters=[KernelParameterMetadata(name='sql_query', description='The SQL query to run against the DB', default_value=None, type_='str', is_required=True, type_object=<class 'str'>, schema_data={'type': 'string', 'description': 'The SQL query to run against the DB'}, function_schema_include=True)], is_prompt=False, is_asynchronous=True, return_parameter=KernelParameterMetadata(name='return', description='', default_value=None, type_='str', is_required=True, type_object=<class 'str'>, schema_data={'type': 'string'}, function_schema_include=True), additional_properties={}), invocation_duration_histogram=<opentelemetry.metrics._internal.instrument._ProxyHistogram object at 0x7fa577c411c0>, streaming_duration_histogram=<opentelemetry.metrics._internal.instrument._ProxyHistogram object at 0x7fa577a32c90>, method=<bound method PromptBasedSQLPlugin.run_sql_query of <plugins.prompt_based_sql_plugin.prompt_based_sql_plugin.PromptBasedSQLPlugin object at 0x7fa57424a3f0>>, stream_method=None)})"
            ]
          },
          "execution_count": 5,
          "metadata": {},
          "output_type": "execute_result"
        }
      ],
      "source": [
        "# Register the SQL Plugin with the Database name to use.\n",
        "sql_plugin = PromptBasedSQLPlugin(database=os.environ[\"Text2Sql__DatabaseName\"])\n",
        "kernel.add_plugin(sql_plugin, \"SQL\")"
      ]
    },
    {
      "cell_type": "markdown",
      "metadata": {
        "nteract": {
          "transient": {
            "deleting": false
          }
        }
      },
      "source": [
        "## Prompt Setup"
      ]
    },
    {
      "cell_type": "code",
      "execution_count": 6,
      "metadata": {},
      "outputs": [],
      "source": [
        "# Load prompt and execution settings from the file\n",
        "with open(\"./semantic_kernel_text_2_sql/src/prompt.yaml\", \"r\") as file:\n",
        "    data = yaml.safe_load(file.read())\n",
        "    prompt_template_config = PromptTemplateConfig(**data)"
      ]
    },
    {
      "cell_type": "code",
      "execution_count": 7,
      "metadata": {},
      "outputs": [],
      "source": [
        "chat_function = kernel.add_function(\n",
        "    prompt_template_config=prompt_template_config,\n",
        "    plugin_name=\"ChatBot\",\n",
        "    function_name=\"Chat\",\n",
        ")"
      ]
    },
    {
      "cell_type": "markdown",
      "metadata": {},
      "source": [
        "## ChatBot setup"
      ]
    },
    {
      "cell_type": "code",
      "execution_count": 8,
      "metadata": {},
      "outputs": [],
      "source": [
        "history = ChatHistory()"
      ]
    },
    {
      "cell_type": "code",
      "execution_count": 9,
      "metadata": {},
      "outputs": [],
      "source": [
        "async def ask_question(question: str, chat_history: ChatHistory) -> str:\n",
        "    \"\"\"Asks a question to the chatbot and returns the answer.\n",
        "    \n",
        "    Args:\n",
        "        question (str): The question to ask the chatbot.\n",
        "        chat_history (ChatHistory): The chat history object.\n",
        "        \n",
        "    Returns:\n",
        "        str: The answer from the chatbot.\n",
        "    \"\"\"\n",
        "\n",
        "    # Create important information prompt that contains the SQL database information.\n",
        "    engine_specific_rules = \"Use TOP X to limit the number of rows returned instead of LIMIT X. NEVER USE LIMIT X as it produces a syntax error.\"\n",
        "    sql_database_information_prompt = f\"\"\"\n",
        "    [SQL DATABASE INFORMATION]\n",
        "    {sql_plugin.sql_prompt_injection(engine_specific_rules=engine_specific_rules)}\n",
        "    [END SQL DATABASE INFORMATION]\n",
        "    \"\"\"\n",
        "\n",
        "    arguments = KernelArguments()\n",
        "    arguments[\"sql_database_information\"] = sql_database_information_prompt\n",
        "    arguments[\"user_input\"] = question\n",
        "\n",
        "    logging.info(\"Question: %s\", question)\n",
        "\n",
        "    answer = await kernel.invoke(\n",
        "        function_name=\"Chat\",\n",
        "        plugin_name=\"ChatBot\",\n",
        "        arguments=arguments,\n",
        "        chat_history=chat_history,\n",
        "    )\n",
        "\n",
        "    logging.info(\"Answer: %s\", answer)\n",
        "\n",
        "    # Log the question and answer to the chat history.\n",
        "    chat_history.add_user_message(question)\n",
        "    chat_history.add_message({\"role\": \"assistant\", \"message\": answer})\n",
        "\n",
        "    json_answer = json.loads(str(answer))\n",
        "\n",
        "    display(Markdown(json_answer[\"answer\"]))"
      ]
    },
    {
      "cell_type": "code",
      "execution_count": 10,
      "metadata": {},
      "outputs": [
        {
          "name": "stderr",
          "output_type": "stream",
          "text": [
            "INFO:root:Question: What are the different product categories we have?\n",
            "INFO:semantic_kernel.functions.kernel_function:Function ChatBot-Chat invoking.\n",
            "INFO:semantic_kernel.contents.chat_history:Could not parse prompt <message role=\"system\">\n",
            "As a senior analyst, your primary responsibility is to provide accurate, thorough answers to user queries. Use all available functions to craft detailed final responses with clear explanations and actionable insights.\n",
            "\n",
            "- Always use the provided functions to obtain key information.\n",
            "- If a function is required, you must use it to complement the answer.\n",
            "- Use multiple functions in parallel to enhance the results.\n",
            "- Always provide an answer; never leave it blank.\n",
            "\n",
            "The response must meet the following requirements:\n",
            "\n",
            "[RESPONSE OUTPUT REQUIREMENTS]\n",
            "\n",
            "  The answer MUST be in JSON format:\n",
            "  {\n",
            "    \"answer\": \"<GENERATED ANSWER>\",\n",
            "    \"sources\": [\n",
            "      {\"title\": <SOURCE 1 TITLE>, \"chunk\": <SOURCE 1 CONTEXT CHUNK>, \"reference\": \"<SOURCE 1 REFERENCE>\"},\n",
            "      {\"title\": <SOURCE 2 TITLE>, \"chunk\": <SOURCE 2 CONTEXT CHUNK>, \"reference\": \"<SOURCE 2 REFERENCE>\"}\n",
            "    ]\n",
            "  }\n",
            "\n",
            "  [ANSWER PROPERTY REQUIREMENTS]\n",
            "    - **Language & Tone**:\n",
            "      Use British English, business-friendly language that is professional and clear.\n",
            "    - **Content Restrictions**:\n",
            "      Avoid profanity, offensive language, and code. Rephrase or omit inappropriate content.\n",
            "    - **Information Sources**:\n",
            "      Only use provided functions and important information. Prioritize SQL Database data in case of conflicts.\n",
            "    - **Calculations**:\n",
            "      Use context-provided values and explain calculations briefly.\n",
            "    - **Structure**:\n",
            "      Responses must be direct, easy to understand, and formatted using Markdown.\n",
            "      Use Level 3 and 4 headings, bold sub-headings, and lists where appropriate. Keep font size consistent.\n",
            "    - **Citations**:\n",
            "      Factual statements must be cited using numbered references like [1]. Each citation must match a source in the 'sources' object.\n",
            "\n",
            "  [SOURCES PROPERTY REQUIREMENTS]\n",
            "    - **Reference Inclusion**:\n",
            "      All cited content must have a corresponding reference in the 'sources' object.\n",
            "    - **Source Format**:\n",
            "      Each source must follow this format: {\"title\": \"<SOURCE TITLE>\", \"chunk\": \"<SOURCE CONTEXT CHUNK>\", \"reference\": \"<SOURCE REFERENCE>\"}\n",
            "    - **Source Chunk**:\n",
            "      Include a concise, unedited snippet of relevant context in the 'chunk' property.\n",
            "    - **Mandatory Citations**:\n",
            "      Every source listed must be cited at least once in the answer.\n",
            "\n",
            "[IMPORTANT INFORMATION]\n",
            "\n",
            "\n",
            "    [SQL DATABASE INFORMATION]\n",
            "    Use the names and descriptions of Microsoft TSQL Server entities provided in ENTITIES LIST to decide which entities to query if you need to retrieve information from the database. Use the &#x27;GetEntitySchema()&#x27; function to get more details of the schema of the view you want to query.\n",
            "\n",
            "        Always then use the &#x27;RunSQLQuery()&#x27; function to run the SQL query against the database. Never just return the SQL query as the answer.\n",
            "\n",
            "        Do not give the steps to the user in the response. Make sure to execute the SQL query and return the results in the response.\n",
            "\n",
            "        You must always examine the provided Microsoft TSQL Server entity descriptions to determine if they can answer the question.\n",
            "\n",
            "        [BEGIN ENTITIES LIST]\n",
            "             [BEGIN ENTITY = &#x27;SALES ORDER DETAIL&#x27;]\n",
            "                 Name=&#x27;Sales Order Detail&#x27;\n",
            "                 Description=&#x27;This table stores detailed information about sales order tickets, including the order details, customer information, order status, and timestamps. It is used to manage and track sales orders throughout the order lifecycle, from creation to fulfillment.&#x27;\n",
            "             [END ENTITY = &#x27;SALES ORDER DETAIL&#x27;]\n",
            "\n",
            "             [BEGIN ENTITY = &#x27;SALES ORDER HEADER&#x27;]\n",
            "                 Name=&#x27;Sales Order Header&#x27;\n",
            "                 Description=&#x27;This table contains high-level information about sales orders, including order dates, customer details, shipping information, and order status. It is used to manage and track sales orders from initiation to fulfillment.&#x27;\n",
            "             [END ENTITY = &#x27;SALES ORDER HEADER&#x27;]\n",
            "\n",
            "             [BEGIN ENTITY = &#x27;ADDRESS&#x27;]\n",
            "                 Name=&#x27;Address&#x27;\n",
            "                 Description=&#x27;This table stores address information for customers, including street addresses, city, state, postal code, and country/region. It is used to maintain contact and shipping information for orders, as well as to manage customer locations.&#x27;\n",
            "             [END ENTITY = &#x27;ADDRESS&#x27;]\n",
            "\n",
            "             [BEGIN ENTITY = &#x27;GET ALL CATEGORIES&#x27;]\n",
            "                 Name=&#x27;Get All Categories&#x27;\n",
            "                 Description=&#x27;This view provides a comprehensive list of all product categories and their corresponding subcategories in the SalesLT schema of the AdventureWorksLT database. It is used to understand the hierarchical structure of product categories, facilitating product organization and categorization.&#x27;\n",
            "             [END ENTITY = &#x27;GET ALL CATEGORIES&#x27;]\n",
            "\n",
            "             [BEGIN ENTITY = &#x27;PRODUCT AND DESCRIPTION&#x27;]\n",
            "                 Name=&#x27;Product and Description&#x27;\n",
            "                 Description=&#x27;This view provides detailed information about products, including their names, associated product models, descriptions, and the specific culture or language of the description. It is useful for understanding product details and translating product descriptions for different cultures.&#x27;\n",
            "             [END ENTITY = &#x27;PRODUCT AND DESCRIPTION&#x27;]\n",
            "\n",
            "             [BEGIN ENTITY = &#x27;PRODUCT MODEL CATALOG DESCRIPTION&#x27;]\n",
            "                 Name=&#x27;Product Model Catalog Description&#x27;\n",
            "                 Description=&#x27;This view provides detailed catalog information about product models, including descriptions, manufacturing details, warranty information, and specifications related to product design and features. It is useful for generating comprehensive product catalogs and providing detailed product information to customers.&#x27;\n",
            "             [END ENTITY = &#x27;PRODUCT MODEL CATALOG DESCRIPTION&#x27;]\n",
            "        [END ENTITIES LIST]\n",
            "\n",
            "        Output corresponding text values in the answer for columns where there is an ID. For example, if the column is &#x27;ProductID&#x27;, output the corresponding &#x27;ProductModel&#x27; in the response. Do not include the ID in the response.\n",
            "        If a user is asking for a comparison, always compare the relevant values in the database.\n",
            "\n",
            "        The target database engine is Microsoft TSQL Server, SQL queries must be able compatible to run on Microsoft TSQL Server. \n",
            "        The following Microsoft TSQL Server Syntax rules must be adhered to.\n",
            "        Use TOP X to limit the number of rows returned instead of LIMIT X. NEVER USE LIMIT X as it produces a syntax error.\n",
            "        Always generate the SQL query based on the GetEntitySchema() function output, do not use the chat history data to generate the SQL query.\n",
            "        Do not use any other entities and columns in your SQL query, other than those defined above. Only use the column names obtained from GetEntitySchema() when constructing a SQL query, do not make up column names.\n",
            "        You must only provide SELECT SQL queries.\n",
            "        For a given entity, use the &#x27;SelectFromEntity&#x27; property returned from &#x27;GetEntitySchema()&#x27; function in the SELECT FROM part of the SQL query. If the property is {&#x27;SelectFromEntity&#x27;: &#x27;test_schema.test_table&#x27;}, the select statement will be formulated from &#x27;SELECT &lt;VALUES&gt; FROM test_schema.test_table WHERE &lt;CONDITION&gt;.\n",
            "\n",
            "        If you don&#x27;t know how the value is formatted in a column, run a query against the column to get the unique values that might match your query.\n",
            "        Some columns returned from &#x27;GetEntitySchema()&#x27; may have the properties &#x27;AllowedValues&#x27; or &#x27;SampleValues&#x27;. Use these values to determine the possible values that can be used in the SQL query.\n",
            "\n",
            "        The source title to cite is the &#x27;entity_name&#x27; property. The source reference is the SQL query used. The source chunk is the result of the SQL query used to answer the user query in Markdown table format. e.g. { &#x27;title&#x27;: &quot;vProductAndDescription&quot;, &#x27;chunk&#x27;: &#x27;| ProductID | Name              | ProductModel | Culture | Description                      |\\n|-----------|-------------------|--------------|---------|----------------------------------|\\n| 101       | Mountain Bike     | MT-100       | en      | A durable bike for mountain use. |\\n| 102       | Road Bike         | RB-200       | en      | Lightweight bike for road use.   |\\n| 103       | Hybrid Bike       | HB-300       | fr      | V\u00e9lo hybride pour usage mixte.   |\\n&#x27;, &#x27;reference&#x27;: &#x27;SELECT ProductID, Name, ProductModel, Culture, Description FROM vProductAndDescription WHERE Culture = &quot;en&quot;;&#x27; }\n",
            "    [END SQL DATABASE INFORMATION]\n",
            "    \n",
            "\n",
            "[END]\n",
            "</message>\n",
            "<chat_history />\n",
            "<message role=\"user\">What are the different product categories we have?</message> as xml, treating as text, error was: not well-formed (invalid token): line 15, column 32\n",
            "INFO:httpx:HTTP Request: POST https://aoai-text2sql-adi.openai.azure.com/openai/deployments/gpt-4o/chat/completions?api-version=2024-02-01 \"HTTP/1.1 200 OK\"\n",
            "INFO:semantic_kernel.connectors.ai.open_ai.services.open_ai_handler:OpenAI usage: CompletionUsage(completion_tokens=20, prompt_tokens=1877, total_tokens=1897, completion_tokens_details=None)\n",
            "INFO:semantic_kernel.connectors.ai.chat_completion_client_base:processing 1 tool calls in parallel.\n",
            "INFO:semantic_kernel.kernel:Calling SQL-GetEntitySchema function with args: {\"entity_name\":\"Get All Categories\"}\n",
            "INFO:semantic_kernel.functions.kernel_function:Function SQL-GetEntitySchema invoking.\n",
            "INFO:semantic_kernel.functions.kernel_function:Function SQL-GetEntitySchema succeeded.\n",
            "INFO:semantic_kernel.functions.kernel_function:Function completed. Duration: 0.001057s\n",
            "INFO:httpx:HTTP Request: POST https://aoai-text2sql-adi.openai.azure.com/openai/deployments/gpt-4o/chat/completions?api-version=2024-02-01 \"HTTP/1.1 200 OK\"\n",
            "INFO:semantic_kernel.connectors.ai.open_ai.services.open_ai_handler:OpenAI usage: CompletionUsage(completion_tokens=38, prompt_tokens=2125, total_tokens=2163, completion_tokens_details=None)\n",
            "INFO:semantic_kernel.connectors.ai.chat_completion_client_base:processing 1 tool calls in parallel.\n",
            "INFO:semantic_kernel.kernel:Calling SQL-RunSQLQuery function with args: {\"sql_query\":\"SELECT ProductCategoryID, ParentProductCategoryName, ProductCategoryName FROM SalesLT.vGetAllCategories;\"}\n",
            "INFO:semantic_kernel.functions.kernel_function:Function SQL-RunSQLQuery invoking.\n",
            "INFO:root:Executing SQL Query\n",
            "INFO:semantic_kernel.functions.kernel_function:Function SQL-RunSQLQuery succeeded.\n",
            "INFO:semantic_kernel.functions.kernel_function:Function completed. Duration: 0.345648s\n",
            "INFO:httpx:HTTP Request: POST https://aoai-text2sql-adi.openai.azure.com/openai/deployments/gpt-4o/chat/completions?api-version=2024-02-01 \"HTTP/1.1 200 OK\"\n",
            "INFO:semantic_kernel.connectors.ai.open_ai.services.open_ai_handler:OpenAI usage: CompletionUsage(completion_tokens=748, prompt_tokens=3163, total_tokens=3911, completion_tokens_details=None)\n",
            "INFO:semantic_kernel.functions.kernel_function:Function ChatBot-Chat succeeded.\n",
            "INFO:semantic_kernel.functions.kernel_function:Function completed. Duration: 15.648187s\n",
            "INFO:root:Answer: {\n",
            "  \"answer\": \"The different product categories available are as follows:\\n\\n### Accessories\\n- Bike Racks\\n- Bike Stands\\n- Bottles and Cages\\n- Cleaners\\n- Fenders\\n- Helmets\\n- Hydration Packs\\n- Lights\\n- Locks\\n- Panniers\\n- Pumps\\n- Tires and Tubes\\n\\n### Clothing\\n- Bib-Shorts\\n- Caps\\n- Gloves\\n- Jerseys\\n- Shorts\\n- Socks\\n- Tights\\n- Vests\\n\\n### Components\\n- Handlebars\\n- Bottom Brackets\\n- Brakes\\n- Chains\\n- Cranksets\\n- Derailleurs\\n- Forks\\n- Headsets\\n- Mountain Frames\\n- Pedals\\n- Road Frames\\n- Saddles\\n- Touring Frames\\n- Wheels\\n\\n### Bikes\\n- Mountain Bikes\\n- Road Bikes\\n- Touring Bikes\",\n",
            "  \"sources\": [\n",
            "    {\n",
            "      \"title\": \"Get All Categories\",\n",
            "      \"chunk\": \"| ProductCategoryID | ParentProductCategoryName | ProductCategoryName |\\n|-------------------|---------------------------|---------------------|\\n| 30                | Accessories               | Bike Racks          |\\n| 31                | Accessories               | Bike Stands         |\\n| 32                | Accessories               | Bottles and Cages   |\\n| 33                | Accessories               | Cleaners            |\\n| 34                | Accessories               | Fenders             |\\n| 35                | Accessories               | Helmets             |\\n| 36                | Accessories               | Hydration Packs     |\\n| 37                | Accessories               | Lights              |\\n| 38                | Accessories               | Locks               |\\n| 39                | Accessories               | Panniers            |\\n| 40                | Accessories               | Pumps               |\\n| 41                | Accessories               | Tires and Tubes     |\\n| 22                | Clothing                  | Bib-Shorts          |\\n| 23                | Clothing                  | Caps                |\\n| 24                | Clothing                  | Gloves              |\\n| 25                | Clothing                  | Jerseys             |\\n| 26                | Clothing                  | Shorts              |\\n| 27                | Clothing                  | Socks               |\\n| 28                | Clothing                  | Tights              |\\n| 29                | Clothing                  | Vests               |\\n| 8                 | Components                | Handlebars          |\\n| 9                 | Components                | Bottom Brackets     |\\n| 10                | Components                | Brakes              |\\n| 11                | Components                | Chains              |\\n| 12                | Components                | Cranksets           |\\n| 13                | Components                | Derailleurs         |\\n| 14                | Components                | Forks               |\\n| 15                | Components                | Headsets            |\\n| 16                | Components                | Mountain Frames     |\\n| 17                | Components                | Pedals              |\\n| 18                | Components                | Road Frames         |\\n| 19                | Components                | Saddles             |\\n| 20                | Components                | Touring Frames      |\\n| 21                | Components                | Wheels              |\\n| 5                 | Bikes                     | Mountain Bikes      |\\n| 6                 | Bikes                     | Road Bikes          |\\n| 7                 | Bikes                     | Touring Bikes       |\\n\",\n",
            "      \"reference\": \"SELECT ProductCategoryID, ParentProductCategoryName, ProductCategoryName FROM SalesLT.vGetAllCategories;\"\n",
            "    }\n",
            "  ]\n",
            "}\n"
          ]
        },
        {
          "data": {
            "text/markdown": [
              "The different product categories available are as follows:\n",
              "\n",
              "### Accessories\n",
              "- Bike Racks\n",
              "- Bike Stands\n",
              "- Bottles and Cages\n",
              "- Cleaners\n",
              "- Fenders\n",
              "- Helmets\n",
              "- Hydration Packs\n",
              "- Lights\n",
              "- Locks\n",
              "- Panniers\n",
              "- Pumps\n",
              "- Tires and Tubes\n",
              "\n",
              "### Clothing\n",
              "- Bib-Shorts\n",
              "- Caps\n",
              "- Gloves\n",
              "- Jerseys\n",
              "- Shorts\n",
              "- Socks\n",
              "- Tights\n",
              "- Vests\n",
              "\n",
              "### Components\n",
              "- Handlebars\n",
              "- Bottom Brackets\n",
              "- Brakes\n",
              "- Chains\n",
              "- Cranksets\n",
              "- Derailleurs\n",
              "- Forks\n",
              "- Headsets\n",
              "- Mountain Frames\n",
              "- Pedals\n",
              "- Road Frames\n",
              "- Saddles\n",
              "- Touring Frames\n",
              "- Wheels\n",
              "\n",
              "### Bikes\n",
              "- Mountain Bikes\n",
              "- Road Bikes\n",
              "- Touring Bikes"
            ],
            "text/plain": [
              "<IPython.core.display.Markdown object>"
            ]
          },
          "metadata": {},
          "output_type": "display_data"
        }
      ],
      "source": [
        "await ask_question(\"What are the different product categories we have?\", history)"
      ]
    },
    {
      "cell_type": "code",
      "execution_count": 11,
      "metadata": {},
      "outputs": [
        {
          "name": "stderr",
          "output_type": "stream",
          "text": [
            "INFO:root:Question: What is the top performing product by quantity of units sold?\n",
            "INFO:semantic_kernel.functions.kernel_function:Function ChatBot-Chat invoking.\n",
            "INFO:semantic_kernel.contents.chat_history:Could not parse prompt <message role=\"system\">\n",
            "As a senior analyst, your primary responsibility is to provide accurate, thorough answers to user queries. Use all available functions to craft detailed final responses with clear explanations and actionable insights.\n",
            "\n",
            "- Always use the provided functions to obtain key information.\n",
            "- If a function is required, you must use it to complement the answer.\n",
            "- Use multiple functions in parallel to enhance the results.\n",
            "- Always provide an answer; never leave it blank.\n",
            "\n",
            "The response must meet the following requirements:\n",
            "\n",
            "[RESPONSE OUTPUT REQUIREMENTS]\n",
            "\n",
            "  The answer MUST be in JSON format:\n",
            "  {\n",
            "    \"answer\": \"<GENERATED ANSWER>\",\n",
            "    \"sources\": [\n",
            "      {\"title\": <SOURCE 1 TITLE>, \"chunk\": <SOURCE 1 CONTEXT CHUNK>, \"reference\": \"<SOURCE 1 REFERENCE>\"},\n",
            "      {\"title\": <SOURCE 2 TITLE>, \"chunk\": <SOURCE 2 CONTEXT CHUNK>, \"reference\": \"<SOURCE 2 REFERENCE>\"}\n",
            "    ]\n",
            "  }\n",
            "\n",
            "  [ANSWER PROPERTY REQUIREMENTS]\n",
            "    - **Language & Tone**:\n",
            "      Use British English, business-friendly language that is professional and clear.\n",
            "    - **Content Restrictions**:\n",
            "      Avoid profanity, offensive language, and code. Rephrase or omit inappropriate content.\n",
            "    - **Information Sources**:\n",
            "      Only use provided functions and important information. Prioritize SQL Database data in case of conflicts.\n",
            "    - **Calculations**:\n",
            "      Use context-provided values and explain calculations briefly.\n",
            "    - **Structure**:\n",
            "      Responses must be direct, easy to understand, and formatted using Markdown.\n",
            "      Use Level 3 and 4 headings, bold sub-headings, and lists where appropriate. Keep font size consistent.\n",
            "    - **Citations**:\n",
            "      Factual statements must be cited using numbered references like [1]. Each citation must match a source in the 'sources' object.\n",
            "\n",
            "  [SOURCES PROPERTY REQUIREMENTS]\n",
            "    - **Reference Inclusion**:\n",
            "      All cited content must have a corresponding reference in the 'sources' object.\n",
            "    - **Source Format**:\n",
            "      Each source must follow this format: {\"title\": \"<SOURCE TITLE>\", \"chunk\": \"<SOURCE CONTEXT CHUNK>\", \"reference\": \"<SOURCE REFERENCE>\"}\n",
            "    - **Source Chunk**:\n",
            "      Include a concise, unedited snippet of relevant context in the 'chunk' property.\n",
            "    - **Mandatory Citations**:\n",
            "      Every source listed must be cited at least once in the answer.\n",
            "\n",
            "[IMPORTANT INFORMATION]\n",
            "\n",
            "\n",
            "    [SQL DATABASE INFORMATION]\n",
            "    Use the names and descriptions of Microsoft TSQL Server entities provided in ENTITIES LIST to decide which entities to query if you need to retrieve information from the database. Use the &#x27;GetEntitySchema()&#x27; function to get more details of the schema of the view you want to query.\n",
            "\n",
            "        Always then use the &#x27;RunSQLQuery()&#x27; function to run the SQL query against the database. Never just return the SQL query as the answer.\n",
            "\n",
            "        Do not give the steps to the user in the response. Make sure to execute the SQL query and return the results in the response.\n",
            "\n",
            "        You must always examine the provided Microsoft TSQL Server entity descriptions to determine if they can answer the question.\n",
            "\n",
            "        [BEGIN ENTITIES LIST]\n",
            "             [BEGIN ENTITY = &#x27;SALES ORDER DETAIL&#x27;]\n",
            "                 Name=&#x27;Sales Order Detail&#x27;\n",
            "                 Description=&#x27;This table stores detailed information about sales order tickets, including the order details, customer information, order status, and timestamps. It is used to manage and track sales orders throughout the order lifecycle, from creation to fulfillment.&#x27;\n",
            "             [END ENTITY = &#x27;SALES ORDER DETAIL&#x27;]\n",
            "\n",
            "             [BEGIN ENTITY = &#x27;SALES ORDER HEADER&#x27;]\n",
            "                 Name=&#x27;Sales Order Header&#x27;\n",
            "                 Description=&#x27;This table contains high-level information about sales orders, including order dates, customer details, shipping information, and order status. It is used to manage and track sales orders from initiation to fulfillment.&#x27;\n",
            "             [END ENTITY = &#x27;SALES ORDER HEADER&#x27;]\n",
            "\n",
            "             [BEGIN ENTITY = &#x27;ADDRESS&#x27;]\n",
            "                 Name=&#x27;Address&#x27;\n",
            "                 Description=&#x27;This table stores address information for customers, including street addresses, city, state, postal code, and country/region. It is used to maintain contact and shipping information for orders, as well as to manage customer locations.&#x27;\n",
            "             [END ENTITY = &#x27;ADDRESS&#x27;]\n",
            "\n",
            "             [BEGIN ENTITY = &#x27;GET ALL CATEGORIES&#x27;]\n",
            "                 Name=&#x27;Get All Categories&#x27;\n",
            "                 Description=&#x27;This view provides a comprehensive list of all product categories and their corresponding subcategories in the SalesLT schema of the AdventureWorksLT database. It is used to understand the hierarchical structure of product categories, facilitating product organization and categorization.&#x27;\n",
            "             [END ENTITY = &#x27;GET ALL CATEGORIES&#x27;]\n",
            "\n",
            "             [BEGIN ENTITY = &#x27;PRODUCT AND DESCRIPTION&#x27;]\n",
            "                 Name=&#x27;Product and Description&#x27;\n",
            "                 Description=&#x27;This view provides detailed information about products, including their names, associated product models, descriptions, and the specific culture or language of the description. It is useful for understanding product details and translating product descriptions for different cultures.&#x27;\n",
            "             [END ENTITY = &#x27;PRODUCT AND DESCRIPTION&#x27;]\n",
            "\n",
            "             [BEGIN ENTITY = &#x27;PRODUCT MODEL CATALOG DESCRIPTION&#x27;]\n",
            "                 Name=&#x27;Product Model Catalog Description&#x27;\n",
            "                 Description=&#x27;This view provides detailed catalog information about product models, including descriptions, manufacturing details, warranty information, and specifications related to product design and features. It is useful for generating comprehensive product catalogs and providing detailed product information to customers.&#x27;\n",
            "             [END ENTITY = &#x27;PRODUCT MODEL CATALOG DESCRIPTION&#x27;]\n",
            "        [END ENTITIES LIST]\n",
            "\n",
            "        Output corresponding text values in the answer for columns where there is an ID. For example, if the column is &#x27;ProductID&#x27;, output the corresponding &#x27;ProductModel&#x27; in the response. Do not include the ID in the response.\n",
            "        If a user is asking for a comparison, always compare the relevant values in the database.\n",
            "\n",
            "        The target database engine is Microsoft TSQL Server, SQL queries must be able compatible to run on Microsoft TSQL Server. \n",
            "        The following Microsoft TSQL Server Syntax rules must be adhered to.\n",
            "        Use TOP X to limit the number of rows returned instead of LIMIT X. NEVER USE LIMIT X as it produces a syntax error.\n",
            "        Always generate the SQL query based on the GetEntitySchema() function output, do not use the chat history data to generate the SQL query.\n",
            "        Do not use any other entities and columns in your SQL query, other than those defined above. Only use the column names obtained from GetEntitySchema() when constructing a SQL query, do not make up column names.\n",
            "        You must only provide SELECT SQL queries.\n",
            "        For a given entity, use the &#x27;SelectFromEntity&#x27; property returned from &#x27;GetEntitySchema()&#x27; function in the SELECT FROM part of the SQL query. If the property is {&#x27;SelectFromEntity&#x27;: &#x27;test_schema.test_table&#x27;}, the select statement will be formulated from &#x27;SELECT &lt;VALUES&gt; FROM test_schema.test_table WHERE &lt;CONDITION&gt;.\n",
            "\n",
            "        If you don&#x27;t know how the value is formatted in a column, run a query against the column to get the unique values that might match your query.\n",
            "        Some columns returned from &#x27;GetEntitySchema()&#x27; may have the properties &#x27;AllowedValues&#x27; or &#x27;SampleValues&#x27;. Use these values to determine the possible values that can be used in the SQL query.\n",
            "\n",
            "        The source title to cite is the &#x27;entity_name&#x27; property. The source reference is the SQL query used. The source chunk is the result of the SQL query used to answer the user query in Markdown table format. e.g. { &#x27;title&#x27;: &quot;vProductAndDescription&quot;, &#x27;chunk&#x27;: &#x27;| ProductID | Name              | ProductModel | Culture | Description                      |\\n|-----------|-------------------|--------------|---------|----------------------------------|\\n| 101       | Mountain Bike     | MT-100       | en      | A durable bike for mountain use. |\\n| 102       | Road Bike         | RB-200       | en      | Lightweight bike for road use.   |\\n| 103       | Hybrid Bike       | HB-300       | fr      | V\u00e9lo hybride pour usage mixte.   |\\n&#x27;, &#x27;reference&#x27;: &#x27;SELECT ProductID, Name, ProductModel, Culture, Description FROM vProductAndDescription WHERE Culture = &quot;en&quot;;&#x27; }\n",
            "    [END SQL DATABASE INFORMATION]\n",
            "    \n",
            "\n",
            "[END]\n",
            "</message>\n",
            "<chat_history><message role=\"user\"><text>What are the different product categories we have?</text></message><message role=\"assistant\" /></chat_history>\n",
            "<message role=\"user\">What is the top performing product by quantity of units sold?</message> as xml, treating as text, error was: not well-formed (invalid token): line 15, column 32\n",
            "INFO:httpx:HTTP Request: POST https://aoai-text2sql-adi.openai.azure.com/openai/deployments/gpt-4o/chat/completions?api-version=2024-02-01 \"HTTP/1.1 200 OK\"\n",
            "INFO:semantic_kernel.connectors.ai.open_ai.services.open_ai_handler:OpenAI usage: CompletionUsage(completion_tokens=57, prompt_tokens=1909, total_tokens=1966, completion_tokens_details=None)\n",
            "INFO:semantic_kernel.connectors.ai.chat_completion_client_base:processing 2 tool calls in parallel.\n",
            "INFO:semantic_kernel.kernel:Calling SQL-GetEntitySchema function with args: {\"entity_name\": \"SALES ORDER DETAIL\"}\n",
            "INFO:semantic_kernel.functions.kernel_function:Function SQL-GetEntitySchema invoking.\n",
            "INFO:semantic_kernel.functions.kernel_function:Function SQL-GetEntitySchema succeeded.\n",
            "INFO:semantic_kernel.functions.kernel_function:Function completed. Duration: 0.001486s\n",
            "INFO:semantic_kernel.kernel:Calling SQL-GetEntitySchema function with args: {\"entity_name\": \"PRODUCT AND DESCRIPTION\"}\n",
            "INFO:semantic_kernel.functions.kernel_function:Function SQL-GetEntitySchema invoking.\n",
            "INFO:semantic_kernel.functions.kernel_function:Function SQL-GetEntitySchema succeeded.\n",
            "INFO:semantic_kernel.functions.kernel_function:Function completed. Duration: 0.001303s\n",
            "INFO:httpx:HTTP Request: POST https://aoai-text2sql-adi.openai.azure.com/openai/deployments/gpt-4o/chat/completions?api-version=2024-02-01 \"HTTP/1.1 200 OK\"\n",
            "INFO:semantic_kernel.connectors.ai.open_ai.services.open_ai_handler:OpenAI usage: CompletionUsage(completion_tokens=68, prompt_tokens=2689, total_tokens=2757, completion_tokens_details=None)\n",
            "INFO:semantic_kernel.connectors.ai.chat_completion_client_base:processing 1 tool calls in parallel.\n",
            "INFO:semantic_kernel.kernel:Calling SQL-RunSQLQuery function with args: {\"sql_query\":\"SELECT TOP 1 p.Name, SUM(sd.OrderQty) AS TotalUnitsSold FROM SalesLT.SalesOrderDetail sd JOIN SalesLT.vProductAndDescription p ON sd.ProductID = p.ProductID GROUP BY p.Name ORDER BY TotalUnitsSold DESC;\"}\n",
            "INFO:semantic_kernel.functions.kernel_function:Function SQL-RunSQLQuery invoking.\n",
            "INFO:root:Executing SQL Query\n",
            "INFO:semantic_kernel.functions.kernel_function:Function SQL-RunSQLQuery succeeded.\n",
            "INFO:semantic_kernel.functions.kernel_function:Function completed. Duration: 0.305768s\n",
            "INFO:httpx:HTTP Request: POST https://aoai-text2sql-adi.openai.azure.com/openai/deployments/gpt-4o/chat/completions?api-version=2024-02-01 \"HTTP/1.1 200 OK\"\n",
            "INFO:semantic_kernel.connectors.ai.open_ai.services.open_ai_handler:OpenAI usage: CompletionUsage(completion_tokens=141, prompt_tokens=2786, total_tokens=2927, completion_tokens_details=None)\n",
            "INFO:semantic_kernel.functions.kernel_function:Function ChatBot-Chat succeeded.\n",
            "INFO:semantic_kernel.functions.kernel_function:Function completed. Duration: 4.482798s\n",
            "INFO:root:Answer: {\n",
            "  \"answer\": \"The top performing product by quantity of units sold is the 'Classic Vest, S' with a total of 522 units sold.\",\n",
            "  \"sources\": [\n",
            "    {\n",
            "      \"title\": \"Sales Order Detail\",\n",
            "      \"chunk\": \"| Name           | TotalUnitsSold |\\n|----------------|----------------|\\n| Classic Vest, S | 522            |\\n\",\n",
            "      \"reference\": \"SELECT TOP 1 p.Name, SUM(sd.OrderQty) AS TotalUnitsSold FROM SalesLT.SalesOrderDetail sd JOIN SalesLT.vProductAndDescription p ON sd.ProductID = p.ProductID GROUP BY p.Name ORDER BY TotalUnitsSold DESC;\"\n",
            "    }\n",
            "  ]\n",
            "}\n"
          ]
        },
        {
          "data": {
            "text/markdown": [
              "The top performing product by quantity of units sold is the 'Classic Vest, S' with a total of 522 units sold."
            ],
            "text/plain": [
              "<IPython.core.display.Markdown object>"
            ]
          },
          "metadata": {},
          "output_type": "display_data"
        }
      ],
      "source": [
        "await ask_question(\"What is the top performing product by quantity of units sold?\", history)"
      ]
    },
    {
      "cell_type": "code",
      "execution_count": 12,
      "metadata": {},
      "outputs": [
        {
          "name": "stderr",
          "output_type": "stream",
          "text": [
            "INFO:root:Question: Which country did we sell the most to in June 2008?\n",
            "INFO:semantic_kernel.functions.kernel_function:Function ChatBot-Chat invoking.\n",
            "INFO:semantic_kernel.contents.chat_history:Could not parse prompt <message role=\"system\">\n",
            "As a senior analyst, your primary responsibility is to provide accurate, thorough answers to user queries. Use all available functions to craft detailed final responses with clear explanations and actionable insights.\n",
            "\n",
            "- Always use the provided functions to obtain key information.\n",
            "- If a function is required, you must use it to complement the answer.\n",
            "- Use multiple functions in parallel to enhance the results.\n",
            "- Always provide an answer; never leave it blank.\n",
            "\n",
            "The response must meet the following requirements:\n",
            "\n",
            "[RESPONSE OUTPUT REQUIREMENTS]\n",
            "\n",
            "  The answer MUST be in JSON format:\n",
            "  {\n",
            "    \"answer\": \"<GENERATED ANSWER>\",\n",
            "    \"sources\": [\n",
            "      {\"title\": <SOURCE 1 TITLE>, \"chunk\": <SOURCE 1 CONTEXT CHUNK>, \"reference\": \"<SOURCE 1 REFERENCE>\"},\n",
            "      {\"title\": <SOURCE 2 TITLE>, \"chunk\": <SOURCE 2 CONTEXT CHUNK>, \"reference\": \"<SOURCE 2 REFERENCE>\"}\n",
            "    ]\n",
            "  }\n",
            "\n",
            "  [ANSWER PROPERTY REQUIREMENTS]\n",
            "    - **Language & Tone**:\n",
            "      Use British English, business-friendly language that is professional and clear.\n",
            "    - **Content Restrictions**:\n",
            "      Avoid profanity, offensive language, and code. Rephrase or omit inappropriate content.\n",
            "    - **Information Sources**:\n",
            "      Only use provided functions and important information. Prioritize SQL Database data in case of conflicts.\n",
            "    - **Calculations**:\n",
            "      Use context-provided values and explain calculations briefly.\n",
            "    - **Structure**:\n",
            "      Responses must be direct, easy to understand, and formatted using Markdown.\n",
            "      Use Level 3 and 4 headings, bold sub-headings, and lists where appropriate. Keep font size consistent.\n",
            "    - **Citations**:\n",
            "      Factual statements must be cited using numbered references like [1]. Each citation must match a source in the 'sources' object.\n",
            "\n",
            "  [SOURCES PROPERTY REQUIREMENTS]\n",
            "    - **Reference Inclusion**:\n",
            "      All cited content must have a corresponding reference in the 'sources' object.\n",
            "    - **Source Format**:\n",
            "      Each source must follow this format: {\"title\": \"<SOURCE TITLE>\", \"chunk\": \"<SOURCE CONTEXT CHUNK>\", \"reference\": \"<SOURCE REFERENCE>\"}\n",
            "    - **Source Chunk**:\n",
            "      Include a concise, unedited snippet of relevant context in the 'chunk' property.\n",
            "    - **Mandatory Citations**:\n",
            "      Every source listed must be cited at least once in the answer.\n",
            "\n",
            "[IMPORTANT INFORMATION]\n",
            "\n",
            "\n",
            "    [SQL DATABASE INFORMATION]\n",
            "    Use the names and descriptions of Microsoft TSQL Server entities provided in ENTITIES LIST to decide which entities to query if you need to retrieve information from the database. Use the &#x27;GetEntitySchema()&#x27; function to get more details of the schema of the view you want to query.\n",
            "\n",
            "        Always then use the &#x27;RunSQLQuery()&#x27; function to run the SQL query against the database. Never just return the SQL query as the answer.\n",
            "\n",
            "        Do not give the steps to the user in the response. Make sure to execute the SQL query and return the results in the response.\n",
            "\n",
            "        You must always examine the provided Microsoft TSQL Server entity descriptions to determine if they can answer the question.\n",
            "\n",
            "        [BEGIN ENTITIES LIST]\n",
            "             [BEGIN ENTITY = &#x27;SALES ORDER DETAIL&#x27;]\n",
            "                 Name=&#x27;Sales Order Detail&#x27;\n",
            "                 Description=&#x27;This table stores detailed information about sales order tickets, including the order details, customer information, order status, and timestamps. It is used to manage and track sales orders throughout the order lifecycle, from creation to fulfillment.&#x27;\n",
            "             [END ENTITY = &#x27;SALES ORDER DETAIL&#x27;]\n",
            "\n",
            "             [BEGIN ENTITY = &#x27;SALES ORDER HEADER&#x27;]\n",
            "                 Name=&#x27;Sales Order Header&#x27;\n",
            "                 Description=&#x27;This table contains high-level information about sales orders, including order dates, customer details, shipping information, and order status. It is used to manage and track sales orders from initiation to fulfillment.&#x27;\n",
            "             [END ENTITY = &#x27;SALES ORDER HEADER&#x27;]\n",
            "\n",
            "             [BEGIN ENTITY = &#x27;ADDRESS&#x27;]\n",
            "                 Name=&#x27;Address&#x27;\n",
            "                 Description=&#x27;This table stores address information for customers, including street addresses, city, state, postal code, and country/region. It is used to maintain contact and shipping information for orders, as well as to manage customer locations.&#x27;\n",
            "             [END ENTITY = &#x27;ADDRESS&#x27;]\n",
            "\n",
            "             [BEGIN ENTITY = &#x27;GET ALL CATEGORIES&#x27;]\n",
            "                 Name=&#x27;Get All Categories&#x27;\n",
            "                 Description=&#x27;This view provides a comprehensive list of all product categories and their corresponding subcategories in the SalesLT schema of the AdventureWorksLT database. It is used to understand the hierarchical structure of product categories, facilitating product organization and categorization.&#x27;\n",
            "             [END ENTITY = &#x27;GET ALL CATEGORIES&#x27;]\n",
            "\n",
            "             [BEGIN ENTITY = &#x27;PRODUCT AND DESCRIPTION&#x27;]\n",
            "                 Name=&#x27;Product and Description&#x27;\n",
            "                 Description=&#x27;This view provides detailed information about products, including their names, associated product models, descriptions, and the specific culture or language of the description. It is useful for understanding product details and translating product descriptions for different cultures.&#x27;\n",
            "             [END ENTITY = &#x27;PRODUCT AND DESCRIPTION&#x27;]\n",
            "\n",
            "             [BEGIN ENTITY = &#x27;PRODUCT MODEL CATALOG DESCRIPTION&#x27;]\n",
            "                 Name=&#x27;Product Model Catalog Description&#x27;\n",
            "                 Description=&#x27;This view provides detailed catalog information about product models, including descriptions, manufacturing details, warranty information, and specifications related to product design and features. It is useful for generating comprehensive product catalogs and providing detailed product information to customers.&#x27;\n",
            "             [END ENTITY = &#x27;PRODUCT MODEL CATALOG DESCRIPTION&#x27;]\n",
            "        [END ENTITIES LIST]\n",
            "\n",
            "        Output corresponding text values in the answer for columns where there is an ID. For example, if the column is &#x27;ProductID&#x27;, output the corresponding &#x27;ProductModel&#x27; in the response. Do not include the ID in the response.\n",
            "        If a user is asking for a comparison, always compare the relevant values in the database.\n",
            "\n",
            "        The target database engine is Microsoft TSQL Server, SQL queries must be able compatible to run on Microsoft TSQL Server. \n",
            "        The following Microsoft TSQL Server Syntax rules must be adhered to.\n",
            "        Use TOP X to limit the number of rows returned instead of LIMIT X. NEVER USE LIMIT X as it produces a syntax error.\n",
            "        Always generate the SQL query based on the GetEntitySchema() function output, do not use the chat history data to generate the SQL query.\n",
            "        Do not use any other entities and columns in your SQL query, other than those defined above. Only use the column names obtained from GetEntitySchema() when constructing a SQL query, do not make up column names.\n",
            "        You must only provide SELECT SQL queries.\n",
            "        For a given entity, use the &#x27;SelectFromEntity&#x27; property returned from &#x27;GetEntitySchema()&#x27; function in the SELECT FROM part of the SQL query. If the property is {&#x27;SelectFromEntity&#x27;: &#x27;test_schema.test_table&#x27;}, the select statement will be formulated from &#x27;SELECT &lt;VALUES&gt; FROM test_schema.test_table WHERE &lt;CONDITION&gt;.\n",
            "\n",
            "        If you don&#x27;t know how the value is formatted in a column, run a query against the column to get the unique values that might match your query.\n",
            "        Some columns returned from &#x27;GetEntitySchema()&#x27; may have the properties &#x27;AllowedValues&#x27; or &#x27;SampleValues&#x27;. Use these values to determine the possible values that can be used in the SQL query.\n",
            "\n",
            "        The source title to cite is the &#x27;entity_name&#x27; property. The source reference is the SQL query used. The source chunk is the result of the SQL query used to answer the user query in Markdown table format. e.g. { &#x27;title&#x27;: &quot;vProductAndDescription&quot;, &#x27;chunk&#x27;: &#x27;| ProductID | Name              | ProductModel | Culture | Description                      |\\n|-----------|-------------------|--------------|---------|----------------------------------|\\n| 101       | Mountain Bike     | MT-100       | en      | A durable bike for mountain use. |\\n| 102       | Road Bike         | RB-200       | en      | Lightweight bike for road use.   |\\n| 103       | Hybrid Bike       | HB-300       | fr      | V\u00e9lo hybride pour usage mixte.   |\\n&#x27;, &#x27;reference&#x27;: &#x27;SELECT ProductID, Name, ProductModel, Culture, Description FROM vProductAndDescription WHERE Culture = &quot;en&quot;;&#x27; }\n",
            "    [END SQL DATABASE INFORMATION]\n",
            "    \n",
            "\n",
            "[END]\n",
            "</message>\n",
            "<chat_history><message role=\"user\"><text>What are the different product categories we have?</text></message><message role=\"assistant\" /><message role=\"user\"><text>What is the top performing product by quantity of units sold?</text></message><message role=\"assistant\" /></chat_history>\n",
            "<message role=\"user\">Which country did we sell the most to in June 2008?</message> as xml, treating as text, error was: not well-formed (invalid token): line 15, column 32\n",
            "INFO:httpx:HTTP Request: POST https://aoai-text2sql-adi.openai.azure.com/openai/deployments/gpt-4o/chat/completions?api-version=2024-02-01 \"HTTP/1.1 200 OK\"\n",
            "INFO:semantic_kernel.connectors.ai.open_ai.services.open_ai_handler:OpenAI usage: CompletionUsage(completion_tokens=55, prompt_tokens=1940, total_tokens=1995, completion_tokens_details=None)\n",
            "INFO:semantic_kernel.connectors.ai.chat_completion_client_base:processing 2 tool calls in parallel.\n",
            "INFO:semantic_kernel.kernel:Calling SQL-GetEntitySchema function with args: {\"entity_name\": \"SALES ORDER HEADER\"}\n",
            "INFO:semantic_kernel.functions.kernel_function:Function SQL-GetEntitySchema invoking.\n",
            "INFO:semantic_kernel.functions.kernel_function:Function SQL-GetEntitySchema succeeded.\n",
            "INFO:semantic_kernel.functions.kernel_function:Function completed. Duration: 0.000813s\n",
            "INFO:semantic_kernel.kernel:Calling SQL-GetEntitySchema function with args: {\"entity_name\": \"ADDRESS\"}\n",
            "INFO:semantic_kernel.functions.kernel_function:Function SQL-GetEntitySchema invoking.\n",
            "INFO:semantic_kernel.functions.kernel_function:Function SQL-GetEntitySchema succeeded.\n",
            "INFO:semantic_kernel.functions.kernel_function:Function completed. Duration: 0.000649s\n",
            "INFO:httpx:HTTP Request: POST https://aoai-text2sql-adi.openai.azure.com/openai/deployments/gpt-4o/chat/completions?api-version=2024-02-01 \"HTTP/1.1 200 OK\"\n",
            "INFO:semantic_kernel.connectors.ai.open_ai.services.open_ai_handler:OpenAI usage: CompletionUsage(completion_tokens=88, prompt_tokens=3248, total_tokens=3336, completion_tokens_details=None)\n",
            "INFO:semantic_kernel.connectors.ai.chat_completion_client_base:processing 1 tool calls in parallel.\n",
            "INFO:semantic_kernel.kernel:Calling SQL-RunSQLQuery function with args: {\"sql_query\":\"SELECT TOP 1 a.CountryRegion, COUNT(*) AS OrderCount FROM SalesLT.SalesOrderHeader soh JOIN SalesLT.Address a ON soh.ShipToAddressID = a.AddressID WHERE MONTH(soh.OrderDate) = 6 AND YEAR(soh.OrderDate) = 2008 GROUP BY a.CountryRegion ORDER BY OrderCount DESC;\"}\n",
            "INFO:semantic_kernel.functions.kernel_function:Function SQL-RunSQLQuery invoking.\n",
            "INFO:root:Executing SQL Query\n",
            "INFO:semantic_kernel.functions.kernel_function:Function SQL-RunSQLQuery succeeded.\n",
            "INFO:semantic_kernel.functions.kernel_function:Function completed. Duration: 0.279542s\n",
            "INFO:httpx:HTTP Request: POST https://aoai-text2sql-adi.openai.azure.com/openai/deployments/gpt-4o/chat/completions?api-version=2024-02-01 \"HTTP/1.1 200 OK\"\n",
            "INFO:semantic_kernel.connectors.ai.open_ai.services.open_ai_handler:OpenAI usage: CompletionUsage(completion_tokens=275, prompt_tokens=3363, total_tokens=3638, completion_tokens_details=None)\n",
            "INFO:semantic_kernel.functions.kernel_function:Function ChatBot-Chat succeeded.\n",
            "INFO:semantic_kernel.functions.kernel_function:Function completed. Duration: 6.893387s\n",
            "INFO:root:Answer: {\n",
            "  \"answer\": \"In June 2008, the country with the highest number of sales orders was the United States, with a total of 18 orders.\",\n",
            "  \"sources\": [\n",
            "    {\n",
            "      \"title\": \"Sales Order Header\",\n",
            "      \"chunk\": \"| CountryRegion | OrderCount |\\n|---------------|------------|\\n| United States | 18         |\\n\",\n",
            "      \"reference\": \"SELECT TOP 1 a.CountryRegion, COUNT(*) AS OrderCount FROM SalesLT.SalesOrderHeader soh JOIN SalesLT.Address a ON soh.ShipToAddressID = a.AddressID WHERE MONTH(soh.OrderDate) = 6 AND YEAR(soh.OrderDate) = 2008 GROUP BY a.CountryRegion ORDER BY OrderCount DESC;\"\n",
            "    },\n",
            "    {\n",
            "      \"title\": \"Address\",\n",
            "      \"chunk\": \"| CountryRegion | OrderCount |\\n|---------------|------------|\\n| United States | 18         |\\n\",\n",
            "      \"reference\": \"SELECT TOP 1 a.CountryRegion, COUNT(*) AS OrderCount FROM SalesLT.SalesOrderHeader soh JOIN SalesLT.Address a ON soh.ShipToAddressID = a.AddressID WHERE MONTH(soh.OrderDate) = 6 AND YEAR(soh.OrderDate) = 2008 GROUP BY a.CountryRegion ORDER BY OrderCount DESC;\"\n",
            "    }\n",
            "  ]\n",
            "}\n"
          ]
        },
        {
          "data": {
            "text/markdown": [
              "In June 2008, the country with the highest number of sales orders was the United States, with a total of 18 orders."
            ],
            "text/plain": [
              "<IPython.core.display.Markdown object>"
            ]
          },
          "metadata": {},
          "output_type": "display_data"
        }
      ],
      "source": [
        "await ask_question(\"Which country did we sell the most to in June 2008?\", history)"
      ]
    },
    {
      "cell_type": "code",
      "execution_count": null,
      "metadata": {},
      "outputs": [],
      "source": []
    }
  ],
  "metadata": {
    "kernel_info": {
      "name": "python310-sdkv2"
    },
    "kernelspec": {
      "display_name": "Python 3 (ipykernel)",
      "language": "python",
      "name": "python3"
    },
    "language_info": {
      "codemirror_mode": {
        "name": "ipython",
        "version": 3
      },
      "file_extension": ".py",
      "mimetype": "text/x-python",
      "name": "python",
      "nbconvert_exporter": "python",
      "pygments_lexer": "ipython3",
      "version": "3.12.6"
    },
    "microsoft": {
      "host": {
        "AzureML": {
          "notebookHasBeenCompleted": true
        }
      },
      "ms_spell_check": {
        "ms_spell_check_language": "en"
      }
    },
    "nteract": {
      "version": "nteract-front-end@1.0.0"
    }
  },
  "nbformat": 4,
  "nbformat_minor": 2
}
